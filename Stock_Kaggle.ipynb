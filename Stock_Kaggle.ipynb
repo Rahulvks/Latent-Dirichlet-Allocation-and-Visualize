{
 "cells": [
  {
   "cell_type": "code",
   "execution_count": 143,
   "metadata": {
    "collapsed": false
   },
   "outputs": [],
   "source": [
    "import pandas as pd\n",
    "import sklearn\n",
    "from sklearn.feature_extraction.text import CountVectorizer, TfidfVectorizer\n",
    "from sklearn.linear_model import LogisticRegression\n",
    "import pandas as pd\n",
    "from datetime import date"
   ]
  },
  {
   "cell_type": "code",
   "execution_count": 72,
   "metadata": {
    "collapsed": false
   },
   "outputs": [],
   "source": [
    "data = pd.read_csv(\"/Users/Appe/Downloads/stocknews/Combined_News_DJIA.csv\")"
   ]
  },
  {
   "cell_type": "code",
   "execution_count": 132,
   "metadata": {
    "collapsed": false
   },
   "outputs": [],
   "source": [
    "metadata = data[2:27]\n"
   ]
  },
  {
   "cell_type": "code",
   "execution_count": 133,
   "metadata": {
    "collapsed": false
   },
   "outputs": [
    {
     "data": {
      "text/html": [
       "<div>\n",
       "<table border=\"1\" class=\"dataframe\">\n",
       "  <thead>\n",
       "    <tr style=\"text-align: right;\">\n",
       "      <th></th>\n",
       "      <th>Date</th>\n",
       "      <th>Label</th>\n",
       "      <th>Top1</th>\n",
       "      <th>Top2</th>\n",
       "      <th>Top3</th>\n",
       "      <th>Top4</th>\n",
       "      <th>Top5</th>\n",
       "      <th>Top6</th>\n",
       "      <th>Top7</th>\n",
       "      <th>Top8</th>\n",
       "      <th>...</th>\n",
       "      <th>Top16</th>\n",
       "      <th>Top17</th>\n",
       "      <th>Top18</th>\n",
       "      <th>Top19</th>\n",
       "      <th>Top20</th>\n",
       "      <th>Top21</th>\n",
       "      <th>Top22</th>\n",
       "      <th>Top23</th>\n",
       "      <th>Top24</th>\n",
       "      <th>Top25</th>\n",
       "    </tr>\n",
       "  </thead>\n",
       "  <tbody>\n",
       "    <tr>\n",
       "      <th>2</th>\n",
       "      <td>2008-08-12</td>\n",
       "      <td>0</td>\n",
       "      <td>b'Remember that adorable 9-year-old who sang a...</td>\n",
       "      <td>b\"Russia 'ends Georgia operation'\"</td>\n",
       "      <td>b'\"If we had no sexual harassment we would hav...</td>\n",
       "      <td>b\"Al-Qa'eda is losing support in Iraq because ...</td>\n",
       "      <td>b'Ceasefire in Georgia: Putin Outmaneuvers the...</td>\n",
       "      <td>b'Why Microsoft and Intel tried to kill the XO...</td>\n",
       "      <td>b'Stratfor: The Russo-Georgian War and the Bal...</td>\n",
       "      <td>b\"I'm Trying to Get a Sense of This Whole Geor...</td>\n",
       "      <td>...</td>\n",
       "      <td>b'U.S. troops still in Georgia (did you know t...</td>\n",
       "      <td>b'Why Russias response to Georgia was right'</td>\n",
       "      <td>b'Gorbachev accuses U.S. of making a \"serious ...</td>\n",
       "      <td>b'Russia, Georgia, and NATO: Cold War Two'</td>\n",
       "      <td>b'Remember that adorable 62-year-old who led y...</td>\n",
       "      <td>b'War in Georgia: The Israeli connection'</td>\n",
       "      <td>b'All signs point to the US encouraging Georgi...</td>\n",
       "      <td>b'Christopher King argues that the US and NATO...</td>\n",
       "      <td>b'America: The New Mexico?'</td>\n",
       "      <td>b\"BBC NEWS | Asia-Pacific | Extinction 'by man...</td>\n",
       "    </tr>\n",
       "    <tr>\n",
       "      <th>3</th>\n",
       "      <td>2008-08-13</td>\n",
       "      <td>0</td>\n",
       "      <td>b' U.S. refuses Israel weapons to attack Iran:...</td>\n",
       "      <td>b\"When the president ordered to attack Tskhinv...</td>\n",
       "      <td>b' Israel clears troops who killed Reuters cam...</td>\n",
       "      <td>b'Britain\\'s policy of being tough on drugs is...</td>\n",
       "      <td>b'Body of 14 year old found in trunk; Latest (...</td>\n",
       "      <td>b'China has moved 10 *million* quake survivors...</td>\n",
       "      <td>b\"Bush announces Operation Get All Up In Russi...</td>\n",
       "      <td>b'Russian forces sink Georgian ships '</td>\n",
       "      <td>...</td>\n",
       "      <td>b'Elephants extinct by 2020?'</td>\n",
       "      <td>b'US humanitarian missions soon in Georgia - i...</td>\n",
       "      <td>b\"Georgia's DDOS came from US sources\"</td>\n",
       "      <td>b'Russian convoy heads into Georgia, violating...</td>\n",
       "      <td>b'Israeli defence minister: US against strike ...</td>\n",
       "      <td>b'Gorbachev: We Had No Choice'</td>\n",
       "      <td>b'Witness: Russian forces head towards Tbilisi...</td>\n",
       "      <td>b' Quarter of Russians blame U.S. for conflict...</td>\n",
       "      <td>b'Georgian president  says US military will ta...</td>\n",
       "      <td>b'2006: Nobel laureate Aleksander Solzhenitsyn...</td>\n",
       "    </tr>\n",
       "  </tbody>\n",
       "</table>\n",
       "<p>2 rows × 27 columns</p>\n",
       "</div>"
      ],
      "text/plain": [
       "         Date  Label                                               Top1  \\\n",
       "2  2008-08-12      0  b'Remember that adorable 9-year-old who sang a...   \n",
       "3  2008-08-13      0  b' U.S. refuses Israel weapons to attack Iran:...   \n",
       "\n",
       "                                                Top2  \\\n",
       "2                 b\"Russia 'ends Georgia operation'\"   \n",
       "3  b\"When the president ordered to attack Tskhinv...   \n",
       "\n",
       "                                                Top3  \\\n",
       "2  b'\"If we had no sexual harassment we would hav...   \n",
       "3  b' Israel clears troops who killed Reuters cam...   \n",
       "\n",
       "                                                Top4  \\\n",
       "2  b\"Al-Qa'eda is losing support in Iraq because ...   \n",
       "3  b'Britain\\'s policy of being tough on drugs is...   \n",
       "\n",
       "                                                Top5  \\\n",
       "2  b'Ceasefire in Georgia: Putin Outmaneuvers the...   \n",
       "3  b'Body of 14 year old found in trunk; Latest (...   \n",
       "\n",
       "                                                Top6  \\\n",
       "2  b'Why Microsoft and Intel tried to kill the XO...   \n",
       "3  b'China has moved 10 *million* quake survivors...   \n",
       "\n",
       "                                                Top7  \\\n",
       "2  b'Stratfor: The Russo-Georgian War and the Bal...   \n",
       "3  b\"Bush announces Operation Get All Up In Russi...   \n",
       "\n",
       "                                                Top8  \\\n",
       "2  b\"I'm Trying to Get a Sense of This Whole Geor...   \n",
       "3             b'Russian forces sink Georgian ships '   \n",
       "\n",
       "                         ...                          \\\n",
       "2                        ...                           \n",
       "3                        ...                           \n",
       "\n",
       "                                               Top16  \\\n",
       "2  b'U.S. troops still in Georgia (did you know t...   \n",
       "3                      b'Elephants extinct by 2020?'   \n",
       "\n",
       "                                               Top17  \\\n",
       "2       b'Why Russias response to Georgia was right'   \n",
       "3  b'US humanitarian missions soon in Georgia - i...   \n",
       "\n",
       "                                               Top18  \\\n",
       "2  b'Gorbachev accuses U.S. of making a \"serious ...   \n",
       "3             b\"Georgia's DDOS came from US sources\"   \n",
       "\n",
       "                                               Top19  \\\n",
       "2         b'Russia, Georgia, and NATO: Cold War Two'   \n",
       "3  b'Russian convoy heads into Georgia, violating...   \n",
       "\n",
       "                                               Top20  \\\n",
       "2  b'Remember that adorable 62-year-old who led y...   \n",
       "3  b'Israeli defence minister: US against strike ...   \n",
       "\n",
       "                                       Top21  \\\n",
       "2  b'War in Georgia: The Israeli connection'   \n",
       "3             b'Gorbachev: We Had No Choice'   \n",
       "\n",
       "                                               Top22  \\\n",
       "2  b'All signs point to the US encouraging Georgi...   \n",
       "3  b'Witness: Russian forces head towards Tbilisi...   \n",
       "\n",
       "                                               Top23  \\\n",
       "2  b'Christopher King argues that the US and NATO...   \n",
       "3  b' Quarter of Russians blame U.S. for conflict...   \n",
       "\n",
       "                                               Top24  \\\n",
       "2                        b'America: The New Mexico?'   \n",
       "3  b'Georgian president  says US military will ta...   \n",
       "\n",
       "                                               Top25  \n",
       "2  b\"BBC NEWS | Asia-Pacific | Extinction 'by man...  \n",
       "3  b'2006: Nobel laureate Aleksander Solzhenitsyn...  \n",
       "\n",
       "[2 rows x 27 columns]"
      ]
     },
     "execution_count": 133,
     "metadata": {},
     "output_type": "execute_result"
    }
   ],
   "source": [
    "metadata.head(2)"
   ]
  },
  {
   "cell_type": "code",
   "execution_count": 73,
   "metadata": {
    "collapsed": false
   },
   "outputs": [
    {
     "data": {
      "text/html": [
       "<div>\n",
       "<table border=\"1\" class=\"dataframe\">\n",
       "  <thead>\n",
       "    <tr style=\"text-align: right;\">\n",
       "      <th></th>\n",
       "      <th>Date</th>\n",
       "      <th>Label</th>\n",
       "      <th>Top1</th>\n",
       "      <th>Top2</th>\n",
       "      <th>Top3</th>\n",
       "      <th>Top4</th>\n",
       "      <th>Top5</th>\n",
       "      <th>Top6</th>\n",
       "      <th>Top7</th>\n",
       "      <th>Top8</th>\n",
       "      <th>...</th>\n",
       "      <th>Top16</th>\n",
       "      <th>Top17</th>\n",
       "      <th>Top18</th>\n",
       "      <th>Top19</th>\n",
       "      <th>Top20</th>\n",
       "      <th>Top21</th>\n",
       "      <th>Top22</th>\n",
       "      <th>Top23</th>\n",
       "      <th>Top24</th>\n",
       "      <th>Top25</th>\n",
       "    </tr>\n",
       "  </thead>\n",
       "  <tbody>\n",
       "    <tr>\n",
       "      <th>0</th>\n",
       "      <td>2008-08-08</td>\n",
       "      <td>0</td>\n",
       "      <td>b\"Georgia 'downs two Russian warplanes' as cou...</td>\n",
       "      <td>b'BREAKING: Musharraf to be impeached.'</td>\n",
       "      <td>b'Russia Today: Columns of troops roll into So...</td>\n",
       "      <td>b'Russian tanks are moving towards the capital...</td>\n",
       "      <td>b\"Afghan children raped with 'impunity,' U.N. ...</td>\n",
       "      <td>b'150 Russian tanks have entered South Ossetia...</td>\n",
       "      <td>b\"Breaking: Georgia invades South Ossetia, Rus...</td>\n",
       "      <td>b\"The 'enemy combatent' trials are nothing but...</td>\n",
       "      <td>...</td>\n",
       "      <td>b'Georgia Invades South Ossetia - if Russia ge...</td>\n",
       "      <td>b'Al-Qaeda Faces Islamist Backlash'</td>\n",
       "      <td>b'Condoleezza Rice: \"The US would not act to p...</td>\n",
       "      <td>b'This is a busy day:  The European Union has ...</td>\n",
       "      <td>b\"Georgia will withdraw 1,000 soldiers from Ir...</td>\n",
       "      <td>b'Why the Pentagon Thinks Attacking Iran is a ...</td>\n",
       "      <td>b'Caucasus in crisis: Georgia invades South Os...</td>\n",
       "      <td>b'Indian shoe manufactory  - And again in a se...</td>\n",
       "      <td>b'Visitors Suffering from Mental Illnesses Ban...</td>\n",
       "      <td>b\"No Help for Mexico's Kidnapping Surge\"</td>\n",
       "    </tr>\n",
       "    <tr>\n",
       "      <th>1</th>\n",
       "      <td>2008-08-11</td>\n",
       "      <td>1</td>\n",
       "      <td>b'Why wont America and Nato help us? If they w...</td>\n",
       "      <td>b'Bush puts foot down on Georgian conflict'</td>\n",
       "      <td>b\"Jewish Georgian minister: Thanks to Israeli ...</td>\n",
       "      <td>b'Georgian army flees in disarray as Russians ...</td>\n",
       "      <td>b\"Olympic opening ceremony fireworks 'faked'\"</td>\n",
       "      <td>b'What were the Mossad with fraudulent New Zea...</td>\n",
       "      <td>b'Russia angered by Israeli military sale to G...</td>\n",
       "      <td>b'An American citizen living in S.Ossetia blam...</td>\n",
       "      <td>...</td>\n",
       "      <td>b'Israel and the US behind the Georgian aggres...</td>\n",
       "      <td>b'\"Do not believe TV, neither Russian nor Geor...</td>\n",
       "      <td>b'Riots are still going on in Montreal (Canada...</td>\n",
       "      <td>b'China to overtake US as largest manufacturer'</td>\n",
       "      <td>b'War in South Ossetia [PICS]'</td>\n",
       "      <td>b'Israeli Physicians Group Condemns State Tort...</td>\n",
       "      <td>b' Russia has just beaten the United States ov...</td>\n",
       "      <td>b'Perhaps *the* question about the Georgia - R...</td>\n",
       "      <td>b'Russia is so much better at war'</td>\n",
       "      <td>b\"So this is what it's come to: trading sex fo...</td>\n",
       "    </tr>\n",
       "    <tr>\n",
       "      <th>2</th>\n",
       "      <td>2008-08-12</td>\n",
       "      <td>0</td>\n",
       "      <td>b'Remember that adorable 9-year-old who sang a...</td>\n",
       "      <td>b\"Russia 'ends Georgia operation'\"</td>\n",
       "      <td>b'\"If we had no sexual harassment we would hav...</td>\n",
       "      <td>b\"Al-Qa'eda is losing support in Iraq because ...</td>\n",
       "      <td>b'Ceasefire in Georgia: Putin Outmaneuvers the...</td>\n",
       "      <td>b'Why Microsoft and Intel tried to kill the XO...</td>\n",
       "      <td>b'Stratfor: The Russo-Georgian War and the Bal...</td>\n",
       "      <td>b\"I'm Trying to Get a Sense of This Whole Geor...</td>\n",
       "      <td>...</td>\n",
       "      <td>b'U.S. troops still in Georgia (did you know t...</td>\n",
       "      <td>b'Why Russias response to Georgia was right'</td>\n",
       "      <td>b'Gorbachev accuses U.S. of making a \"serious ...</td>\n",
       "      <td>b'Russia, Georgia, and NATO: Cold War Two'</td>\n",
       "      <td>b'Remember that adorable 62-year-old who led y...</td>\n",
       "      <td>b'War in Georgia: The Israeli connection'</td>\n",
       "      <td>b'All signs point to the US encouraging Georgi...</td>\n",
       "      <td>b'Christopher King argues that the US and NATO...</td>\n",
       "      <td>b'America: The New Mexico?'</td>\n",
       "      <td>b\"BBC NEWS | Asia-Pacific | Extinction 'by man...</td>\n",
       "    </tr>\n",
       "  </tbody>\n",
       "</table>\n",
       "<p>3 rows × 27 columns</p>\n",
       "</div>"
      ],
      "text/plain": [
       "         Date  Label                                               Top1  \\\n",
       "0  2008-08-08      0  b\"Georgia 'downs two Russian warplanes' as cou...   \n",
       "1  2008-08-11      1  b'Why wont America and Nato help us? If they w...   \n",
       "2  2008-08-12      0  b'Remember that adorable 9-year-old who sang a...   \n",
       "\n",
       "                                          Top2  \\\n",
       "0      b'BREAKING: Musharraf to be impeached.'   \n",
       "1  b'Bush puts foot down on Georgian conflict'   \n",
       "2           b\"Russia 'ends Georgia operation'\"   \n",
       "\n",
       "                                                Top3  \\\n",
       "0  b'Russia Today: Columns of troops roll into So...   \n",
       "1  b\"Jewish Georgian minister: Thanks to Israeli ...   \n",
       "2  b'\"If we had no sexual harassment we would hav...   \n",
       "\n",
       "                                                Top4  \\\n",
       "0  b'Russian tanks are moving towards the capital...   \n",
       "1  b'Georgian army flees in disarray as Russians ...   \n",
       "2  b\"Al-Qa'eda is losing support in Iraq because ...   \n",
       "\n",
       "                                                Top5  \\\n",
       "0  b\"Afghan children raped with 'impunity,' U.N. ...   \n",
       "1      b\"Olympic opening ceremony fireworks 'faked'\"   \n",
       "2  b'Ceasefire in Georgia: Putin Outmaneuvers the...   \n",
       "\n",
       "                                                Top6  \\\n",
       "0  b'150 Russian tanks have entered South Ossetia...   \n",
       "1  b'What were the Mossad with fraudulent New Zea...   \n",
       "2  b'Why Microsoft and Intel tried to kill the XO...   \n",
       "\n",
       "                                                Top7  \\\n",
       "0  b\"Breaking: Georgia invades South Ossetia, Rus...   \n",
       "1  b'Russia angered by Israeli military sale to G...   \n",
       "2  b'Stratfor: The Russo-Georgian War and the Bal...   \n",
       "\n",
       "                                                Top8  \\\n",
       "0  b\"The 'enemy combatent' trials are nothing but...   \n",
       "1  b'An American citizen living in S.Ossetia blam...   \n",
       "2  b\"I'm Trying to Get a Sense of This Whole Geor...   \n",
       "\n",
       "                         ...                          \\\n",
       "0                        ...                           \n",
       "1                        ...                           \n",
       "2                        ...                           \n",
       "\n",
       "                                               Top16  \\\n",
       "0  b'Georgia Invades South Ossetia - if Russia ge...   \n",
       "1  b'Israel and the US behind the Georgian aggres...   \n",
       "2  b'U.S. troops still in Georgia (did you know t...   \n",
       "\n",
       "                                               Top17  \\\n",
       "0                b'Al-Qaeda Faces Islamist Backlash'   \n",
       "1  b'\"Do not believe TV, neither Russian nor Geor...   \n",
       "2       b'Why Russias response to Georgia was right'   \n",
       "\n",
       "                                               Top18  \\\n",
       "0  b'Condoleezza Rice: \"The US would not act to p...   \n",
       "1  b'Riots are still going on in Montreal (Canada...   \n",
       "2  b'Gorbachev accuses U.S. of making a \"serious ...   \n",
       "\n",
       "                                               Top19  \\\n",
       "0  b'This is a busy day:  The European Union has ...   \n",
       "1    b'China to overtake US as largest manufacturer'   \n",
       "2         b'Russia, Georgia, and NATO: Cold War Two'   \n",
       "\n",
       "                                               Top20  \\\n",
       "0  b\"Georgia will withdraw 1,000 soldiers from Ir...   \n",
       "1                     b'War in South Ossetia [PICS]'   \n",
       "2  b'Remember that adorable 62-year-old who led y...   \n",
       "\n",
       "                                               Top21  \\\n",
       "0  b'Why the Pentagon Thinks Attacking Iran is a ...   \n",
       "1  b'Israeli Physicians Group Condemns State Tort...   \n",
       "2          b'War in Georgia: The Israeli connection'   \n",
       "\n",
       "                                               Top22  \\\n",
       "0  b'Caucasus in crisis: Georgia invades South Os...   \n",
       "1  b' Russia has just beaten the United States ov...   \n",
       "2  b'All signs point to the US encouraging Georgi...   \n",
       "\n",
       "                                               Top23  \\\n",
       "0  b'Indian shoe manufactory  - And again in a se...   \n",
       "1  b'Perhaps *the* question about the Georgia - R...   \n",
       "2  b'Christopher King argues that the US and NATO...   \n",
       "\n",
       "                                               Top24  \\\n",
       "0  b'Visitors Suffering from Mental Illnesses Ban...   \n",
       "1                 b'Russia is so much better at war'   \n",
       "2                        b'America: The New Mexico?'   \n",
       "\n",
       "                                               Top25  \n",
       "0           b\"No Help for Mexico's Kidnapping Surge\"  \n",
       "1  b\"So this is what it's come to: trading sex fo...  \n",
       "2  b\"BBC NEWS | Asia-Pacific | Extinction 'by man...  \n",
       "\n",
       "[3 rows x 27 columns]"
      ]
     },
     "execution_count": 73,
     "metadata": {},
     "output_type": "execute_result"
    }
   ],
   "source": [
    "data.head(3)"
   ]
  },
  {
   "cell_type": "code",
   "execution_count": 74,
   "metadata": {
    "collapsed": false
   },
   "outputs": [],
   "source": [
    "train = data[data['Date'] < '2015-01-01']\n",
    "test = data[data['Date'] > '2014-12-31']"
   ]
  },
  {
   "cell_type": "code",
   "execution_count": 75,
   "metadata": {
    "collapsed": false
   },
   "outputs": [
    {
     "data": {
      "text/plain": [
       "378"
      ]
     },
     "execution_count": 75,
     "metadata": {},
     "output_type": "execute_result"
    }
   ],
   "source": [
    "len(test)"
   ]
  },
  {
   "cell_type": "code",
   "execution_count": 76,
   "metadata": {
    "collapsed": false
   },
   "outputs": [
    {
     "data": {
      "text/plain": [
       "1611"
      ]
     },
     "execution_count": 76,
     "metadata": {},
     "output_type": "execute_result"
    }
   ],
   "source": [
    "len(train)"
   ]
  },
  {
   "cell_type": "code",
   "execution_count": 77,
   "metadata": {
    "collapsed": false
   },
   "outputs": [],
   "source": [
    "trainheadlines = []\n",
    "for row in range(0,len(train.index)):\n",
    "    trainheadlines.append(' '.join(str(x) for x in train.iloc[row,2:27]))"
   ]
  },
  {
   "cell_type": "code",
   "execution_count": 78,
   "metadata": {
    "collapsed": false
   },
   "outputs": [],
   "source": [
    "trainvect = CountVectorizer()"
   ]
  },
  {
   "cell_type": "code",
   "execution_count": 79,
   "metadata": {
    "collapsed": false
   },
   "outputs": [],
   "source": [
    "Trainfeature = trainvect.fit_transform(trainheadlines)"
   ]
  },
  {
   "cell_type": "code",
   "execution_count": 80,
   "metadata": {
    "collapsed": false
   },
   "outputs": [],
   "source": [
    "####Detailed view of Document Count Matrix\n",
    "DTM_With_Colm = pd.DataFrame(Trainfeature.toarray(),columns= trainvect.get_feature_names())"
   ]
  },
  {
   "cell_type": "code",
   "execution_count": 81,
   "metadata": {
    "collapsed": false
   },
   "outputs": [
    {
     "data": {
      "text/plain": [
       "(1611, 31675)"
      ]
     },
     "execution_count": 81,
     "metadata": {},
     "output_type": "execute_result"
    }
   ],
   "source": [
    "Trainfeature.shape"
   ]
  },
  {
   "cell_type": "code",
   "execution_count": 82,
   "metadata": {
    "collapsed": false
   },
   "outputs": [],
   "source": [
    "Logis = LogisticRegression()"
   ]
  },
  {
   "cell_type": "code",
   "execution_count": 83,
   "metadata": {
    "collapsed": false
   },
   "outputs": [],
   "source": [
    "Model1 = Logis.fit(Trainfeature,train['Label'])"
   ]
  },
  {
   "cell_type": "code",
   "execution_count": 84,
   "metadata": {
    "collapsed": false
   },
   "outputs": [
    {
     "data": {
      "text/plain": [
       "LogisticRegression(C=1.0, class_weight=None, dual=False, fit_intercept=True,\n",
       "          intercept_scaling=1, max_iter=100, multi_class='ovr', n_jobs=1,\n",
       "          penalty='l2', random_state=None, solver='liblinear', tol=0.0001,\n",
       "          verbose=0, warm_start=False)"
      ]
     },
     "execution_count": 84,
     "metadata": {},
     "output_type": "execute_result"
    }
   ],
   "source": [
    "Model1\n"
   ]
  },
  {
   "cell_type": "code",
   "execution_count": 85,
   "metadata": {
    "collapsed": false
   },
   "outputs": [],
   "source": [
    "testheadlines =[]\n",
    "for row in range(0,len(test.index)):\n",
    "    testheadlines.append(' '.join(str(x) for x in test.iloc[row,2:27]))"
   ]
  },
  {
   "cell_type": "code",
   "execution_count": 86,
   "metadata": {
    "collapsed": false
   },
   "outputs": [
    {
     "data": {
      "text/plain": [
       "378"
      ]
     },
     "execution_count": 86,
     "metadata": {},
     "output_type": "execute_result"
    }
   ],
   "source": [
    "len(testheadlines)"
   ]
  },
  {
   "cell_type": "code",
   "execution_count": 87,
   "metadata": {
    "collapsed": false
   },
   "outputs": [],
   "source": [
    "Testfeature = trainvect.transform(testheadlines)\n"
   ]
  },
  {
   "cell_type": "code",
   "execution_count": 88,
   "metadata": {
    "collapsed": false
   },
   "outputs": [
    {
     "data": {
      "text/plain": [
       "(378, 31675)"
      ]
     },
     "execution_count": 88,
     "metadata": {},
     "output_type": "execute_result"
    }
   ],
   "source": [
    "Testfeature.shape"
   ]
  },
  {
   "cell_type": "code",
   "execution_count": 89,
   "metadata": {
    "collapsed": false
   },
   "outputs": [],
   "source": [
    "Predicted = Model1.predict(Testfeature)"
   ]
  },
  {
   "cell_type": "code",
   "execution_count": 90,
   "metadata": {
    "collapsed": false
   },
   "outputs": [
    {
     "data": {
      "text/plain": [
       "(378,)"
      ]
     },
     "execution_count": 90,
     "metadata": {},
     "output_type": "execute_result"
    }
   ],
   "source": [
    "Predicted.shape"
   ]
  },
  {
   "cell_type": "code",
   "execution_count": 91,
   "metadata": {
    "collapsed": false
   },
   "outputs": [
    {
     "data": {
      "text/html": [
       "<div>\n",
       "<table border=\"1\" class=\"dataframe\">\n",
       "  <thead>\n",
       "    <tr style=\"text-align: right;\">\n",
       "      <th>Predict</th>\n",
       "      <th>0</th>\n",
       "      <th>1</th>\n",
       "    </tr>\n",
       "    <tr>\n",
       "      <th>Actual</th>\n",
       "      <th></th>\n",
       "      <th></th>\n",
       "    </tr>\n",
       "  </thead>\n",
       "  <tbody>\n",
       "    <tr>\n",
       "      <th>0</th>\n",
       "      <td>61</td>\n",
       "      <td>125</td>\n",
       "    </tr>\n",
       "    <tr>\n",
       "      <th>1</th>\n",
       "      <td>92</td>\n",
       "      <td>100</td>\n",
       "    </tr>\n",
       "  </tbody>\n",
       "</table>\n",
       "</div>"
      ],
      "text/plain": [
       "Predict   0    1\n",
       "Actual          \n",
       "0        61  125\n",
       "1        92  100"
      ]
     },
     "execution_count": 91,
     "metadata": {},
     "output_type": "execute_result"
    }
   ],
   "source": [
    "pd.crosstab(test[\"Label\"], Predicted , rownames=[\"Actual\"] , colnames= [\"Predict\"])"
   ]
  },
  {
   "cell_type": "code",
   "execution_count": 92,
   "metadata": {
    "collapsed": false
   },
   "outputs": [],
   "source": [
    "from sklearn.naive_bayes import MultinomialNB\n",
    "\n",
    "Nb = MultinomialNB()"
   ]
  },
  {
   "cell_type": "code",
   "execution_count": 93,
   "metadata": {
    "collapsed": false
   },
   "outputs": [],
   "source": [
    "Model2 = Nb.fit(Trainfeature,train['Label'])"
   ]
  },
  {
   "cell_type": "code",
   "execution_count": 94,
   "metadata": {
    "collapsed": false
   },
   "outputs": [],
   "source": [
    "Nbpredicted = Model2.predict(Testfeature)"
   ]
  },
  {
   "cell_type": "code",
   "execution_count": 95,
   "metadata": {
    "collapsed": false
   },
   "outputs": [
    {
     "data": {
      "text/plain": [
       "(378,)"
      ]
     },
     "execution_count": 95,
     "metadata": {},
     "output_type": "execute_result"
    }
   ],
   "source": [
    "Nbpredicted.shape"
   ]
  },
  {
   "cell_type": "code",
   "execution_count": 96,
   "metadata": {
    "collapsed": false
   },
   "outputs": [
    {
     "data": {
      "text/html": [
       "<div>\n",
       "<table border=\"1\" class=\"dataframe\">\n",
       "  <thead>\n",
       "    <tr style=\"text-align: right;\">\n",
       "      <th>Predict</th>\n",
       "      <th>0</th>\n",
       "      <th>1</th>\n",
       "    </tr>\n",
       "    <tr>\n",
       "      <th>Acutal</th>\n",
       "      <th></th>\n",
       "      <th></th>\n",
       "    </tr>\n",
       "  </thead>\n",
       "  <tbody>\n",
       "    <tr>\n",
       "      <th>0</th>\n",
       "      <td>46</td>\n",
       "      <td>140</td>\n",
       "    </tr>\n",
       "    <tr>\n",
       "      <th>1</th>\n",
       "      <td>51</td>\n",
       "      <td>141</td>\n",
       "    </tr>\n",
       "  </tbody>\n",
       "</table>\n",
       "</div>"
      ],
      "text/plain": [
       "Predict   0    1\n",
       "Acutal          \n",
       "0        46  140\n",
       "1        51  141"
      ]
     },
     "execution_count": 96,
     "metadata": {},
     "output_type": "execute_result"
    }
   ],
   "source": [
    "pd.crosstab(test[\"Label\"], Nbpredicted, rownames= [\"Acutal\"],colnames=[\"Predict\"])"
   ]
  },
  {
   "cell_type": "code",
   "execution_count": 97,
   "metadata": {
    "collapsed": false
   },
   "outputs": [],
   "source": [
    "import numpy as np"
   ]
  },
  {
   "cell_type": "code",
   "execution_count": 98,
   "metadata": {
    "collapsed": false
   },
   "outputs": [],
   "source": [
    "from sklearn.metrics import accuracy_score"
   ]
  },
  {
   "cell_type": "code",
   "execution_count": 99,
   "metadata": {
    "collapsed": false
   },
   "outputs": [],
   "source": [
    "y_NaviBayes = Nbpredicted"
   ]
  },
  {
   "cell_type": "code",
   "execution_count": 100,
   "metadata": {
    "collapsed": false
   },
   "outputs": [],
   "source": [
    "y_true = test[\"Label\"]"
   ]
  },
  {
   "cell_type": "code",
   "execution_count": 101,
   "metadata": {
    "collapsed": false
   },
   "outputs": [
    {
     "data": {
      "text/plain": [
       "0.49470899470899471"
      ]
     },
     "execution_count": 101,
     "metadata": {},
     "output_type": "execute_result"
    }
   ],
   "source": [
    "accuracy_score(y_NaviBayes,y_true)\n"
   ]
  },
  {
   "cell_type": "code",
   "execution_count": 102,
   "metadata": {
    "collapsed": false
   },
   "outputs": [],
   "source": [
    "x_Logist = Predicted\n",
    "x_true = test[\"Label\"]"
   ]
  },
  {
   "cell_type": "code",
   "execution_count": 103,
   "metadata": {
    "collapsed": false
   },
   "outputs": [
    {
     "data": {
      "text/plain": [
       "0.42592592592592593"
      ]
     },
     "execution_count": 103,
     "metadata": {},
     "output_type": "execute_result"
    }
   ],
   "source": [
    "accuracy_score(x_Logist,x_true)"
   ]
  },
  {
   "cell_type": "code",
   "execution_count": 104,
   "metadata": {
    "collapsed": false
   },
   "outputs": [],
   "source": [
    "########Ngram Model#######################"
   ]
  },
  {
   "cell_type": "code",
   "execution_count": 105,
   "metadata": {
    "collapsed": false
   },
   "outputs": [],
   "source": [
    "advvect = CountVectorizer(ngram_range=(1,2))"
   ]
  },
  {
   "cell_type": "code",
   "execution_count": 106,
   "metadata": {
    "collapsed": false,
    "scrolled": true
   },
   "outputs": [
    {
     "name": "stdout",
     "output_type": "stream",
     "text": [
      "CPU times: user 4 µs, sys: 1 µs, total: 5 µs\n",
      "Wall time: 8.11 µs\n"
     ]
    }
   ],
   "source": [
    "%time\n",
    "advancedtrain = advvect.fit_transform(trainheadlines)"
   ]
  },
  {
   "cell_type": "code",
   "execution_count": 107,
   "metadata": {
    "collapsed": false
   },
   "outputs": [
    {
     "data": {
      "text/plain": [
       "(1611, 398396)"
      ]
     },
     "execution_count": 107,
     "metadata": {},
     "output_type": "execute_result"
    }
   ],
   "source": [
    "advancedtrain.shape"
   ]
  },
  {
   "cell_type": "code",
   "execution_count": 108,
   "metadata": {
    "collapsed": false
   },
   "outputs": [],
   "source": [
    "advmodel = MultinomialNB()"
   ]
  },
  {
   "cell_type": "code",
   "execution_count": 109,
   "metadata": {
    "collapsed": false
   },
   "outputs": [],
   "source": [
    "advancemodel = advmodel.fit(advancedtrain,train[\"Label\"])"
   ]
  },
  {
   "cell_type": "code",
   "execution_count": 110,
   "metadata": {
    "collapsed": false
   },
   "outputs": [],
   "source": [
    "advancetest = advvect.transform(testheadlines)"
   ]
  },
  {
   "cell_type": "code",
   "execution_count": 111,
   "metadata": {
    "collapsed": false
   },
   "outputs": [],
   "source": [
    "advNBprediction = advmodel.predict(advancetest) "
   ]
  },
  {
   "cell_type": "code",
   "execution_count": 112,
   "metadata": {
    "collapsed": false
   },
   "outputs": [
    {
     "data": {
      "text/plain": [
       "(378,)"
      ]
     },
     "execution_count": 112,
     "metadata": {},
     "output_type": "execute_result"
    }
   ],
   "source": [
    "advNBprediction.shape"
   ]
  },
  {
   "cell_type": "code",
   "execution_count": 113,
   "metadata": {
    "collapsed": false
   },
   "outputs": [
    {
     "data": {
      "text/html": [
       "<div>\n",
       "<table border=\"1\" class=\"dataframe\">\n",
       "  <thead>\n",
       "    <tr style=\"text-align: right;\">\n",
       "      <th>Predicted</th>\n",
       "      <th>0</th>\n",
       "      <th>1</th>\n",
       "    </tr>\n",
       "    <tr>\n",
       "      <th>Acutal</th>\n",
       "      <th></th>\n",
       "      <th></th>\n",
       "    </tr>\n",
       "  </thead>\n",
       "  <tbody>\n",
       "    <tr>\n",
       "      <th>0</th>\n",
       "      <td>3</td>\n",
       "      <td>183</td>\n",
       "    </tr>\n",
       "    <tr>\n",
       "      <th>1</th>\n",
       "      <td>0</td>\n",
       "      <td>192</td>\n",
       "    </tr>\n",
       "  </tbody>\n",
       "</table>\n",
       "</div>"
      ],
      "text/plain": [
       "Predicted  0    1\n",
       "Acutal           \n",
       "0          3  183\n",
       "1          0  192"
      ]
     },
     "execution_count": 113,
     "metadata": {},
     "output_type": "execute_result"
    }
   ],
   "source": [
    "pd.crosstab(test[\"Label\"],advNBprediction, rownames=[\"Acutal\"],colnames=[\"Predicted\"])"
   ]
  },
  {
   "cell_type": "code",
   "execution_count": 114,
   "metadata": {
    "collapsed": false
   },
   "outputs": [],
   "source": [
    "x_adNB = advNBprediction\n",
    "x_test = test[\"Label\"]\n"
   ]
  },
  {
   "cell_type": "code",
   "execution_count": 115,
   "metadata": {
    "collapsed": false
   },
   "outputs": [
    {
     "data": {
      "text/plain": [
       "0.51587301587301593"
      ]
     },
     "execution_count": 115,
     "metadata": {},
     "output_type": "execute_result"
    }
   ],
   "source": [
    "accuracy_score(x_test,x_adNB)"
   ]
  },
  {
   "cell_type": "code",
   "execution_count": 116,
   "metadata": {
    "collapsed": false
   },
   "outputs": [],
   "source": [
    "\n",
    "from sklearn import metrics\n"
   ]
  },
  {
   "cell_type": "code",
   "execution_count": 117,
   "metadata": {
    "collapsed": false
   },
   "outputs": [
    {
     "data": {
      "text/plain": [
       "0.51587301587301593"
      ]
     },
     "execution_count": 117,
     "metadata": {},
     "output_type": "execute_result"
    }
   ],
   "source": [
    "metrics.accuracy_score(x_test,x_adNB)"
   ]
  },
  {
   "cell_type": "markdown",
   "metadata": {},
   "source": [
    "Topic Modeling and tsne"
   ]
  },
  {
   "cell_type": "code",
   "execution_count": 118,
   "metadata": {
    "collapsed": false
   },
   "outputs": [],
   "source": [
    "from nltk.tokenize import RegexpTokenizer\n",
    "from stop_words import get_stop_words\n",
    "from nltk.stem.porter import PorterStemmer\n",
    "from gensim import corpora, models\n",
    "import gensim"
   ]
  },
  {
   "cell_type": "code",
   "execution_count": 119,
   "metadata": {
    "collapsed": false
   },
   "outputs": [
    {
     "name": "stdout",
     "output_type": "stream",
     "text": [
      "CPU times: user 6 µs, sys: 2 µs, total: 8 µs\n",
      "Wall time: 16 µs\n"
     ]
    }
   ],
   "source": [
    "%time\n",
    "tokenizer = RegexpTokenizer(r'\\w+')\n",
    "\n",
    "# create English stop words list\n",
    "en_stop = get_stop_words('en')\n",
    "\n",
    "# Create p_stemmer of class PorterStemmer\n",
    "p_stemmer = PorterStemmer()\n",
    "    \n",
    "#Our Document\n",
    "trainheadlines\n",
    "\n",
    "# list for tokenized documents in loop\n",
    "texts = []\n",
    "\n",
    "# loop through document list\n",
    "for i in trainheadlines:\n",
    "    \n",
    "    # clean and tokenize document string\n",
    "    raw = i.lower()\n",
    "    tokens = tokenizer.tokenize(raw)\n",
    "\n",
    "    # remove stop words from tokens\n",
    "    stopped_tokens = [i for i in tokens if not i in en_stop]\n",
    "    \n",
    "    # stem tokens\n",
    "    stemmed_tokens = [p_stemmer.stem(i) for i in stopped_tokens]\n",
    "    \n",
    "    # add tokens to list\n",
    "    texts.append(stemmed_tokens)\n",
    "\n",
    "# turn our tokenized documents into a id <-> term dictionary\n",
    "dictionary = corpora.Dictionary(texts)\n",
    "    \n",
    "# convert tokenized documents into a document-term matrix\n",
    "corpus = [dictionary.doc2bow(text) for text in texts]\n"
   ]
  },
  {
   "cell_type": "code",
   "execution_count": 171,
   "metadata": {
    "collapsed": false
   },
   "outputs": [
    {
     "name": "stdout",
     "output_type": "stream",
     "text": [
      "CPU times: user 5 µs, sys: 1e+03 ns, total: 6 µs\n",
      "Wall time: 35 µs\n"
     ]
    }
   ],
   "source": [
    "%time\n",
    "#generate LDA\n",
    "ldamodel = gensim.models.ldamodel.LdaModel(corpus, num_topics=10, id2word = dictionary)\n"
   ]
  },
  {
   "cell_type": "code",
   "execution_count": 172,
   "metadata": {
    "collapsed": false
   },
   "outputs": [
    {
     "name": "stdout",
     "output_type": "stream",
     "text": [
      "CPU times: user 5 µs, sys: 1e+03 ns, total: 6 µs\n",
      "Wall time: 12.9 µs\n",
      "[(5, u'0.038*\"b\" + 0.013*\"s\" + 0.006*\"israel\"'), (8, u'0.034*\"b\" + 0.019*\"s\" + 0.005*\"say\"'), (2, u'0.016*\"s\" + 0.006*\"say\" + 0.006*\"us\"')]\n"
     ]
    }
   ],
   "source": [
    "%time\n",
    "print(ldamodel.print_topics(num_topics=3, num_words=3))\n"
   ]
  },
  {
   "cell_type": "code",
   "execution_count": 165,
   "metadata": {
    "collapsed": false,
    "scrolled": true
   },
   "outputs": [
    {
     "data": {
      "text/plain": [
       "[(9,\n",
       "  u'0.042*\"b\" + 0.013*\"s\" + 0.006*\"kill\" + 0.005*\"us\" + 0.004*\"world\" + 0.004*\"protest\" + 0.004*\"year\" + 0.004*\"polic\" + 0.004*\"say\" + 0.004*\"new\"'),\n",
       " (7,\n",
       "  u'0.027*\"b\" + 0.017*\"s\" + 0.005*\"kill\" + 0.005*\"year\" + 0.004*\"world\" + 0.004*\"polic\" + 0.004*\"will\" + 0.004*\"countri\" + 0.004*\"peopl\" + 0.004*\"china\"'),\n",
       " (2,\n",
       "  u'0.014*\"s\" + 0.008*\"say\" + 0.007*\"b\" + 0.005*\"world\" + 0.005*\"year\" + 0.004*\"govern\" + 0.004*\"us\" + 0.004*\"israel\" + 0.004*\"iran\" + 0.004*\"china\"'),\n",
       " (0,\n",
       "  u'0.046*\"b\" + 0.011*\"s\" + 0.007*\"us\" + 0.006*\"year\" + 0.006*\"israel\" + 0.005*\"say\" + 0.004*\"war\" + 0.004*\"govern\" + 0.003*\"world\" + 0.003*\"will\"'),\n",
       " (1,\n",
       "  u'0.040*\"b\" + 0.021*\"s\" + 0.005*\"new\" + 0.005*\"us\" + 0.004*\"year\" + 0.004*\"say\" + 0.004*\"peopl\" + 0.004*\"israel\" + 0.003*\"china\" + 0.003*\"govern\"')]"
      ]
     },
     "execution_count": 165,
     "metadata": {},
     "output_type": "execute_result"
    }
   ],
   "source": [
    "ldamodel.show_topics(5)"
   ]
  },
  {
   "cell_type": "code",
   "execution_count": 166,
   "metadata": {
    "collapsed": true
   },
   "outputs": [],
   "source": [
    "import pyLDAvis.gensim"
   ]
  },
  {
   "cell_type": "code",
   "execution_count": 167,
   "metadata": {
    "collapsed": false
   },
   "outputs": [],
   "source": [
    "pyLDAvis.enable_notebook()\n",
    "\n",
    "news = pyLDAvis.gensim.prepare(ldamodel,corpus, dictionary)\n"
   ]
  },
  {
   "cell_type": "code",
   "execution_count": 168,
   "metadata": {
    "collapsed": false,
    "scrolled": false
   },
   "outputs": [
    {
     "data": {
      "text/html": [
       "\n",
       "<link rel=\"stylesheet\" type=\"text/css\" href=\"https://cdn.rawgit.com/bmabey/pyLDAvis/files/ldavis.v1.0.0.css\">\n",
       "\n",
       "\n",
       "<div id=\"ldavis_el349946873884969915963793\"></div>\n",
       "<script type=\"text/javascript\">\n",
       "\n",
       "var ldavis_el349946873884969915963793_data = {\"plot.opts\": {\"xlab\": \"PC1\", \"ylab\": \"PC2\"}, \"topic.order\": [6, 4, 7, 1, 2, 8, 10, 9, 3, 5], \"token.table\": {\"Topic\": [1, 2, 3, 4, 5, 6, 7, 8, 9, 10, 1, 2, 3, 4, 5, 6, 7, 8, 9, 10, 3, 1, 1, 2, 4, 6, 1, 2, 3, 4, 5, 6, 7, 8, 9, 10, 1, 4, 1, 5, 1, 2, 3, 4, 5, 6, 7, 8, 9, 10, 1, 2, 3, 4, 5, 6, 7, 8, 9, 10, 1, 5, 1, 2, 3, 4, 5, 6, 7, 8, 9, 10, 3, 1, 2, 3, 4, 5, 6, 7, 8, 9, 10, 1, 2, 3, 4, 5, 6, 7, 8, 9, 10, 1, 3, 6, 1, 2, 3, 4, 5, 6, 7, 8, 9, 10, 4, 1, 2, 3, 4, 5, 6, 7, 8, 9, 10, 1, 2, 3, 4, 5, 6, 7, 8, 9, 10, 1, 2, 3, 4, 5, 6, 7, 8, 9, 10, 1, 2, 3, 4, 5, 6, 7, 8, 9, 10, 5, 5, 1, 2, 3, 4, 5, 6, 7, 8, 9, 10, 4, 4, 1, 2, 3, 4, 5, 6, 7, 8, 9, 10, 3, 1, 2, 3, 4, 5, 6, 7, 8, 5, 1, 2, 3, 4, 5, 6, 7, 8, 9, 10, 1, 2, 3, 4, 5, 6, 7, 8, 9, 10, 1, 2, 3, 4, 5, 6, 7, 8, 9, 10, 1, 2, 4, 1, 2, 3, 4, 5, 6, 7, 8, 9, 10, 1, 2, 3, 4, 5, 6, 7, 8, 9, 10, 4, 1, 2, 3, 4, 5, 6, 7, 8, 9, 10, 1, 2, 3, 4, 5, 6, 7, 8, 9, 10, 3, 2, 3, 1, 2, 3, 4, 5, 6, 7, 8, 9, 10, 4, 3, 1, 1, 1, 2, 3, 4, 5, 6, 7, 8, 9, 10, 1, 2, 3, 4, 5, 6, 7, 8, 9, 10, 1, 1, 2, 3, 4, 5, 6, 7, 8, 9, 10, 4, 7, 1, 2, 3, 4, 5, 6, 7, 8, 9, 10, 1, 2, 1, 2, 3, 4, 5, 6, 7, 8, 9, 10, 1, 2, 3, 4, 5, 6, 7, 8, 9, 10, 1, 2, 3, 4, 5, 6, 7, 8, 9, 10, 3, 1, 2, 3, 4, 5, 6, 7, 8, 9, 10, 3, 1, 2, 3, 4, 5, 1, 2, 3, 4, 5, 6, 7, 8, 9, 10, 1, 2, 3, 4, 5, 6, 7, 8, 9, 10, 1, 2, 3, 4, 5, 6, 7, 8, 9, 10, 5, 1, 2, 3, 4, 5, 6, 7, 8, 9, 10, 1, 2, 3, 4, 5, 6, 7, 8, 9, 10, 4, 4, 1, 6, 5, 3, 1, 2, 3, 4, 5, 6, 7, 8, 9, 10, 1, 2, 3, 4, 5, 6, 7, 8, 9, 10, 1, 2, 3, 4, 5, 6, 7, 8, 9, 10, 1, 2, 1, 2, 3, 4, 5, 6, 7, 8, 9, 10, 1, 2, 3, 4, 5, 6, 7, 8, 9, 10, 1, 2, 3, 1, 2, 3, 1, 2, 3, 4, 7, 9, 1, 2, 3, 4, 5, 6, 7, 8, 9, 10, 1, 2, 3, 4, 5, 6, 7, 8, 9, 10, 1, 2, 3, 4, 5, 6, 7, 8, 9, 10, 3, 2, 2, 1, 2, 3, 4, 5, 6, 7, 8, 9, 10, 1, 2, 3, 4, 5, 6, 7, 8, 9, 10, 1, 2, 1, 2, 3, 4, 5, 6, 7, 8, 9, 10, 1, 2, 3, 4, 5, 6, 7, 8, 9, 10, 4, 1, 2, 3, 4, 5, 6, 7, 8, 9, 10, 1, 2, 3, 4, 5, 6, 7, 8, 9, 10, 1, 2, 2, 1, 2, 3, 4, 5, 6, 7, 8, 9, 10, 1, 2, 3, 4, 5, 6, 7, 8, 9, 10, 1, 2, 3, 4, 5, 6, 7, 8, 9, 10, 1, 2, 3, 4, 5, 6, 7, 8, 9, 10, 1, 2, 3, 4, 5, 6, 7, 8, 9, 10, 8, 1, 2, 3, 4, 5, 6, 7, 8, 9, 10, 1, 2, 3, 4, 5, 6, 7, 1, 2, 3, 4, 5, 6, 7, 8, 9, 10, 1, 2, 3, 4, 5, 6, 7, 8, 9, 10, 1, 1, 2, 3, 4, 5, 6, 7, 8, 9, 10, 3, 1, 2, 3, 4, 5, 6, 7, 8, 9, 10, 1, 2, 3, 4, 5, 6, 7, 8, 1, 2, 3, 4, 5, 6, 7, 8, 9, 10, 1, 2, 3, 4, 5, 6, 7, 8, 9, 10, 1, 2, 4, 7, 1, 2, 3, 4, 5, 6, 7, 8, 9, 10, 1, 2, 3, 4, 5, 6, 7, 8, 9, 10, 1, 8, 1, 2, 3, 4, 1, 2, 3, 4, 5, 6, 7, 8, 9, 10, 3, 1, 1, 2, 3, 4, 5, 6, 7, 8, 9, 10, 2, 1, 7, 4, 1, 2, 1, 2, 1, 2, 3, 4, 5, 6, 7, 8, 9, 10, 1, 2, 3, 4, 5, 6, 7, 8, 9, 10, 1, 2, 3, 4, 5, 6, 7, 8, 7, 1, 2, 3, 4, 5, 6, 7, 8, 9, 10, 1, 1, 2, 3, 4, 5, 6, 7, 8, 9, 10, 5, 2, 1, 2, 3, 4, 5, 6, 7, 8, 9, 10, 1, 2, 3, 4, 5, 6, 7, 8, 9, 10, 1, 2, 3, 4, 5, 6, 7, 8, 9, 10, 1, 2, 3, 4, 5, 6, 7, 8, 9, 10, 1, 2, 3, 4, 5, 6, 7, 8, 9, 10, 1, 2, 3, 4, 5, 6, 7, 8, 9, 10, 4, 1, 2, 3, 4, 5, 6, 7, 8, 9, 10, 1, 2, 3, 4, 5, 6, 7, 8, 9, 10, 1, 6, 1, 2, 3, 4, 5, 6, 7, 8, 9, 10, 7, 4, 1, 2, 1, 2, 3, 4, 5, 6, 7, 8, 9, 10, 1, 2, 3, 4, 5, 6, 7, 8, 9, 5, 2, 1, 2, 3, 4, 5, 6, 7, 8, 9, 10, 1, 2, 3, 4, 5, 6, 7, 8, 9, 10, 5, 1, 2, 4, 5, 7, 1, 2, 3, 4, 5, 6, 7, 8, 9, 10, 1, 2, 3, 4, 1, 1, 2, 3, 4, 5, 6, 7, 8, 9, 10, 1, 2, 3, 4, 5, 6, 7, 8, 9, 10, 1, 2, 3, 1, 2, 3, 4, 5, 6, 7, 8, 9, 10, 1, 2, 3, 4, 5, 6, 7, 9, 7, 1, 2, 3, 4, 5, 6, 7, 8, 9, 10, 1, 2, 3, 4, 5, 6, 7, 8, 9, 10, 2, 1, 8, 1, 2, 3, 4, 5, 6, 7, 8, 4, 1, 2, 3, 4, 5, 6, 7, 8, 9, 10, 5, 4, 1, 3, 1, 2, 3, 4, 5, 6, 7, 8, 9, 10, 1, 2, 3, 4, 5, 6, 7, 8, 9, 10, 7, 1, 2, 3, 4, 5, 6, 7, 8, 9, 10, 1, 2, 3, 4, 5, 6, 7, 8, 9, 10, 1, 1, 2, 3, 4, 5, 6, 7, 8, 9, 10, 1, 2, 4, 6, 1, 2, 3, 4, 5, 6, 7, 8, 9, 10, 5, 1, 2, 3, 4, 5, 6, 7, 8, 9, 10, 1, 2, 3, 4, 5, 6, 7, 8, 9, 10, 1, 2, 3, 4, 5, 6, 7, 4, 5, 1, 2, 3, 4, 5, 6, 7, 8, 9, 10, 1, 2, 3, 4, 5, 6, 7, 8, 9, 10, 1, 2, 3, 4, 5, 6, 7, 8, 9, 10, 1, 2, 3, 4, 5, 6, 7, 8, 9, 10, 1, 2, 3, 6, 7, 8, 1, 2, 3, 4, 5, 6, 7, 8, 9, 10, 1, 2, 3, 1, 2, 8, 1, 2, 3, 4, 5, 6, 7, 8, 9, 10, 1, 2, 3, 4, 5, 6, 7, 8, 9, 10, 1, 2, 3, 4, 5, 6, 7, 8, 9, 10, 1, 2, 3, 4, 5, 6, 7, 8, 9, 10, 7, 1, 2, 3, 4, 5, 6, 7, 8, 9, 10, 1, 2, 3, 4, 5, 6, 7, 8, 9, 10, 7, 5, 1, 2, 3, 4, 5, 6, 7, 8, 9, 10, 1, 2, 3, 4, 5, 6, 7, 8, 9, 10, 1, 2, 3, 4, 5, 6, 7, 8, 9, 10, 4, 1, 2, 3, 4, 5, 6, 7, 8, 9, 10, 4, 4, 5, 1, 2, 3, 4, 5, 6, 7, 8, 9, 10, 1, 1, 2, 3, 4, 5, 6, 7, 8, 9, 10, 1, 2, 3, 4, 5, 6, 7, 8, 9, 10, 1, 3, 4, 5, 7, 2, 1, 2, 3, 4, 5, 6, 7, 8, 9, 10, 4, 6, 1, 4, 1, 2, 3, 4, 5, 6, 7, 8, 9, 10, 1, 2, 3, 4, 5, 6, 7, 8, 9, 10, 1, 2, 3, 4, 5, 6, 7, 8, 9, 10, 1, 2, 4, 5, 7, 1, 2, 3, 4, 5, 6, 7, 8, 9, 10, 1, 2, 3, 1, 2, 3, 4, 5, 6, 7, 8, 9, 10, 1, 3, 6, 2, 1, 2, 3, 4, 5, 6, 7, 8, 9, 10, 1, 2, 3, 4, 5, 6, 7, 8, 1, 2, 3, 4, 5, 6, 7, 8, 9, 10, 1, 2, 3, 4, 5, 6, 7, 8, 9, 10, 3, 1, 2, 3, 4, 5, 6, 7, 8, 9, 10, 1, 2, 3, 4, 5, 6, 7, 8, 9, 10, 1, 2, 3, 4, 5, 6, 7, 8, 9, 10, 2, 1, 2, 3, 4, 5, 6, 7, 1, 2, 3, 4, 5, 6, 7, 8, 9, 10, 4, 1, 2, 3, 4, 5, 6, 7, 8, 9, 10, 3, 7, 1, 2, 3, 4, 5, 6, 7, 8, 9, 10, 1, 2, 3, 4, 5, 6, 7, 8, 9, 10, 1, 2, 3, 1, 2, 3, 4, 5, 6, 7, 8, 9, 10, 1, 2, 3, 4, 5, 6, 7, 8, 9, 10, 7, 1, 2, 3, 4, 5, 6, 7, 8, 9, 10, 1, 2, 3, 4, 5, 6, 7, 8, 9, 10, 3, 1, 2, 3, 4, 5, 6, 7, 8, 9, 10, 1, 2, 1, 2, 3, 4, 5, 8, 1, 2, 3, 4, 5, 6, 7, 8, 9, 10, 1, 1, 2, 3, 4, 5, 6, 7, 8, 9, 10, 1, 2, 3, 4, 5, 6, 7, 8, 9, 10, 1, 2, 3, 4, 5, 6, 7, 8, 9, 10, 5, 1, 2, 3, 4, 5, 6, 7, 8, 9, 10, 5, 2, 1, 2, 8, 1, 2, 3, 4, 5, 6, 7, 8, 9, 10, 4, 4, 1, 2, 1, 2, 3, 4, 5, 6, 7, 8, 9, 10, 1, 2, 3, 4, 5, 6, 7, 8, 9, 10, 1, 2, 3, 4, 5, 6, 7, 8, 9, 10, 7, 1, 2, 3, 4, 5, 6, 7, 8, 9, 10, 3, 1, 2, 3, 4, 5, 6, 7, 8, 9, 10, 1, 2, 3, 4, 5, 6, 7, 8, 9, 10, 1, 2, 3, 4, 5, 6, 7, 8, 9, 10, 1, 2, 3, 4, 5, 6, 7, 8, 9, 10, 4, 2, 3, 1, 2, 3, 4, 5, 6, 7, 8, 9, 10, 3, 1, 2, 3, 4, 5, 6, 7, 8, 9, 10, 7, 1, 3, 3, 3, 1, 2, 3, 4, 5, 6, 7, 8, 9, 10, 1, 2, 3, 4, 5, 6, 7, 8, 9, 1, 2, 3, 4, 5, 6, 7, 8, 9, 10, 1, 3, 1, 2, 3, 4, 5, 6, 7, 8, 9, 10, 2, 2, 3, 7, 3, 1, 1, 2, 3, 4, 5, 6, 7, 8, 1, 3, 7, 1, 2, 3, 4, 5, 6, 7, 8, 9, 10, 1, 2, 3, 4, 5, 6, 7, 8, 9, 10, 2, 1, 2, 3, 4, 5, 6, 7, 8, 9, 10, 1, 2, 3, 4, 5, 6, 7, 8, 9, 10, 1, 2, 3, 4, 5, 6, 7, 8, 1, 2, 3, 4, 5, 6, 7, 8, 9, 10, 2, 1, 2, 3, 4, 5, 6, 7, 8, 9, 10, 1, 2, 3, 4, 5, 6, 7, 8, 9, 10, 1, 2, 3, 1, 2, 3, 4, 5, 6, 7, 8, 9, 10, 1, 5, 1, 2, 6, 1, 1, 2, 3, 4, 5, 6, 7, 8, 9, 10, 1, 2, 3, 4, 5, 6, 7, 8, 9, 10, 1, 2, 3, 4, 5, 6, 7, 8, 9, 10, 1, 2, 3, 4, 5, 6, 7, 8, 9, 10, 2, 7, 1, 2, 3, 4, 5, 6, 7, 8, 9, 10, 2, 4, 7, 1, 2, 3, 4, 5, 6, 7, 8, 9, 10, 2, 8, 1, 2, 3, 4, 5, 6, 7, 8, 9, 10, 1, 2, 3, 4, 5, 6, 8, 1, 2, 3, 4, 5, 6, 7, 8, 9, 10, 1, 3, 3, 1, 2, 3, 4, 5, 6, 7, 8, 9, 10, 1, 2, 3, 4, 5, 6, 7, 8, 9, 10, 1, 2, 3, 4, 5, 6, 7, 8, 9, 10, 1, 2, 3, 4, 5, 6, 7, 8, 9, 10, 5, 1, 3, 4, 1, 2, 3, 4, 5, 6, 7, 8, 9, 10, 1, 2, 3, 4, 5, 6, 7, 8, 9, 10, 1, 2, 4, 5, 1, 1, 2, 3, 4, 5, 6, 7, 8, 9, 10, 1, 2, 3, 4, 5, 6, 7, 8, 1, 2, 3, 4, 5, 6, 7, 8, 9, 10, 1, 2, 3, 4, 5, 6, 7, 8, 9, 10, 1, 2, 3, 4, 5, 6, 7, 8, 9, 10, 1, 2, 3, 4, 5, 6, 7, 8, 9, 10, 1, 2, 3, 4, 5, 6, 7, 8, 9, 10, 1, 2, 3, 4, 5, 6, 7, 8, 9, 10, 1, 1, 2, 3, 4, 5, 6, 7, 8, 9, 10, 1, 2, 3, 4, 5, 7, 1, 2, 3, 1, 2, 3, 4, 5, 6, 7, 8, 9, 10, 3, 7, 1, 2, 3, 4, 5, 6, 7, 8, 9, 10, 1, 2, 3, 4, 5, 6, 7, 8, 9, 10, 1, 2, 3, 4, 5, 6, 7, 8, 9, 10, 1, 2, 3, 4, 5, 6, 7, 8, 9, 10, 4, 1, 3, 1, 2, 3, 4, 5, 6, 7, 8, 9, 10, 1, 2, 3, 4, 5, 6, 7, 8, 9, 10, 1, 2, 3, 4, 5, 6, 7, 8, 9, 10, 1, 2, 3, 4, 5, 6, 7, 8, 9, 10, 1, 2, 3, 1, 2, 3, 4, 5, 6, 7, 8, 9, 10, 3, 4, 5, 4, 5, 1, 2, 3, 4, 5, 6, 7, 8, 9, 2, 1, 2, 3, 4, 5, 6, 7, 8, 9, 10, 1, 2, 3, 4, 5, 6, 7, 8, 9, 10, 1, 2, 3, 4, 5, 6, 7, 1, 2, 3, 4, 5, 6, 7, 8, 9, 10, 1, 2, 3, 4, 5, 6, 7, 8, 9, 10, 1, 2, 3, 4, 5, 6, 7, 8, 9, 10, 5, 5, 1, 1, 2, 3, 4, 5, 6, 7, 8, 9, 10, 1, 2, 1, 2, 3, 4, 5, 6, 7, 8], \"Freq\": [0.18043911614150407, 0.187312987232609, 0.1469289945723676, 0.14177359125403893, 0.06787947702466106, 0.0816272192068709, 0.06959794479743729, 0.06959794479743729, 0.04038399266024139, 0.016325443841374177, 0.18699632767065077, 0.1841194610911023, 0.16398139503426298, 0.12802056278990706, 0.07911383093758302, 0.06904479790916336, 0.07479853106826032, 0.05897576488074371, 0.03452239895458168, 0.020138066056839314, 0.48021816039552734, 0.3359426369845903, 0.32076238495707937, 0.32076238495707937, 0.37968334870672765, 0.37968334870672765, 0.20444342884402036, 0.14125182356495952, 0.1152317508029933, 0.1747062028303447, 0.10408029104786491, 0.07434306503418922, 0.08177737153760815, 0.048322992272222996, 0.02973722601367569, 0.02973722601367569, 0.47419849188179475, 0.5347757524562384, 0.5720851928166703, 0.5708470699539038, 0.1755522090414484, 0.2079912041904117, 0.18890944233808035, 0.10876604255828869, 0.09159245689119047, 0.05533710937176091, 0.06678616648315971, 0.05152075700129464, 0.03243899514896329, 0.019081761852331347, 0.19157393042526547, 0.216781026533853, 0.1487218670406666, 0.11595264209950278, 0.07310057871490393, 0.07310057871490393, 0.06805915949318642, 0.06049703066061014, 0.03276922494116383, 0.01764496727601129, 0.41288716862786584, 0.5662371019556106, 0.19438927287939833, 0.12052134918522697, 0.1516236328459307, 0.14773584738834272, 0.09719463643969917, 0.0699801382365834, 0.09719463643969917, 0.06609235277899543, 0.0466534254910556, 0.0116633563727639, 0.33993420567246246, 0.24750208830369808, 0.10607232355872774, 0.11112338658533383, 0.17931273744451595, 0.11112338658533383, 0.06818935085918212, 0.07576594539909125, 0.055561693292666914, 0.027780846646333457, 0.015153189079818248, 0.18885044952842656, 0.17653411586352918, 0.160112337643666, 0.11905789209400805, 0.0697925574344185, 0.10263611387414487, 0.0697925574344185, 0.04515989010462374, 0.03694900099469215, 0.032843556439726355, 0.2933607900345149, 0.2933607900345149, 0.2933607900345149, 0.3167132965406344, 0.12065268439643215, 0.11562548921324747, 0.11562548921324747, 0.08043512293095477, 0.08546231811413944, 0.0754079277477701, 0.050271951831846726, 0.025135975915923363, 0.015081585549554018, 0.3738551058807936, 0.2980500902966927, 0.14050932828272655, 0.13625146984991668, 0.12347789455148699, 0.06812573492495834, 0.06812573492495834, 0.055352159626528646, 0.06812573492495834, 0.025547150596859376, 0.017031433731239585, 0.19519936373363025, 0.12405193209240054, 0.1477677426394771, 0.12770051833041232, 0.11857905273538286, 0.07297172476023561, 0.08756606971228273, 0.06932313852222383, 0.03283727614210602, 0.021891517428070682, 0.17411148823519398, 0.25794294553362074, 0.1418686200434914, 0.10962575185178881, 0.05158858910672415, 0.0709343100217457, 0.07738288366008622, 0.058037162745064666, 0.03224286819170259, 0.019345720915021555, 0.31738634163488844, 0.21315245083966677, 0.13234190629056233, 0.10072038885830409, 0.045675525179928594, 0.050360194429152044, 0.062071867552210655, 0.03981968861839929, 0.021081011621505507, 0.017567509684587923, 0.3800289766864909, 0.39106815168392456, 0.19764116836251336, 0.1608707184346039, 0.2313474141297637, 0.12869657474768312, 0.062816185293512, 0.06128408321318244, 0.062816185293512, 0.050559368650875514, 0.029109939526261657, 0.01532102080329561, 0.542948083905377, 0.52991215955424, 0.2070732918066884, 0.12249405994198469, 0.14874278707240998, 0.1516593123091239, 0.13124363565212646, 0.06999660568113411, 0.06999660568113411, 0.055413979497564506, 0.02041567665699745, 0.02333220189371137, 0.5194915688256067, 0.45417044662307865, 0.09083408932461573, 0.09083408932461573, 0.09083408932461573, 0.09083408932461573, 0.09083408932461573, 0.09083408932461573, 0.09083408932461573, 0.5817514336738357, 0.20650858990722065, 0.15333571945206803, 0.17435755195759348, 0.12860415179850868, 0.0927433787008476, 0.07419470296067808, 0.06306549751657636, 0.056882605603186524, 0.03586077309766107, 0.014838940592135615, 0.2113887738253962, 0.0984051188497534, 0.2332565780142303, 0.12391755707005984, 0.051024876440612876, 0.1129836549756428, 0.05466951047208522, 0.08382658272386401, 0.021867804188834092, 0.014578536125889394, 0.1793425492890162, 0.20021431149075514, 0.14996747656064283, 0.11208909330563512, 0.08735218995542599, 0.0989476134008365, 0.08194099234756774, 0.04251655263317194, 0.027055988039291233, 0.01932570574235088, 0.4940763956043628, 0.34722277944057633, 0.5374419285415357, 0.16068684909567474, 0.20224379282731475, 0.15791638618023207, 0.08865481329416537, 0.14129360868757607, 0.07203203580150937, 0.07203203580150937, 0.06372064705518136, 0.022163703323541343, 0.019393240408098675, 0.10156938144538415, 0.09183981670531602, 0.06810695318047692, 0.26842687021197315, 0.16758493285930437, 0.10684335111757062, 0.15521838328314302, 0.0241875160827862, 0.008729329112584493, 0.007547232461922009, 0.5331123826602862, 0.2212800063635987, 0.1423256378958358, 0.15790873693552585, 0.12154817250958239, 0.08207098827570093, 0.07791549519845024, 0.09557634077676563, 0.05298253673494617, 0.03012732481006743, 0.01869971884762806, 0.22322607076704054, 0.14955047105575128, 0.17484209483723864, 0.1165613965581591, 0.07257596389470283, 0.0681774206283572, 0.06157960572883877, 0.08247268624398049, 0.028590531231246573, 0.02199271633172813, 0.48522324256356547, 0.4996479420459005, 0.5396517933184233, 0.3251265809350246, 0.12192246785063424, 0.1625632904675123, 0.05418776348917077, 0.10837552697834155, 0.08128164523375615, 0.05418776348917077, 0.04741429305302442, 0.03386735218073173, 0.006773470436146347, 0.5429284408002728, 0.5297013556344089, 0.3365047874456004, 0.5009727618153862, 0.19688907808027717, 0.11485196221349502, 0.19688907808027717, 0.12469641611750887, 0.08531860050145344, 0.059066723424083145, 0.10500750830948115, 0.059066723424083145, 0.026251877077370287, 0.029533361712041573, 0.18336698984544728, 0.12285588319644969, 0.2218740577129912, 0.11735487350108627, 0.10635285411035943, 0.062344776547452074, 0.09168349492272364, 0.04584174746136182, 0.027505048476817093, 0.022004038781453676, 0.488380230020275, 0.16792730067216982, 0.12412017875769074, 0.24824035751538148, 0.12412017875769074, 0.09126483732183142, 0.09126483732183142, 0.05475890239309886, 0.047457715407352344, 0.03285534143585931, 0.014602373971493028, 0.5133589213627651, 0.580832203975767, 0.18791176247688554, 0.12378314512366269, 0.15361040900888262, 0.1565931353974046, 0.09246451804418176, 0.09097315484992077, 0.09246451804418176, 0.05368907499339586, 0.029827263885219925, 0.01938772152539295, 0.32722024087362, 0.32722024087362, 0.21951907174181312, 0.13245243569231763, 0.19636305151588346, 0.1204113051748342, 0.06298437501452865, 0.07224678310490051, 0.0805829503862352, 0.06298437501452865, 0.03797587317052463, 0.014819852944594978, 0.19938020868649792, 0.12175890606809033, 0.16894048216947533, 0.13545678300075048, 0.09131917955106775, 0.07609931629255645, 0.12328089239394145, 0.03957164447212936, 0.022829794887766937, 0.021307808561915807, 0.23829101617023957, 0.15471133139411078, 0.1671593695522576, 0.1049191787615234, 0.08535797594157836, 0.062240190790734215, 0.07646652011433061, 0.05334873496348647, 0.03200924097809189, 0.024896076316293685, 0.5056054970378736, 0.16649298859666783, 0.1587491286619391, 0.147133338759846, 0.1587491286619391, 0.06969473941255863, 0.12390175895565979, 0.054207019543101156, 0.05033508957573679, 0.04646315960837242, 0.01935964983682184, 0.5068250288320291, 0.12758875651784812, 0.38276626955354437, 0.12758875651784812, 0.12758875651784812, 0.12758875651784812, 0.1942967485618311, 0.1769206165766267, 0.14216835260621788, 0.11847362717184823, 0.09951784682435251, 0.12005327553413954, 0.06318593449165238, 0.045809802506447984, 0.020535428709787026, 0.015796483622913096, 0.26094649534399, 0.12823336359178908, 0.17583090029616494, 0.10807440686993577, 0.08567556606787655, 0.09071530524833987, 0.06831646444628064, 0.036958087323397726, 0.030238435082779958, 0.01567918856144146, 0.15289827765045896, 0.16858015228127526, 0.19994390154290786, 0.10323900798620733, 0.10193218510030597, 0.08755713335539102, 0.08232984181178558, 0.0535797383219557, 0.02613645771802717, 0.024829634832125812, 0.38347306322260005, 0.27090959758510835, 0.12343218351510853, 0.14106535258869546, 0.1041959990711955, 0.09938695296021725, 0.07373870703499989, 0.08175378388663032, 0.05770855333173905, 0.027251261295543443, 0.019236184443913017, 0.13432606837706412, 0.2735665051093867, 0.13268794559197797, 0.10975422660077191, 0.10156361267534117, 0.07207740254379051, 0.0786298936841351, 0.057334297478015175, 0.026209964561378366, 0.013104982280689183, 0.5437567415051299, 0.36250464723337594, 0.3889026585786306, 0.36769280143444977, 0.5694138733063177, 0.4711005568407744, 0.2247337446149638, 0.14111188615358192, 0.17769644923043648, 0.10975368923056371, 0.07839549230754551, 0.08362185846138187, 0.05226366153836367, 0.07316912615370914, 0.047037295384527306, 0.0156790984615091, 0.22614584564812687, 0.1426458411011262, 0.1349916740176511, 0.13081667379030107, 0.08906667151680074, 0.11342083950967594, 0.06471250352392553, 0.04522916912962537, 0.0361833353037003, 0.016700000909400138, 0.24073610578386034, 0.12384020826381277, 0.17823730908997354, 0.1412009851232258, 0.0740726479334955, 0.06828572231369116, 0.08680388429706504, 0.04745279008239555, 0.01967554710733474, 0.020832932231295606, 0.2570511867142623, 0.5141023734285246, 0.2245580953760945, 0.11016057509015957, 0.16524086263523935, 0.10380515729649652, 0.0932127943070581, 0.09956821210072116, 0.10592362989438421, 0.05084334234930442, 0.027540143772539893, 0.019066253380989155, 0.2789375776888501, 0.09618537161684484, 0.17553830320074185, 0.09859000590726597, 0.10580390877852933, 0.07454366300305476, 0.07213902871263364, 0.04809268580842242, 0.028855611485053455, 0.01923707432336897, 0.23602668591822412, 0.23602668591822412, 0.47205337183644824, 0.31425032190681523, 0.31425032190681523, 0.5495559707654184, 0.1616992754510993, 0.1616992754510993, 0.1616992754510993, 0.1616992754510993, 0.1616992754510993, 0.1616992754510993, 0.22845440074525797, 0.12662901069880012, 0.17362534456639606, 0.15273808506968675, 0.07310540823848255, 0.0835490379868372, 0.08485449170538154, 0.039163611556329934, 0.0208872594967093, 0.015665444622531974, 0.19994189177736074, 0.15961747662898546, 0.147856188877376, 0.12265342940964145, 0.08400919822578182, 0.08904975011932872, 0.110892141658032, 0.050405518935469094, 0.020162207574187636, 0.016801839645156365, 0.20232296267478672, 0.14451640191056195, 0.14344591004455778, 0.13595246698252864, 0.09206230047635798, 0.10490820286840792, 0.09741475980637879, 0.03211475598012487, 0.024621312918095738, 0.023550821052091574, 0.32511746240547224, 0.48250944706459903, 0.2545921971389458, 0.285886417347376, 0.136418829854557, 0.1791238548525053, 0.10201755971732089, 0.0545675319418228, 0.07117504166324713, 0.05931253471937262, 0.06998879096885968, 0.02609751527652395, 0.014235008332649427, 0.13987603372258473, 0.1619617232577297, 0.13251413721086974, 0.2208568953514496, 0.09570465465229482, 0.08098086162886485, 0.09570465465229482, 0.029447586046859944, 0.014723793023429972, 0.022085689535144958, 0.3169215987855934, 0.504898406565127, 0.1847786024733935, 0.17209771798992532, 0.11593951527742338, 0.1521706138016182, 0.06159286749113117, 0.08333152660564805, 0.09601241108911623, 0.08514308153185779, 0.03260798867177533, 0.016303994335887664, 0.20734239378411112, 0.1396387549974626, 0.16291188083037303, 0.1079026743162211, 0.1205971065887177, 0.09097676461955896, 0.09097676461955896, 0.04654625166582087, 0.0253888645449932, 0.010578693560413834, 0.5130769968878027, 0.19760574656125918, 0.15808459724900734, 0.18214094900429106, 0.15808459724900734, 0.06185919022787244, 0.09450709618147178, 0.07045074442618805, 0.037802838472588716, 0.03092959511393622, 0.01030986503797874, 0.19108389832219755, 0.18303826049810504, 0.136775843009573, 0.136775843009573, 0.08649060660899469, 0.08045637824092529, 0.07643355932887902, 0.06436510259274023, 0.01810268510420819, 0.02614832292830072, 0.33679368641664703, 0.16839684320832352, 0.48911234342918514, 0.2766365945446577, 0.15837972970113992, 0.15415627024244286, 0.08235745944459276, 0.09502783782068396, 0.054904972963061835, 0.08024572971524423, 0.05068151350436478, 0.02956421621087945, 0.01900556756413679, 0.2655618780847633, 0.13208575087985608, 0.15572214840572507, 0.10288784805378264, 0.06256693462730024, 0.10288784805378264, 0.0750803215527603, 0.0583958056521469, 0.022246021200817867, 0.02085564487576675, 0.2092829765763729, 0.13566584913744778, 0.2008695905833529, 0.12725246314442776, 0.09044389942496518, 0.08623720642845517, 0.06099704844939512, 0.0525836624563751, 0.01998179173342254, 0.01682677198604003, 0.16987979351410595, 0.17444645463007655, 0.18449310908521183, 0.13425983680953535, 0.0611932589540059, 0.07306657785552945, 0.08402656453385886, 0.07123991340914121, 0.03105329558860001, 0.015526647794300005, 0.20561202202035295, 0.21729452327150936, 0.13551701451341444, 0.11682501251156417, 0.07476800800740108, 0.09112350975902006, 0.06542200700647594, 0.04906650525485695, 0.0280380030027754, 0.016355501751618984, 0.3778295487112418, 0.23868276861373683, 0.1530377751699842, 0.14180564488227895, 0.12074540059283158, 0.07020081429815789, 0.06037270029641579, 0.1067052377332, 0.04914057000871053, 0.03369639086311579, 0.0266763094333, 0.12602019711860507, 0.12602019711860507, 0.12602019711860507, 0.12602019711860507, 0.12602019711860507, 0.25204039423721014, 0.12602019711860507, 0.21407496482850347, 0.21221344339521214, 0.13775258606355875, 0.11169128599748007, 0.0539841215654487, 0.08749150736469272, 0.08004542163152738, 0.059568685865322706, 0.026061300066078683, 0.018615214332913344, 0.1809742162470371, 0.2334305108113957, 0.11540384804158889, 0.12851792168267853, 0.07606162711831994, 0.09442133021584545, 0.0813072565747558, 0.047210665107922725, 0.03147377673861515, 0.013114073641089645, 0.3942894016100808, 0.19919364137657608, 0.11052817905651477, 0.10809898830801994, 0.20648121362206057, 0.08623627157156646, 0.09109465306855613, 0.10809898830801994, 0.05587138721538109, 0.017004335239463812, 0.018218930613711225, 0.5266653379775703, 0.2317975307894192, 0.1158987653947096, 0.07968040120886286, 0.2752595678124353, 0.09416774688320155, 0.0724367283716935, 0.09416774688320155, 0.0289746913486774, 0.00724367283716935, 0.00724367283716935, 0.1811154944027745, 0.10349456823015686, 0.07762092617261765, 0.28461006263293137, 0.10349456823015686, 0.07762092617261765, 0.10349456823015686, 0.025873642057539215, 0.22956546312466367, 0.17929565368130665, 0.16086339021874244, 0.10053961888671402, 0.07540471416503551, 0.09048565699804262, 0.06199943164680698, 0.04356716818424274, 0.04021584755468561, 0.018432263462564234, 0.1997189264709144, 0.19435734455223214, 0.1796129942758559, 0.10052966097529248, 0.07372175138188115, 0.10589124289397475, 0.07640254234122229, 0.04155225986978756, 0.012063559317035098, 0.01474435027637623, 0.20854004831897874, 0.20854004831897874, 0.20854004831897874, 0.20854004831897874, 0.21298297238365033, 0.1153657767078106, 0.15530008402974504, 0.11092863144981788, 0.13533293036877783, 0.09318005041784702, 0.08208718727286524, 0.04880859783791987, 0.02884144417695265, 0.015530008402974504, 0.14357996069323525, 0.19542827983245908, 0.17035876288602117, 0.13674281970784308, 0.08489450056861925, 0.08033640657835782, 0.07406902734174833, 0.05412736613435456, 0.03247641968061273, 0.027348563941568618, 0.3780919167655497, 0.3780919167655497, 0.41838389259455705, 0.139461297531519, 0.139461297531519, 0.139461297531519, 0.17715096971935776, 0.19325560333020847, 0.12883706888680563, 0.09662780166510423, 0.1529940193030817, 0.09662780166510423, 0.056366217637977466, 0.056366217637977466, 0.02415695041627606, 0.008052316805425352, 0.5019314941942066, 0.4905427186839066, 0.21684812835250455, 0.13761515837755098, 0.1709764088933209, 0.0708926573460111, 0.09591359523283856, 0.06255234471706862, 0.08757328260389607, 0.07923296997495359, 0.0500418757736549, 0.02919109420129869, 0.33234610006737003, 0.4731946823473634, 0.581455184166268, 0.5435891333889457, 0.6443678628604735, 0.49732511721293265, 0.5133515941643724, 0.2566757970821862, 0.2967833843461071, 0.12613293834709552, 0.12365974347754463, 0.10140098965158659, 0.0989277947820357, 0.08161543069517946, 0.06924945634742499, 0.051937092260568744, 0.03957111791281428, 0.012365974347754462, 0.19020408053305426, 0.11453148935323697, 0.22906297870647394, 0.12271231002132532, 0.08385341184790564, 0.06340136017768475, 0.09203423251599399, 0.05317533434257431, 0.03476848783937551, 0.01636164133617671, 0.12250214097178626, 0.12250214097178626, 0.12250214097178626, 0.2041702349529771, 0.08166809398119083, 0.12250214097178626, 0.2041702349529771, 0.04083404699059542, 0.3834926461915136, 0.22190339242339582, 0.14014951100425, 0.11679125917020833, 0.12847038508722916, 0.08175388141914583, 0.070074755502125, 0.16350776283829166, 0.04671650366808333, 0.023358251834041666, 0.011679125917020833, 0.493457351075427, 0.17196534687771, 0.1410997717970954, 0.13228103605977695, 0.14550913966575463, 0.1410997717970954, 0.10141546097916232, 0.06614051802988848, 0.05291241442391077, 0.022046839343296157, 0.013228103605977693, 0.5687563723195384, 0.5061584316442751, 0.13368294768742273, 0.19845715945349354, 0.23428970213259656, 0.06753056120292489, 0.07166508535820601, 0.07717778423191415, 0.09509405557146566, 0.08820318197933047, 0.01929444605797854, 0.013781747184270386, 0.20409886353285306, 0.09620519118068405, 0.14655557161169624, 0.1627396224645216, 0.1231786092687263, 0.08991139362680751, 0.08092025426412676, 0.034166329578186855, 0.04855215255847606, 0.013486709044021127, 0.17696066294243337, 0.11190159568418581, 0.11710632106484561, 0.13792522258748485, 0.11710632106484561, 0.0962874195422064, 0.13532285989715492, 0.05985434187758776, 0.04163780304527844, 0.013011813451649513, 0.1800991553230457, 0.13638576810871422, 0.1503740520173003, 0.1626138004373131, 0.08043263247436992, 0.08392970345151644, 0.11365480675726185, 0.05070752916862452, 0.02098242586287911, 0.01923389037430585, 0.31221822261020615, 0.18486605286130628, 0.08216269016058057, 0.11913590073284183, 0.06573015212846446, 0.03697321057226126, 0.045189479588319315, 0.10270336270072572, 0.0287569415562032, 0.02464880704817417, 0.27240528476930803, 0.14804635041810218, 0.11448917765666569, 0.12633288569011386, 0.07501015087850511, 0.07501015087850511, 0.06711434552287299, 0.07303619953959709, 0.02171346472798832, 0.02763531874471241, 0.5348972471663321, 0.2619618240071418, 0.09602706158619566, 0.1375107521914322, 0.11215960793267654, 0.10140457703502262, 0.12368285532302002, 0.08219916471778349, 0.05223872150289044, 0.020741845302618262, 0.012291463883033045, 0.17407586639389971, 0.10765922813899644, 0.17193339419212864, 0.19282249815939662, 0.08837697832305678, 0.0744509090115448, 0.07766461731420142, 0.0626673119018039, 0.02945899277435226, 0.020889103967267966, 0.28777478729508826, 0.28777478729508826, 0.21810278995431892, 0.1854615560836045, 0.10830954875282504, 0.11276062609883154, 0.09198893181746784, 0.12166278079084457, 0.06824985263876647, 0.04896185080607159, 0.026706464076039053, 0.01928800183269487, 0.5664708620676191, 0.5390949515454619, 0.39843491263336295, 0.4775286308423578, 0.16058072081178368, 0.14205217610273171, 0.25322344435704347, 0.12969981296336375, 0.0494094525574719, 0.0988189051149438, 0.055585634127155885, 0.061761815696839875, 0.03705708941810392, 0.012352363139367975, 0.1864131380229427, 0.12427542534862847, 0.12427542534862847, 0.12427542534862847, 0.24855085069725694, 0.062137712674314234, 0.062137712674314234, 0.062137712674314234, 0.062137712674314234, 0.5803939773629537, 0.5087712191397894, 0.24904968316859874, 0.14313200182103375, 0.13836093509366595, 0.10591768134756498, 0.06345518747399163, 0.0987610812565133, 0.11545981480230057, 0.04198538720083657, 0.02337822696410218, 0.020992693600418284, 0.22615078396404434, 0.11520888994394711, 0.23468477581174413, 0.10667489809624733, 0.07680592662929808, 0.08533991847699786, 0.0640049388577484, 0.0597379429338985, 0.021334979619249465, 0.01280098777154968, 0.5648422360211446, 0.1515787572733828, 0.1515787572733828, 0.45473627182014836, 0.1515787572733828, 0.1515787572733828, 0.19968107743024285, 0.1560614245935393, 0.21325163609055062, 0.10759514366386873, 0.08820863129200049, 0.057190211497011305, 0.08723930567340707, 0.05815953711560472, 0.022294489227648474, 0.01066258180452753, 0.4501606538909883, 0.22508032694549415, 0.22508032694549415, 0.5234572844007466, 0.2958882707818094, 0.18703671210341316, 0.14669546047326523, 0.16319869977650756, 0.08985096953987495, 0.10452051558720146, 0.11552267512269636, 0.07518142349254843, 0.06234557070113772, 0.033006478606484674, 0.020170625815073968, 0.22530812512994916, 0.1327902959703082, 0.11537517518731696, 0.15020541675329946, 0.08816404896389315, 0.08489871381708229, 0.091429384110704, 0.06095292274046934, 0.02503423612554991, 0.02612268117448686, 0.2964522419975915, 0.2964522419975915, 0.2964522419975915, 0.1507405876572208, 0.1662372835845986, 0.2014570470559119, 0.12115598634131763, 0.12115598634131763, 0.0831186417922993, 0.07889227017574171, 0.043672506704428446, 0.01972306754393543, 0.016905486466230368, 0.21688896312414221, 0.21688896312414221, 0.21688896312414221, 0.10844448156207111, 0.10844448156207111, 0.10844448156207111, 0.10844448156207111, 0.10844448156207111, 0.5811254545038566, 0.36908170772395715, 0.13840564039648393, 0.18454085386197858, 0.06920282019824196, 0.046135213465494644, 0.046135213465494644, 0.046135213465494644, 0.046135213465494644, 0.023067606732747322, 0.023067606732747322, 0.2690715541822485, 0.15546356463863245, 0.12108219938201181, 0.1076286216728994, 0.09566988593146612, 0.061288520674845484, 0.09716472789914528, 0.052319468868770536, 0.022422629515187375, 0.01644326164447074, 0.4954975660870441, 0.3518807033495312, 0.3518807033495312, 0.1402341320632668, 0.1402341320632668, 0.1402341320632668, 0.1402341320632668, 0.1402341320632668, 0.0934894213755112, 0.1869788427510224, 0.0467447106877556, 0.41641261761134596, 0.12170568857187652, 0.143833995584945, 0.143833995584945, 0.2212830701306846, 0.08851322805227384, 0.1106415350653423, 0.08851322805227384, 0.04425661402613692, 0.02212830701306846, 0.01106415350653423, 0.39491668700031485, 0.5195571131484247, 0.4913297857182554, 0.2456648928591277, 0.16477934238190584, 0.1401394407173218, 0.17401930550612485, 0.16323934852786934, 0.07853968655586166, 0.07853968655586166, 0.07545969884778865, 0.06775972957760613, 0.03541985864283957, 0.02001992010247454, 0.2194918922364656, 0.14042760847386776, 0.1227266494225399, 0.15458837571493006, 0.0944051149404153, 0.0955851788771705, 0.07198390014206667, 0.05310287715398361, 0.025961406608614207, 0.021241150861593443, 0.5825984373940445, 0.12270135248236792, 0.19841069763106303, 0.1670826927419478, 0.11225868418599619, 0.08615201344506684, 0.10181601588962445, 0.12009068540827499, 0.04960267440776576, 0.026106670740929344, 0.018274669518650543, 0.21065136045009591, 0.13358378955371936, 0.12330811343420249, 0.12330811343420249, 0.08220540895613498, 0.14385946567323624, 0.09248108507565186, 0.04110270447806749, 0.030827028358550623, 0.015413514179275311, 0.4992594364092186, 0.21430863992279967, 0.14625116643380248, 0.14625116643380248, 0.12308266482052685, 0.11005038266305929, 0.08253778699729447, 0.07095353619065665, 0.0579212540331891, 0.031856689718254005, 0.01737637620995673, 0.1805319570794392, 0.1805319570794392, 0.1805319570794392, 0.1805319570794392, 0.21820030618513767, 0.11637349663207341, 0.1309201837110826, 0.11637349663207341, 0.10182680955306424, 0.14546687079009177, 0.08000677893455048, 0.05091340477653212, 0.021820030618513765, 0.021820030618513765, 0.3811529837742387, 0.19522633903686784, 0.1589051596811715, 0.1589051596811715, 0.10896353806708903, 0.08626280096977881, 0.13166427516439924, 0.08172265355031677, 0.03632117935569634, 0.027240884516772257, 0.013620442258386128, 0.3969664522130131, 0.10826357787627629, 0.10826357787627629, 0.10826357787627629, 0.07217571858418419, 0.036087859292092093, 0.07217571858418419, 0.07217571858418419, 0.036087859292092093, 0.036087859292092093, 0.13823230177484908, 0.13823230177484908, 0.13823230177484908, 0.13823230177484908, 0.13823230177484908, 0.13823230177484908, 0.27646460354969815, 0.37590288692006757, 0.37590288692006757, 0.21466264511334837, 0.14515283621950223, 0.19012977138610856, 0.07768743346959274, 0.06746540274990949, 0.11857555634832577, 0.0960870887650226, 0.04088812287873302, 0.028621686015113116, 0.02044406143936651, 0.19261339307582973, 0.20668066335664875, 0.18503870907846565, 0.08873201254055077, 0.06492586283454935, 0.08223942625709584, 0.06817215597627681, 0.07466474225973174, 0.021641954278183117, 0.01514936799472818, 0.18949083128229138, 0.15305028680492763, 0.16398245014813675, 0.13118596011850941, 0.09596010045705781, 0.09717478527296994, 0.06559298005925471, 0.046158023004660716, 0.03644054447736372, 0.021864326686418235, 0.25109465577926404, 0.10880768417101441, 0.1339171497489408, 0.1171775060303232, 0.0920680404523968, 0.0669585748744704, 0.07532839673377921, 0.10880768417101441, 0.025109465577926402, 0.025109465577926402, 0.134211413668678, 0.268422827337356, 0.134211413668678, 0.134211413668678, 0.134211413668678, 0.134211413668678, 0.15216533627673315, 0.27229586491625934, 0.1441566343674314, 0.08809572100231919, 0.08809572100231919, 0.0720783171837157, 0.06406961527441396, 0.08008701909301745, 0.040043509546508725, 0.01601740381860349, 0.16567340478085177, 0.33134680956170354, 0.16567340478085177, 0.2102957333793805, 0.2102957333793805, 0.2102957333793805, 0.15044407468557827, 0.16649144265203997, 0.16247960066042455, 0.18053288962269393, 0.09829012879457781, 0.08224276082811613, 0.07622499784069299, 0.05014802489519276, 0.022065130953884814, 0.012035525974846263, 0.33922901239163067, 0.16282992594798273, 0.10855328396532182, 0.0949841234696566, 0.05427664198266091, 0.06784580247832614, 0.05427664198266091, 0.06784580247832614, 0.027138320991330456, 0.013569160495665228, 0.1968793733511868, 0.20177078635370077, 0.16508518883484607, 0.10271967305279311, 0.10761108605530707, 0.04157701052136864, 0.08437687429336577, 0.04279986377199713, 0.026902771513826768, 0.030571331265712237, 0.3050097849093202, 0.1369431687347968, 0.18985302938233195, 0.09025799757520699, 0.0622468948794531, 0.0622468948794531, 0.05913455013548044, 0.05290986064753513, 0.02801110269575389, 0.01867406846383593, 0.5833156249599082, 0.1548607092437771, 0.14740445287278042, 0.15658138379093017, 0.11815298557117808, 0.13593328922509323, 0.09119575099911319, 0.08316593644573214, 0.07226833098042931, 0.024089443660143105, 0.01605962910676207, 0.2306836933816647, 0.2029572879271377, 0.17301277003624851, 0.09205166610902966, 0.05212564225451077, 0.07985204770903778, 0.07985204770903778, 0.04990752981814861, 0.024399236799983764, 0.014417730836354043, 0.3754160125878606, 0.5811406392420155, 0.17981551387535274, 0.15497911693124325, 0.18975007265299657, 0.10232595540973112, 0.11027360243184617, 0.06060080854362717, 0.10033904365420236, 0.04669242625492585, 0.03775132335504643, 0.017882205799758837, 0.18442501828665386, 0.13319584654036112, 0.1514106631612652, 0.13433427257916764, 0.10359676953139198, 0.07627454460003585, 0.07172084044480984, 0.08196667479406838, 0.03756805928061467, 0.026183798892549622, 0.12699895355758511, 0.1628191712276732, 0.24422875684150983, 0.09769150273660393, 0.07164043534017621, 0.10420426958571086, 0.058614901641962355, 0.07164043534017621, 0.0455893679437485, 0.013025533698213857, 0.523099141779964, 0.1491869566348392, 0.16398235729283975, 0.1812436580605071, 0.1269938556478383, 0.09740305433183714, 0.08877240394800348, 0.07274405323516951, 0.0739770032900029, 0.02959080131600116, 0.01479540065800058, 0.37859452476553945, 0.3778797563066516, 0.3778797563066516, 0.1698096675508421, 0.1622062496008044, 0.11405126925056559, 0.1546028316507667, 0.10898232395054044, 0.05322392565026394, 0.11658574190057816, 0.0887065427504399, 0.015206835900075412, 0.015206835900075412, 0.5191120412529603, 0.18022182461836425, 0.17221196574643696, 0.1521873185666187, 0.11614295364294586, 0.126155277232855, 0.08210105343725482, 0.052064082667527455, 0.08610598287321848, 0.018022182461836424, 0.016019717743854602, 0.233921557686241, 0.17773451686944783, 0.150214333612243, 0.09288061849306628, 0.08370722407399801, 0.06994713244539559, 0.08256054977161448, 0.06077373802632732, 0.029813531861971894, 0.019493463140520084, 0.2197959706412302, 0.2197959706412302, 0.2197959706412302, 0.2197959706412302, 0.2197959706412302, 0.4994504868251957, 0.18032606716904961, 0.24227013604391398, 0.11700546343029937, 0.1527953698913321, 0.07295634778595136, 0.0825920918331525, 0.055061394555434996, 0.04542565050823387, 0.03166030186937512, 0.017894953230516375, 0.38790557408278176, 0.38790557408278176, 0.5014495373078441, 0.5355343984786414, 0.2075521062180777, 0.15463045363657582, 0.17695677581939692, 0.1149392142004494, 0.08682458626652653, 0.06697896654846332, 0.10667020598458973, 0.049614049295158016, 0.024807024647579008, 0.012403512323789504, 0.13234490394152462, 0.14682012781012888, 0.18404213204368267, 0.13648068218969725, 0.09305501058388449, 0.09719078883205713, 0.08891923233571185, 0.08064767583936656, 0.024814669489035865, 0.016543112992690578, 0.19238648897534358, 0.13917320479067408, 0.1637331821066754, 0.106426568369339, 0.09414657971133834, 0.13507987523800719, 0.07367993194800393, 0.04911995463200262, 0.032746636421335074, 0.016373318210667537, 0.16885302012976142, 0.16885302012976142, 0.33770604025952283, 0.16885302012976142, 0.16885302012976142, 0.24628476689459167, 0.16342260233192532, 0.10242684230662924, 0.13119842722422173, 0.07710784757914786, 0.12084065665388843, 0.06675007700881457, 0.05178885285166647, 0.02301726793407399, 0.01726295095055549, 0.2505124399954413, 0.5010248799908826, 0.2505124399954413, 0.20764617529816953, 0.1266135215232741, 0.2380334204637553, 0.13674260324513604, 0.07090357205303349, 0.06583903119210253, 0.055709949470240605, 0.06583903119210253, 0.020258163443723855, 0.015193622582792892, 0.22481566665538977, 0.22481566665538977, 0.22481566665538977, 0.5146665519735845, 0.1755386577675653, 0.1914364984710429, 0.16030322709339925, 0.09472463419155411, 0.1212210353640168, 0.10731042474847388, 0.06359136281391045, 0.0384197817000709, 0.03047086134833209, 0.017222660762100748, 0.15559060458839993, 0.07779530229419997, 0.15559060458839993, 0.2722835580296999, 0.11669295344129996, 0.07779530229419997, 0.11669295344129996, 0.03889765114709998, 0.17021947075220661, 0.13779671441845295, 0.1621137816687682, 0.12158533625157615, 0.07295120175094569, 0.09726826900126091, 0.15400809258532977, 0.04052844541719205, 0.03242275633375364, 0.01621137816687682, 0.1849658279791852, 0.11480637598708048, 0.15307516798277396, 0.10842824398779823, 0.08929384798995148, 0.09567197998923373, 0.1339407719849272, 0.06378131999282248, 0.03826879199569349, 0.019134395997846745, 0.488560409020715, 0.19477688925669234, 0.12285926860806748, 0.13184897118914557, 0.1078764309729373, 0.16780778151345802, 0.08390389075672901, 0.09888672839185919, 0.044948512905390536, 0.02996567527026036, 0.017979405162156216, 0.14979078108296331, 0.1894412819578654, 0.14097955866631842, 0.14979078108296331, 0.06608416812483676, 0.13216833624967353, 0.07048977933315921, 0.04846172329154696, 0.022028056041612253, 0.022028056041612253, 0.27499820928363466, 0.125933759391571, 0.1709101020314178, 0.0950928387242475, 0.08481253183513966, 0.06810703314033943, 0.0822424551128627, 0.053971611167816146, 0.024415728861631115, 0.020560613778215674, 0.5135814367872376, 0.14220226135379543, 0.14220226135379543, 0.14220226135379543, 0.14220226135379543, 0.28440452270759087, 0.14220226135379543, 0.14220226135379543, 0.1849692447972929, 0.1557301201901607, 0.14301745731749452, 0.1271266287266618, 0.07564034409236377, 0.10742200127402922, 0.09470933840136304, 0.06547021379423082, 0.02542532574533236, 0.01970462745263258, 0.5115909242149215, 0.25287653736927246, 0.13967018052372607, 0.13525954324402945, 0.13967018052372607, 0.07645104618140795, 0.07204040890171134, 0.08821274559393225, 0.0470467976500972, 0.0352850982375729, 0.014702124265655375, 0.47291633195544286, 0.38091189829797917, 0.18898997282537866, 0.19245767874878011, 0.20979620836578733, 0.08322494216163465, 0.08755957456588645, 0.06935411846802887, 0.0598179271786749, 0.06675333902547778, 0.02080623554040866, 0.0199393090595583, 0.2603890465723696, 0.15912663957200365, 0.12055048452424519, 0.10126240700036596, 0.08920735854794144, 0.08438533916697163, 0.05786423257163769, 0.0675082713335773, 0.03857615504775846, 0.016877067833394325, 0.16332959693318896, 0.4899887907995669, 0.16332959693318896, 0.20466989602263688, 0.17953499651108498, 0.16876289672041989, 0.0969488981159859, 0.07540469853465569, 0.08438144836020994, 0.10592564794154014, 0.04847444905799295, 0.021544199581330196, 0.016158149685997648, 0.19578809658869614, 0.1631567471572468, 0.19086260988206227, 0.08065484482112954, 0.0763450439528249, 0.0948156191027019, 0.09235287574938497, 0.06279995550958178, 0.030168606078132425, 0.013545088443243128, 0.5671859415522674, 0.2751173922248879, 0.1458955867859254, 0.14797980945429576, 0.10421113341851815, 0.10421113341851815, 0.05835823471437016, 0.0729477933929627, 0.06252668005111088, 0.0166737813469629, 0.012505336010222178, 0.17254663555348196, 0.23852034914746034, 0.11926017457373017, 0.14209722927933807, 0.09896057039096759, 0.0659737135939784, 0.04313665888837049, 0.06343626307113306, 0.03552430731983452, 0.01776215365991726, 0.47837110650174186, 0.10539271900635867, 0.10790206945889101, 0.13550492443674686, 0.18318258303486148, 0.13048622353168216, 0.12295817217408511, 0.1380142748892792, 0.04516830814558229, 0.012546752262661746, 0.020074803620258794, 0.2934559077190785, 0.2934559077190785, 0.12244046335172422, 0.36732139005517267, 0.12244046335172422, 0.12244046335172422, 0.12244046335172422, 0.12244046335172422, 0.17713787478565998, 0.15745588869836444, 0.21059725113406244, 0.1279329095674211, 0.06495055408807533, 0.09644173182774822, 0.07872794434918222, 0.04133217078332067, 0.027554780522213777, 0.019681986087295555, 0.3217284518248003, 0.2565091399775423, 0.0905326376391326, 0.13579895645869888, 0.12071018351884345, 0.08298825116920487, 0.08298825116920487, 0.07544386469927716, 0.10562141057898802, 0.030177545879710863, 0.02263315940978315, 0.2558628495152801, 0.19391710700105438, 0.11581160557007415, 0.09965184665331962, 0.09157196719494236, 0.04578598359747118, 0.06733232881981055, 0.06733232881981055, 0.032319517833509066, 0.029626224680716642, 0.1007987355028871, 0.1007987355028871, 0.11519855486044239, 0.2015974710057742, 0.1727978322906636, 0.1007987355028871, 0.11519855486044239, 0.057599277430221196, 0.028799638715110598, 0.014399819357555299, 0.3668617568373202, 0.18589624128735102, 0.15980554075579298, 0.1589902063641818, 0.1581748719725706, 0.08316410794434125, 0.08968678307723076, 0.07011875767856222, 0.04810472910506013, 0.02527536613994685, 0.019568025398668528, 0.5781621922496668, 0.5058500900174089, 0.27218706534827103, 0.27218706534827103, 0.27218706534827103, 0.18767477364281815, 0.16228881392301667, 0.1260231571804431, 0.13236964711039348, 0.09610399036781993, 0.11061025306484934, 0.08522429334504786, 0.048051995183909964, 0.028105883975494506, 0.02266603546410847, 0.353288609204697, 0.5157015358734074, 0.4842731765893187, 0.5405174610254873, 0.24372763970273292, 0.15762026998739614, 0.16783639859769034, 0.11383686165756389, 0.06932372985556776, 0.07881013499369807, 0.059107601245273554, 0.07224262374422323, 0.024810598053571616, 0.01386474597111355, 0.25449764710789263, 0.1860951174504353, 0.11266299002404732, 0.13278138109977006, 0.06337293188852662, 0.05633149501202366, 0.08550316207182163, 0.06639069054988503, 0.02615390839843956, 0.014082873753005916, 0.20696731095158086, 0.18660796333127358, 0.17148387652761674, 0.08446220784196048, 0.11436136406149747, 0.0837641730664071, 0.06282312979980532, 0.05607546030278919, 0.02233711281770856, 0.011052217279595381, 0.37954294313076087, 0.19636663302324164, 0.16814627857678777, 0.1716738228825945, 0.13639837982452713, 0.06819918991226356, 0.07995767093161936, 0.05879240509677894, 0.06819918991226356, 0.030572050650325047, 0.021165265834840418, 0.496798138286443, 0.17700428104563531, 0.15757698190648023, 0.17052851466591695, 0.12303956121464893, 0.08418496293633874, 0.12303956121464893, 0.08850214052281766, 0.03022024310535237, 0.03022024310535237, 0.015110121552676185, 0.25998596937397705, 0.19366301800306454, 0.12355018369667131, 0.11331749977087338, 0.07162878748058552, 0.056469255738662655, 0.056469255738662655, 0.0651859864902683, 0.041309723996739794, 0.018191438090307432, 0.20160161600046256, 0.15202744813149635, 0.22804117219724454, 0.1057582247871279, 0.06940383501655269, 0.06609889049195494, 0.05948900144275945, 0.06940383501655269, 0.03304944524597747, 0.016524722622988736, 0.1575036415067982, 0.08750202305933232, 0.1925044507305311, 0.14000323689493172, 0.17500404611866463, 0.08750202305933232, 0.07000161844746586, 0.03500080922373293, 0.017500404611866464, 0.017500404611866464, 0.2686691102315246, 0.5193906479755174, 0.4736699156745747, 0.19556636716961598, 0.17196352975259335, 0.12475785491854813, 0.11464235316839558, 0.13487335666870068, 0.05732117658419779, 0.10789868533496054, 0.05394934266748027, 0.026974671333740135, 0.013487335666870067, 0.5019516976404836, 0.18135765165876455, 0.17645609350582497, 0.12744051197642914, 0.11763739567054997, 0.10293272121173123, 0.11763739567054997, 0.058818697835274984, 0.053917139682335406, 0.04411402337645624, 0.014704674458818746, 0.5802249549966015, 0.40615714000441117, 0.5252916120579858, 0.49694800718577403, 0.3555981174973111, 0.1982642683993316, 0.13411994627013607, 0.11954169124077345, 0.128288644258391, 0.10496343621141084, 0.13411994627013607, 0.10496343621141084, 0.029156510058725233, 0.02624085905285271, 0.020409557041107664, 0.09539244967145628, 0.12718993289527505, 0.09539244967145628, 0.28617734901436886, 0.12718993289527505, 0.09539244967145628, 0.12718993289527505, 0.031797483223818764, 0.031797483223818764, 0.1634668959486333, 0.1254897383040013, 0.1750251613187387, 0.12879209983831716, 0.08586139989221143, 0.10732674986526429, 0.09411730372800099, 0.07595431528926395, 0.026418892274526595, 0.018162988438737034, 0.32112253118408224, 0.32112253118408224, 0.1731521062549873, 0.0989440607171356, 0.1731521062549873, 0.12368007589641951, 0.07420804553785171, 0.07420804553785171, 0.07420804553785171, 0.14841609107570342, 0.0247360151792839, 0.0247360151792839, 0.5093082990486211, 0.19938559080378285, 0.3987711816075657, 0.19938559080378285, 0.3309553905310393, 0.3367167268957758, 0.1569881380251344, 0.1569881380251344, 0.1569881380251344, 0.1569881380251344, 0.0784940690125672, 0.1569881380251344, 0.0784940690125672, 0.0784940690125672, 0.19263625419198283, 0.38527250838396565, 0.19263625419198283, 0.1647815928299516, 0.28248273056563133, 0.1857062395385169, 0.09154532934997313, 0.06800510180283717, 0.04708045509427189, 0.03138697006284793, 0.06015835928712519, 0.04446487425570123, 0.023540227547135945, 0.2710719744376188, 0.12955645837092078, 0.10364516669673661, 0.12158375324040256, 0.10165199041410707, 0.07574069873992291, 0.09965881413147751, 0.06577481732677516, 0.017938586543665952, 0.011959057695777302, 0.47907630821960395, 0.21325745985372332, 0.14131518424041906, 0.19655657444349198, 0.13360708328185075, 0.06551885814783066, 0.0680882251340201, 0.07836569307877785, 0.060380124175451785, 0.026978353354989094, 0.014131518424041907, 0.17956758053851243, 0.2571081266801428, 0.15100001090738546, 0.10610811577275736, 0.06529730201400452, 0.06937838338987981, 0.05305405788637868, 0.06529730201400452, 0.02856756963112698, 0.024486488255251695, 0.1932617707472683, 0.12884118049817886, 0.12884118049817886, 0.12884118049817886, 0.06442059024908943, 0.1932617707472683, 0.06442059024908943, 0.06442059024908943, 0.22980411640304055, 0.1519044159274336, 0.14645143689414108, 0.12619751477048327, 0.07867869748036303, 0.07010973042804627, 0.09036365255170407, 0.05998276936621736, 0.025706901156950297, 0.02103291912841388, 0.47601675149438305, 0.1757005745671664, 0.21335069768870207, 0.1317754309253748, 0.12759208391187085, 0.07111689922956735, 0.08994196079033519, 0.0983086548173431, 0.054383511175551506, 0.01882506156076783, 0.01673338805401585, 0.07819922146099828, 0.18083569962855853, 0.19061060231118332, 0.11729883219149743, 0.09774902682624786, 0.15639844292199656, 0.09286157548493547, 0.03909961073049914, 0.02932470804787436, 0.024437256706561966, 0.23974268338144167, 0.47948536676288334, 0.23974268338144167, 0.2877236879589263, 0.15650903905458077, 0.1343764476731249, 0.09485396306338229, 0.096434862447772, 0.0679786735287573, 0.0648168747599779, 0.060074176606808784, 0.020551691997066163, 0.015808993843897046, 0.327298051311969, 0.5678704228349285, 0.4818593399048567, 0.16061977996828555, 0.16061977996828555, 0.5007977119319827, 0.26030553745436275, 0.21420976519681936, 0.1843830890301736, 0.07321093240903953, 0.03118243417422054, 0.05151880428784263, 0.07321093240903953, 0.0664321423711655, 0.028470918159070928, 0.01762485409847248, 0.2456038550922266, 0.1697262413238964, 0.2076650482080615, 0.08386473100710176, 0.06589371721986567, 0.06190015860047987, 0.047922703432629575, 0.06789049652955857, 0.023961351716314788, 0.025958131026007688, 0.1476091458490489, 0.15744975557231886, 0.14104873936686896, 0.1902517879832186, 0.07544467454506945, 0.07216447130397947, 0.08856548750942934, 0.0688842680628895, 0.03608223565198974, 0.019681219446539857, 0.2384756721644268, 0.16693297051509876, 0.12420607925230563, 0.12221878198426873, 0.06955540438129115, 0.11625689018015807, 0.07352999891736493, 0.05862526940708826, 0.017885675412332012, 0.012917432242239785, 0.2787926038243625, 0.2787926038243625, 0.1891069056539835, 0.11906731096732294, 0.15408710831065323, 0.12957325017032204, 0.14007918937332112, 0.0875494933583257, 0.09105147309265872, 0.05603167574932844, 0.021011878405998167, 0.01750989867166514, 0.4758586942113244, 0.5251637894315642, 0.5738705163022138, 0.16971888724895995, 0.09698222128511996, 0.15759610958831993, 0.14547333192767994, 0.09698222128511996, 0.07273666596383997, 0.15759610958831993, 0.04849111064255998, 0.036368332981919986, 0.012122777660639995, 0.3666637205231356, 0.3666637205231356, 0.1928936055948815, 0.12124740923106837, 0.1680929991612539, 0.13502552391641706, 0.12400303216813811, 0.09369117986037102, 0.07164619636381313, 0.049601212867255245, 0.024800606433627623, 0.019289360559488152, 0.17625061225394037, 0.17625061225394037, 0.08812530612697018, 0.08812530612697018, 0.08812530612697018, 0.08812530612697018, 0.17625061225394037, 0.1687542536056957, 0.16516373757153197, 0.23697405825480675, 0.12566806119573085, 0.0646292886149473, 0.08258186878576598, 0.05744825654661982, 0.05385774051245608, 0.02872412827330991, 0.014362064136654955, 0.19369801659636657, 0.38739603319273314, 0.4744949311863328, 0.15356145883385325, 0.18066053980453325, 0.12194586436805994, 0.1896935667947599, 0.06774770242669996, 0.08581375640715329, 0.10387981038760662, 0.045165134951133314, 0.022582567475566657, 0.027099080970679985, 0.19331664815207686, 0.23944903009745885, 0.11642934490977357, 0.1186261250024108, 0.07029696296439158, 0.07469052314966607, 0.08567442361285225, 0.048329162038019215, 0.03295170138955856, 0.02196780092637237, 0.2844732406680521, 0.13764834225873487, 0.17435456686106418, 0.10400096970659968, 0.07647130125485271, 0.05811818895368806, 0.08258900535524093, 0.03976507665252341, 0.027529668451746977, 0.015294260250970542, 0.23141183872032878, 0.15793035438733338, 0.18096186440215284, 0.0954162557756806, 0.09102930148714355, 0.08006191576580095, 0.06909453004445835, 0.05374019003457872, 0.018644555726282413, 0.021934771442685193, 0.5622875442390962, 0.24428004681111393, 0.48856009362222785, 0.5138196694435898, 0.19089084967048792, 0.1338203894597235, 0.19285879657430738, 0.10233323899861209, 0.13185244255590403, 0.06494224782604228, 0.07281403544132013, 0.06691019472986175, 0.025583309749653022, 0.015743575230555706, 0.23929267316566502, 0.1610623761691976, 0.11734544549470112, 0.10584099005404415, 0.10814188114217554, 0.07132762373207323, 0.06902673264394184, 0.08283207917273021, 0.029911584145708128, 0.01610623761691976, 0.16337304575912007, 0.16337304575912007, 0.32674609151824013, 0.16337304575912007, 0.5182594850101858, 0.14113854311356142, 0.14113854311356142, 0.15626052987572872, 0.12097589409733836, 0.11089456958922683, 0.10585390733517107, 0.08065059606489225, 0.08065059606489225, 0.04536596028650189, 0.010081324508111531, 0.3979295450895976, 0.13264318169653252, 0.13264318169653252, 0.06632159084826626, 0.06632159084826626, 0.06632159084826626, 0.06632159084826626, 0.06632159084826626, 0.24355290131643134, 0.15472772554220343, 0.15472772554220343, 0.10028648877735409, 0.09169050402500944, 0.07449853452032018, 0.06017189326641245, 0.06017189326641245, 0.025787954257033906, 0.031518610758597, 0.2101695861706063, 0.12362916833565077, 0.20192764161489626, 0.08241944555710051, 0.08241944555710051, 0.11950819605779574, 0.049451667334260305, 0.07005652872353543, 0.02884680594498518, 0.03296777822284021, 0.17043520594960096, 0.13006897296153758, 0.18052676419661678, 0.15361594220457453, 0.10540071946883217, 0.11549227771584801, 0.0616706337317635, 0.04260880148740024, 0.025789537742373827, 0.014576695245689554, 0.2584169045935872, 0.15339185245929504, 0.10018837210179181, 0.09949741781143463, 0.09949741781143463, 0.082223560552505, 0.082223560552505, 0.0870602405850053, 0.024874354452858658, 0.012437177226429329, 0.19051661249152674, 0.09209807807647263, 0.18961369015744367, 0.14175880645104122, 0.09661268974688796, 0.09390392274463877, 0.0902922334083065, 0.06591333038806375, 0.023475980686159692, 0.015349679679412106, 0.2890681875623, 0.16684472570709932, 0.12416351680528323, 0.06402181335272417, 0.07178203315305437, 0.07178203315305437, 0.04656131880198121, 0.08924252770379731, 0.04850137375206376, 0.027160769301155706, 0.4890804012249148, 0.17188068810241838, 0.16591260865441773, 0.18739769466722003, 0.168299840433618, 0.07877864871360843, 0.05132548325280549, 0.08713395994080932, 0.05848717859040625, 0.017904238344001917, 0.011936158896001277, 0.14273055710605714, 0.14273055710605714, 0.14273055710605714, 0.14273055710605714, 0.2854611142121143, 0.14273055710605714, 0.13682961577211442, 0.4104888473163432, 0.13682961577211442, 0.18497726100058626, 0.17236517502327356, 0.18077323234148204, 0.10930474513671007, 0.0756725158638762, 0.0756725158638762, 0.0882846018411889, 0.05885640122745927, 0.029428200613729635, 0.029428200613729635, 0.34950503033412966, 0.5768262916734903, 0.1406418107866163, 0.13516772833084978, 0.17685497164784084, 0.1848555536985765, 0.09853348420379704, 0.0673733225325108, 0.089690735621405, 0.067794405798339, 0.023580662886378778, 0.015580080835643122, 0.26831140102183243, 0.10340240039379588, 0.15421220058729904, 0.10340240039379588, 0.10875080041416464, 0.10518520040058546, 0.0570496002172667, 0.056158200213871905, 0.02585060009844897, 0.01693660006450105, 0.11189035032737728, 0.265003461301683, 0.12366828194078541, 0.12955724774748947, 0.1060013845206732, 0.10011241871396914, 0.08833448710056101, 0.04711172645363254, 0.02355586322681627, 0.011777931613408135, 0.1581408423000082, 0.17961675915556485, 0.09566544781111606, 0.1659502666111197, 0.07614188703333727, 0.12104607682222848, 0.12299843290000637, 0.04295183371111333, 0.025380629011112425, 0.011714136466667273, 0.3574618007562223, 0.3179037083565834, 0.3179037083565834, 0.2500181437182607, 0.13031248702891163, 0.12273617964350979, 0.13485827146015272, 0.06818676646861654, 0.11667513373518831, 0.0894004271477417, 0.03636627544992883, 0.025759445110366253, 0.024244183633285885, 0.1766178681661795, 0.15393930921877125, 0.20548148864469912, 0.1669966613400063, 0.07422073837333613, 0.07215905119629902, 0.07971857084543511, 0.030925307655556723, 0.024740246124445378, 0.014431810239259804, 0.18442200730880548, 0.17847291029884402, 0.21268021810612245, 0.1115455689367775, 0.07287643837202797, 0.062465518604595406, 0.0580036958471243, 0.07287643837202797, 0.02825821079731697, 0.019334565282374767, 0.17176441515789678, 0.15566150123684397, 0.15566150123684397, 0.13955858731579113, 0.09124984555263267, 0.1288233113684226, 0.05367637973684274, 0.04830874176315847, 0.04830874176315847, 0.010735275947368549, 0.3063244556589088, 0.3063244556589088, 0.47678258210829455, 0.239523956460718, 0.1494060322477746, 0.21818023756817878, 0.11146164310548264, 0.07826030260597718, 0.05691658371343795, 0.05217353507065145, 0.04743048642786495, 0.023715243213932476, 0.018972194571145982, 0.3546749197734546, 0.3656920363648084, 0.3656920363648084, 0.26743124765120807, 0.26743124765120807, 0.4037721406828884, 0.11536346876653955, 0.11536346876653955, 0.057681734383269775, 0.057681734383269775, 0.057681734383269775, 0.057681734383269775, 0.057681734383269775, 0.057681734383269775, 0.4999845310691902, 0.1547928070024284, 0.09209192315334348, 0.17634623582555134, 0.12736117031845376, 0.08033550743164006, 0.16458982010384793, 0.07445729957078835, 0.09013252053305958, 0.027431636683974654, 0.013715818341987327, 0.21986261884929542, 0.15208542055740737, 0.13941163551095676, 0.12288061153732552, 0.06887926655679681, 0.09147166598742616, 0.07659374441115806, 0.0821040857357018, 0.027551706622718726, 0.01873516050344873, 0.16235803337840848, 0.16235803337840848, 0.16235803337840848, 0.16235803337840848, 0.16235803337840848, 0.16235803337840848, 0.32471606675681697, 0.17587189248400706, 0.13544157237274107, 0.19406553653407674, 0.10309731628372827, 0.11926944432823466, 0.09501125226147507, 0.07277457620027877, 0.06671002818358888, 0.026279708072322893, 0.014150612038943095, 0.1999079866384854, 0.19771119557652403, 0.21748231513417643, 0.11642992628395303, 0.06590373185884134, 0.06370694079687997, 0.052722985487073076, 0.03734544805334343, 0.028558283805497915, 0.02196791061961378, 0.2081746235794707, 0.2076449171581489, 0.12977807322384305, 0.11812453195476327, 0.05773799992407712, 0.08952038520338562, 0.09005009162470744, 0.04661416507631914, 0.03654974307120478, 0.015361486218332445, 0.5709319216489593, 0.5588418480796297, 0.32258243846185114, 0.14737862147274358, 0.1828349275082152, 0.15592230967406204, 0.17770871458742413, 0.08159222232259136, 0.08415532878298691, 0.06365047709982258, 0.06365047709982258, 0.02776698665428502, 0.014524269942241395, 0.5578972540389863, 0.5048681180401144, 0.06682363856517919, 0.13364727713035837, 0.13364727713035837, 0.13364727713035837, 0.06682363856517919, 0.06682363856517919, 0.26729455426071674, 0.06682363856517919], \"Term\": [\"000\", \"000\", \"000\", \"000\", \"000\", \"000\", \"000\", \"000\", \"000\", \"000\", \"1\", \"1\", \"1\", \"1\", \"1\", \"1\", \"1\", \"1\", \"1\", \"1\", \"178\", \"193\", \"224\", \"224\", \"345\", \"345\", \"7\", \"7\", \"7\", \"7\", \"7\", \"7\", \"7\", \"7\", \"7\", \"7\", \"770\", \"80beat\", \"910\", \"acadian\", \"accus\", \"accus\", \"accus\", \"accus\", \"accus\", \"accus\", \"accus\", \"accus\", \"accus\", \"accus\", \"activist\", \"activist\", \"activist\", \"activist\", \"activist\", \"activist\", \"activist\", \"activist\", \"activist\", \"activist\", \"adbust\", \"adl\", \"admit\", \"admit\", \"admit\", \"admit\", \"admit\", \"admit\", \"admit\", \"admit\", \"admit\", \"admit\", \"affidavit\", \"afghan\", \"afghan\", \"afghan\", \"afghan\", \"afghan\", \"afghan\", \"afghan\", \"afghan\", \"afghan\", \"afghan\", \"african\", \"african\", \"african\", \"african\", \"african\", \"african\", \"african\", \"african\", \"african\", \"african\", \"aftenposten\", \"aftenposten\", \"aftenposten\", \"ago\", \"ago\", \"ago\", \"ago\", \"ago\", \"ago\", \"ago\", \"ago\", \"ago\", \"ago\", \"aki\", \"also\", \"also\", \"also\", \"also\", \"also\", \"also\", \"also\", \"also\", \"also\", \"also\", \"american\", \"american\", \"american\", \"american\", \"american\", \"american\", \"american\", \"american\", \"american\", \"american\", \"amid\", \"amid\", \"amid\", \"amid\", \"amid\", \"amid\", \"amid\", \"amid\", \"amid\", \"amid\", \"amp\", \"amp\", \"amp\", \"amp\", \"amp\", \"amp\", \"amp\", \"amp\", \"amp\", \"amp\", \"amulet\", \"anjem\", \"anti\", \"anti\", \"anti\", \"anti\", \"anti\", \"anti\", \"anti\", \"anti\", \"anti\", \"anti\", \"apophi\", \"ara\", \"arab\", \"arab\", \"arab\", \"arab\", \"arab\", \"arab\", \"arab\", \"arab\", \"arab\", \"arab\", \"arian\", \"armour\", \"armour\", \"armour\", \"armour\", \"armour\", \"armour\", \"armour\", \"armour\", \"arr\", \"arrest\", \"arrest\", \"arrest\", \"arrest\", \"arrest\", \"arrest\", \"arrest\", \"arrest\", \"arrest\", \"arrest\", \"assang\", \"assang\", \"assang\", \"assang\", \"assang\", \"assang\", \"assang\", \"assang\", \"assang\", \"assang\", \"attack\", \"attack\", \"attack\", \"attack\", \"attack\", \"attack\", \"attack\", \"attack\", \"attack\", \"attack\", \"audac\", \"auf\", \"austurvollur\", \"author\", \"author\", \"author\", \"author\", \"author\", \"author\", \"author\", \"author\", \"author\", \"author\", \"b\", \"b\", \"b\", \"b\", \"b\", \"b\", \"b\", \"b\", \"b\", \"b\", \"bakassi\", \"ban\", \"ban\", \"ban\", \"ban\", \"ban\", \"ban\", \"ban\", \"ban\", \"ban\", \"ban\", \"bank\", \"bank\", \"bank\", \"bank\", \"bank\", \"bank\", \"bank\", \"bank\", \"bank\", \"bank\", \"barbecu\", \"begum\", \"bilal\", \"bin\", \"bin\", \"bin\", \"bin\", \"bin\", \"bin\", \"bin\", \"bin\", \"bin\", \"bin\", \"biochemistri\", \"bladerunn\", \"bleeken\", \"blockupi\", \"bodi\", \"bodi\", \"bodi\", \"bodi\", \"bodi\", \"bodi\", \"bodi\", \"bodi\", \"bodi\", \"bodi\", \"bomb\", \"bomb\", \"bomb\", \"bomb\", \"bomb\", \"bomb\", \"bomb\", \"bomb\", \"bomb\", \"bomb\", \"bondswap\", \"brazil\", \"brazil\", \"brazil\", \"brazil\", \"brazil\", \"brazil\", \"brazil\", \"brazil\", \"brazil\", \"brazil\", \"breathnig\", \"breez\", \"british\", \"british\", \"british\", \"british\", \"british\", \"british\", \"british\", \"british\", \"british\", \"british\", \"busload\", \"busload\", \"call\", \"call\", \"call\", \"call\", \"call\", \"call\", \"call\", \"call\", \"call\", \"call\", \"can\", \"can\", \"can\", \"can\", \"can\", \"can\", \"can\", \"can\", \"can\", \"can\", \"canada\", \"canada\", \"canada\", \"canada\", \"canada\", \"canada\", \"canada\", \"canada\", \"canada\", \"canada\", \"candidli\", \"car\", \"car\", \"car\", \"car\", \"car\", \"car\", \"car\", \"car\", \"car\", \"car\", \"careless\", \"cern\", \"cern\", \"cern\", \"cern\", \"cern\", \"children\", \"children\", \"children\", \"children\", \"children\", \"children\", \"children\", \"children\", \"children\", \"children\", \"china\", \"china\", \"china\", \"china\", \"china\", \"china\", \"china\", \"china\", \"china\", \"china\", \"chines\", \"chines\", \"chines\", \"chines\", \"chines\", \"chines\", \"chines\", \"chines\", \"chines\", \"chines\", \"choudari\", \"citi\", \"citi\", \"citi\", \"citi\", \"citi\", \"citi\", \"citi\", \"citi\", \"citi\", \"citi\", \"claim\", \"claim\", \"claim\", \"claim\", \"claim\", \"claim\", \"claim\", \"claim\", \"claim\", \"claim\", \"cleansin\", \"climateg\", \"colvin\", \"congresswoman\", \"contort\", \"cosatu\", \"cost\", \"cost\", \"cost\", \"cost\", \"cost\", \"cost\", \"cost\", \"cost\", \"cost\", \"cost\", \"countri\", \"countri\", \"countri\", \"countri\", \"countri\", \"countri\", \"countri\", \"countri\", \"countri\", \"countri\", \"court\", \"court\", \"court\", \"court\", \"court\", \"court\", \"court\", \"court\", \"court\", \"court\", \"creep\", \"creep\", \"crime\", \"crime\", \"crime\", \"crime\", \"crime\", \"crime\", \"crime\", \"crime\", \"crime\", \"crime\", \"crisi\", \"crisi\", \"crisi\", \"crisi\", \"crisi\", \"crisi\", \"crisi\", \"crisi\", \"crisi\", \"crisi\", \"crowdsourc\", \"crowdsourc\", \"crowdsourc\", \"crtc\", \"crtc\", \"currant\", \"danub\", \"danub\", \"danub\", \"danub\", \"danub\", \"danub\", \"day\", \"day\", \"day\", \"day\", \"day\", \"day\", \"day\", \"day\", \"day\", \"day\", \"dead\", \"dead\", \"dead\", \"dead\", \"dead\", \"dead\", \"dead\", \"dead\", \"dead\", \"dead\", \"death\", \"death\", \"death\", \"death\", \"death\", \"death\", \"death\", \"death\", \"death\", \"death\", \"deciph\", \"disrepair\", \"disus\", \"drug\", \"drug\", \"drug\", \"drug\", \"drug\", \"drug\", \"drug\", \"drug\", \"drug\", \"drug\", \"dubai\", \"dubai\", \"dubai\", \"dubai\", \"dubai\", \"dubai\", \"dubai\", \"dubai\", \"dubai\", \"dubai\", \"dyilo\", \"effemin\", \"egypt\", \"egypt\", \"egypt\", \"egypt\", \"egypt\", \"egypt\", \"egypt\", \"egypt\", \"egypt\", \"egypt\", \"elect\", \"elect\", \"elect\", \"elect\", \"elect\", \"elect\", \"elect\", \"elect\", \"elect\", \"elect\", \"embarras\", \"end\", \"end\", \"end\", \"end\", \"end\", \"end\", \"end\", \"end\", \"end\", \"end\", \"european\", \"european\", \"european\", \"european\", \"european\", \"european\", \"european\", \"european\", \"european\", \"european\", \"euthan\", \"euthan\", \"fatalist\", \"find\", \"find\", \"find\", \"find\", \"find\", \"find\", \"find\", \"find\", \"find\", \"find\", \"fire\", \"fire\", \"fire\", \"fire\", \"fire\", \"fire\", \"fire\", \"fire\", \"fire\", \"fire\", \"first\", \"first\", \"first\", \"first\", \"first\", \"first\", \"first\", \"first\", \"first\", \"first\", \"forc\", \"forc\", \"forc\", \"forc\", \"forc\", \"forc\", \"forc\", \"forc\", \"forc\", \"forc\", \"foreign\", \"foreign\", \"foreign\", \"foreign\", \"foreign\", \"foreign\", \"foreign\", \"foreign\", \"foreign\", \"foreign\", \"formerli\", \"found\", \"found\", \"found\", \"found\", \"found\", \"found\", \"found\", \"found\", \"found\", \"found\", \"fourteen\", \"fourteen\", \"fourteen\", \"fourteen\", \"fourteen\", \"fourteen\", \"fourteen\", \"franc\", \"franc\", \"franc\", \"franc\", \"franc\", \"franc\", \"franc\", \"franc\", \"franc\", \"franc\", \"free\", \"free\", \"free\", \"free\", \"free\", \"free\", \"free\", \"free\", \"free\", \"free\", \"fungi\", \"gaza\", \"gaza\", \"gaza\", \"gaza\", \"gaza\", \"gaza\", \"gaza\", \"gaza\", \"gaza\", \"gaza\", \"genr\", \"georgia\", \"georgia\", \"georgia\", \"georgia\", \"georgia\", \"georgia\", \"georgia\", \"georgia\", \"georgia\", \"georgia\", \"georgian\", \"georgian\", \"georgian\", \"georgian\", \"georgian\", \"georgian\", \"georgian\", \"georgian\", \"german\", \"german\", \"german\", \"german\", \"german\", \"german\", \"german\", \"german\", \"german\", \"german\", \"get\", \"get\", \"get\", \"get\", \"get\", \"get\", \"get\", \"get\", \"get\", \"get\", \"gilbert\", \"gilbert\", \"gilbert\", \"gilbert\", \"global\", \"global\", \"global\", \"global\", \"global\", \"global\", \"global\", \"global\", \"global\", \"global\", \"govern\", \"govern\", \"govern\", \"govern\", \"govern\", \"govern\", \"govern\", \"govern\", \"govern\", \"govern\", \"gox\", \"gox\", \"guam\", \"guam\", \"guam\", \"guam\", \"guardian\", \"guardian\", \"guardian\", \"guardian\", \"guardian\", \"guardian\", \"guardian\", \"guardian\", \"guardian\", \"guardian\", \"guenter\", \"gunpowd\", \"hack\", \"hack\", \"hack\", \"hack\", \"hack\", \"hack\", \"hack\", \"hack\", \"hack\", \"hack\", \"hadron\", \"hamad\", \"handey\", \"handwrit\", \"harriet\", \"hd\", \"hen\", \"hen\", \"high\", \"high\", \"high\", \"high\", \"high\", \"high\", \"high\", \"high\", \"high\", \"high\", \"home\", \"home\", \"home\", \"home\", \"home\", \"home\", \"home\", \"home\", \"home\", \"home\", \"honduran\", \"honduran\", \"honduran\", \"honduran\", \"honduran\", \"honduran\", \"honduran\", \"honduran\", \"hose\", \"hotel\", \"hotel\", \"hotel\", \"hotel\", \"hotel\", \"hotel\", \"hotel\", \"hotel\", \"hotel\", \"hotel\", \"humanist\", \"iceland\", \"iceland\", \"iceland\", \"iceland\", \"iceland\", \"iceland\", \"iceland\", \"iceland\", \"iceland\", \"iceland\", \"ijf\", \"incapac\", \"india\", \"india\", \"india\", \"india\", \"india\", \"india\", \"india\", \"india\", \"india\", \"india\", \"iran\", \"iran\", \"iran\", \"iran\", \"iran\", \"iran\", \"iran\", \"iran\", \"iran\", \"iran\", \"iranian\", \"iranian\", \"iranian\", \"iranian\", \"iranian\", \"iranian\", \"iranian\", \"iranian\", \"iranian\", \"iranian\", \"iraq\", \"iraq\", \"iraq\", \"iraq\", \"iraq\", \"iraq\", \"iraq\", \"iraq\", \"iraq\", \"iraq\", \"isi\", \"isi\", \"isi\", \"isi\", \"isi\", \"isi\", \"isi\", \"isi\", \"isi\", \"isi\", \"islam\", \"islam\", \"islam\", \"islam\", \"islam\", \"islam\", \"islam\", \"islam\", \"islam\", \"islam\", \"isolation\", \"isra\", \"isra\", \"isra\", \"isra\", \"isra\", \"isra\", \"isra\", \"isra\", \"isra\", \"isra\", \"israel\", \"israel\", \"israel\", \"israel\", \"israel\", \"israel\", \"israel\", \"israel\", \"israel\", \"israel\", \"itn\", \"itn\", \"japan\", \"japan\", \"japan\", \"japan\", \"japan\", \"japan\", \"japan\", \"japan\", \"japan\", \"japan\", \"jdl\", \"jeopardis\", \"jnger\", \"jubile\", \"julian\", \"julian\", \"julian\", \"julian\", \"julian\", \"julian\", \"julian\", \"julian\", \"julian\", \"julian\", \"juri\", \"juri\", \"juri\", \"juri\", \"juri\", \"juri\", \"juri\", \"juri\", \"juri\", \"kayayo\", \"khawaja\", \"kill\", \"kill\", \"kill\", \"kill\", \"kill\", \"kill\", \"kill\", \"kill\", \"kill\", \"kill\", \"kim\", \"kim\", \"kim\", \"kim\", \"kim\", \"kim\", \"kim\", \"kim\", \"kim\", \"kim\", \"kke\", \"klein\", \"klein\", \"klein\", \"klein\", \"klein\", \"korea\", \"korea\", \"korea\", \"korea\", \"korea\", \"korea\", \"korea\", \"korea\", \"korea\", \"korea\", \"kramatorsk\", \"kramatorsk\", \"kramatorsk\", \"kumaritashvili\", \"lada\", \"last\", \"last\", \"last\", \"last\", \"last\", \"last\", \"last\", \"last\", \"last\", \"last\", \"law\", \"law\", \"law\", \"law\", \"law\", \"law\", \"law\", \"law\", \"law\", \"law\", \"layton\", \"layton\", \"layton\", \"leader\", \"leader\", \"leader\", \"leader\", \"leader\", \"leader\", \"leader\", \"leader\", \"leader\", \"leader\", \"lego\", \"lego\", \"lego\", \"lego\", \"lego\", \"lego\", \"lego\", \"lego\", \"lesley\", \"libor\", \"libor\", \"libor\", \"libor\", \"libor\", \"libor\", \"libor\", \"libor\", \"libor\", \"libor\", \"like\", \"like\", \"like\", \"like\", \"like\", \"like\", \"like\", \"like\", \"like\", \"like\", \"limp\", \"liz\", \"liz\", \"lockerbi\", \"lockerbi\", \"lockerbi\", \"lockerbi\", \"lockerbi\", \"lockerbi\", \"lockerbi\", \"lockerbi\", \"luger\", \"m\", \"m\", \"m\", \"m\", \"m\", \"m\", \"m\", \"m\", \"m\", \"m\", \"maciel\", \"madeira\", \"majid\", \"majid\", \"make\", \"make\", \"make\", \"make\", \"make\", \"make\", \"make\", \"make\", \"make\", \"make\", \"man\", \"man\", \"man\", \"man\", \"man\", \"man\", \"man\", \"man\", \"man\", \"man\", \"mandelson\", \"mani\", \"mani\", \"mani\", \"mani\", \"mani\", \"mani\", \"mani\", \"mani\", \"mani\", \"mani\", \"massiv\", \"massiv\", \"massiv\", \"massiv\", \"massiv\", \"massiv\", \"massiv\", \"massiv\", \"massiv\", \"massiv\", \"massoud\", \"may\", \"may\", \"may\", \"may\", \"may\", \"may\", \"may\", \"may\", \"may\", \"may\", \"mckinney\", \"mckinney\", \"mckinney\", \"mckinney\", \"mean\", \"mean\", \"mean\", \"mean\", \"mean\", \"mean\", \"mean\", \"mean\", \"mean\", \"mean\", \"medina\", \"meet\", \"meet\", \"meet\", \"meet\", \"meet\", \"meet\", \"meet\", \"meet\", \"meet\", \"meet\", \"megaupload\", \"megaupload\", \"megaupload\", \"megaupload\", \"megaupload\", \"megaupload\", \"megaupload\", \"megaupload\", \"megaupload\", \"megaupload\", \"melamin\", \"melamin\", \"melamin\", \"melamin\", \"melamin\", \"melamin\", \"melamin\", \"merri\", \"merri\", \"mexico\", \"mexico\", \"mexico\", \"mexico\", \"mexico\", \"mexico\", \"mexico\", \"mexico\", \"mexico\", \"mexico\", \"militari\", \"militari\", \"militari\", \"militari\", \"militari\", \"militari\", \"militari\", \"militari\", \"militari\", \"militari\", \"minist\", \"minist\", \"minist\", \"minist\", \"minist\", \"minist\", \"minist\", \"minist\", \"minist\", \"minist\", \"mission\", \"mission\", \"mission\", \"mission\", \"mission\", \"mission\", \"mission\", \"mission\", \"mission\", \"mission\", \"modi\", \"modi\", \"modi\", \"modi\", \"modi\", \"modi\", \"mubarak\", \"mubarak\", \"mubarak\", \"mubarak\", \"mubarak\", \"mubarak\", \"mubarak\", \"mubarak\", \"mubarak\", \"mubarak\", \"multipli\", \"multipli\", \"multipli\", \"mw\", \"mw\", \"mw\", \"n\", \"n\", \"n\", \"n\", \"n\", \"n\", \"n\", \"n\", \"n\", \"n\", \"nasa\", \"nasa\", \"nasa\", \"nasa\", \"nasa\", \"nasa\", \"nasa\", \"nasa\", \"nasa\", \"nasa\", \"nation\", \"nation\", \"nation\", \"nation\", \"nation\", \"nation\", \"nation\", \"nation\", \"nation\", \"nation\", \"nato\", \"nato\", \"nato\", \"nato\", \"nato\", \"nato\", \"nato\", \"nato\", \"nato\", \"nato\", \"nevada\", \"new\", \"new\", \"new\", \"new\", \"new\", \"new\", \"new\", \"new\", \"new\", \"new\", \"news\", \"news\", \"news\", \"news\", \"news\", \"news\", \"news\", \"news\", \"news\", \"news\", \"nidal\", \"njudg\", \"north\", \"north\", \"north\", \"north\", \"north\", \"north\", \"north\", \"north\", \"north\", \"north\", \"now\", \"now\", \"now\", \"now\", \"now\", \"now\", \"now\", \"now\", \"now\", \"now\", \"nsa\", \"nsa\", \"nsa\", \"nsa\", \"nsa\", \"nsa\", \"nsa\", \"nsa\", \"nsa\", \"nsa\", \"nscrapyard\", \"nuclear\", \"nuclear\", \"nuclear\", \"nuclear\", \"nuclear\", \"nuclear\", \"nuclear\", \"nuclear\", \"nuclear\", \"nuclear\", \"nuez\", \"nynorsk\", \"nynorsk\", \"obama\", \"obama\", \"obama\", \"obama\", \"obama\", \"obama\", \"obama\", \"obama\", \"obama\", \"obama\", \"obl\", \"offic\", \"offic\", \"offic\", \"offic\", \"offic\", \"offic\", \"offic\", \"offic\", \"offic\", \"offic\", \"offici\", \"offici\", \"offici\", \"offici\", \"offici\", \"offici\", \"offici\", \"offici\", \"offici\", \"offici\", \"ogoni\", \"ogoni\", \"ogoni\", \"ogoni\", \"ogoni\", \"olaf\", \"old\", \"old\", \"old\", \"old\", \"old\", \"old\", \"old\", \"old\", \"old\", \"old\", \"oligarchi\", \"oligarchi\", \"olso\", \"omv\", \"one\", \"one\", \"one\", \"one\", \"one\", \"one\", \"one\", \"one\", \"one\", \"one\", \"order\", \"order\", \"order\", \"order\", \"order\", \"order\", \"order\", \"order\", \"order\", \"order\", \"organ\", \"organ\", \"organ\", \"organ\", \"organ\", \"organ\", \"organ\", \"organ\", \"organ\", \"organ\", \"ossetian\", \"ossetian\", \"ossetian\", \"ossetian\", \"ossetian\", \"palestinian\", \"palestinian\", \"palestinian\", \"palestinian\", \"palestinian\", \"palestinian\", \"palestinian\", \"palestinian\", \"palestinian\", \"palestinian\", \"parchin\", \"parchin\", \"parchin\", \"past\", \"past\", \"past\", \"past\", \"past\", \"past\", \"past\", \"past\", \"past\", \"past\", \"paycheck\", \"paycheck\", \"paycheck\", \"penkniv\", \"peopl\", \"peopl\", \"peopl\", \"peopl\", \"peopl\", \"peopl\", \"peopl\", \"peopl\", \"peopl\", \"peopl\", \"phosphoru\", \"phosphoru\", \"phosphoru\", \"phosphoru\", \"phosphoru\", \"phosphoru\", \"phosphoru\", \"phosphoru\", \"pic\", \"pic\", \"pic\", \"pic\", \"pic\", \"pic\", \"pic\", \"pic\", \"pic\", \"pic\", \"pictur\", \"pictur\", \"pictur\", \"pictur\", \"pictur\", \"pictur\", \"pictur\", \"pictur\", \"pictur\", \"pictur\", \"pikangikum\", \"pirat\", \"pirat\", \"pirat\", \"pirat\", \"pirat\", \"pirat\", \"pirat\", \"pirat\", \"pirat\", \"pirat\", \"place\", \"place\", \"place\", \"place\", \"place\", \"place\", \"place\", \"place\", \"place\", \"place\", \"plan\", \"plan\", \"plan\", \"plan\", \"plan\", \"plan\", \"plan\", \"plan\", \"plan\", \"plan\", \"plier\", \"polanski\", \"polanski\", \"polanski\", \"polanski\", \"polanski\", \"polanski\", \"polanski\", \"polic\", \"polic\", \"polic\", \"polic\", \"polic\", \"polic\", \"polic\", \"polic\", \"polic\", \"polic\", \"poti\", \"power\", \"power\", \"power\", \"power\", \"power\", \"power\", \"power\", \"power\", \"power\", \"power\", \"powerplan\", \"precept\", \"presid\", \"presid\", \"presid\", \"presid\", \"presid\", \"presid\", \"presid\", \"presid\", \"presid\", \"presid\", \"prime\", \"prime\", \"prime\", \"prime\", \"prime\", \"prime\", \"prime\", \"prime\", \"prime\", \"prime\", \"princip\", \"princip\", \"princip\", \"prison\", \"prison\", \"prison\", \"prison\", \"prison\", \"prison\", \"prison\", \"prison\", \"prison\", \"prison\", \"protest\", \"protest\", \"protest\", \"protest\", \"protest\", \"protest\", \"protest\", \"protest\", \"protest\", \"protest\", \"ps\", \"public\", \"public\", \"public\", \"public\", \"public\", \"public\", \"public\", \"public\", \"public\", \"public\", \"putin\", \"putin\", \"putin\", \"putin\", \"putin\", \"putin\", \"putin\", \"putin\", \"putin\", \"putin\", \"pwning\", \"r\", \"r\", \"r\", \"r\", \"r\", \"r\", \"r\", \"r\", \"r\", \"r\", \"rainbow\", \"rainbow\", \"rant\", \"rant\", \"rant\", \"rant\", \"rant\", \"rant\", \"rape\", \"rape\", \"rape\", \"rape\", \"rape\", \"rape\", \"rape\", \"rape\", \"rape\", \"rape\", \"rath\", \"reactor\", \"reactor\", \"reactor\", \"reactor\", \"reactor\", \"reactor\", \"reactor\", \"reactor\", \"reactor\", \"reactor\", \"record\", \"record\", \"record\", \"record\", \"record\", \"record\", \"record\", \"record\", \"record\", \"record\", \"reddit\", \"reddit\", \"reddit\", \"reddit\", \"reddit\", \"reddit\", \"reddit\", \"reddit\", \"reddit\", \"reddit\", \"reid\", \"report\", \"report\", \"report\", \"report\", \"report\", \"report\", \"report\", \"report\", \"report\", \"report\", \"reshuffl\", \"restrepo\", \"revert\", \"revert\", \"revert\", \"right\", \"right\", \"right\", \"right\", \"right\", \"right\", \"right\", \"right\", \"right\", \"right\", \"ringworm\", \"riverbank\", \"riyal\", \"rpt\", \"russia\", \"russia\", \"russia\", \"russia\", \"russia\", \"russia\", \"russia\", \"russia\", \"russia\", \"russia\", \"russian\", \"russian\", \"russian\", \"russian\", \"russian\", \"russian\", \"russian\", \"russian\", \"russian\", \"russian\", \"s\", \"s\", \"s\", \"s\", \"s\", \"s\", \"s\", \"s\", \"s\", \"s\", \"saddest\", \"said\", \"said\", \"said\", \"said\", \"said\", \"said\", \"said\", \"said\", \"said\", \"said\", \"sandor\", \"saudi\", \"saudi\", \"saudi\", \"saudi\", \"saudi\", \"saudi\", \"saudi\", \"saudi\", \"saudi\", \"saudi\", \"say\", \"say\", \"say\", \"say\", \"say\", \"say\", \"say\", \"say\", \"say\", \"say\", \"scientist\", \"scientist\", \"scientist\", \"scientist\", \"scientist\", \"scientist\", \"scientist\", \"scientist\", \"scientist\", \"scientist\", \"scientolog\", \"scientolog\", \"scientolog\", \"scientolog\", \"scientolog\", \"scientolog\", \"scientolog\", \"scientolog\", \"scientolog\", \"scientolog\", \"scooter\", \"scriptur\", \"scruniti\", \"see\", \"see\", \"see\", \"see\", \"see\", \"see\", \"see\", \"see\", \"see\", \"see\", \"semmelwei\", \"sever\", \"sever\", \"sever\", \"sever\", \"sever\", \"sever\", \"sever\", \"sever\", \"sever\", \"sever\", \"sewerag\", \"shakedown\", \"shakeup\", \"shan\", \"shaw\", \"ship\", \"ship\", \"ship\", \"ship\", \"ship\", \"ship\", \"ship\", \"ship\", \"ship\", \"ship\", \"shit\", \"shit\", \"shit\", \"shit\", \"shit\", \"shit\", \"shit\", \"shit\", \"shit\", \"show\", \"show\", \"show\", \"show\", \"show\", \"show\", \"show\", \"show\", \"show\", \"show\", \"silwan\", \"silwan\", \"similar\", \"similar\", \"similar\", \"similar\", \"similar\", \"similar\", \"similar\", \"similar\", \"similar\", \"similar\", \"sinopec\", \"sk\", \"sk\", \"sk\", \"skynet\", \"slaviansk\", \"smoker\", \"smoker\", \"smoker\", \"smoker\", \"smoker\", \"smoker\", \"smoker\", \"smoker\", \"snif\", \"snif\", \"snif\", \"snowden\", \"snowden\", \"snowden\", \"snowden\", \"snowden\", \"snowden\", \"snowden\", \"snowden\", \"snowden\", \"snowden\", \"soldier\", \"soldier\", \"soldier\", \"soldier\", \"soldier\", \"soldier\", \"soldier\", \"soldier\", \"soldier\", \"soldier\", \"solitair\", \"south\", \"south\", \"south\", \"south\", \"south\", \"south\", \"south\", \"south\", \"south\", \"south\", \"spain\", \"spain\", \"spain\", \"spain\", \"spain\", \"spain\", \"spain\", \"spain\", \"spain\", \"spain\", \"sperm\", \"sperm\", \"sperm\", \"sperm\", \"sperm\", \"sperm\", \"sperm\", \"sperm\", \"state\", \"state\", \"state\", \"state\", \"state\", \"state\", \"state\", \"state\", \"state\", \"state\", \"steward\", \"stop\", \"stop\", \"stop\", \"stop\", \"stop\", \"stop\", \"stop\", \"stop\", \"stop\", \"stop\", \"stori\", \"stori\", \"stori\", \"stori\", \"stori\", \"stori\", \"stori\", \"stori\", \"stori\", \"stori\", \"strategist\", \"strategist\", \"strategist\", \"strike\", \"strike\", \"strike\", \"strike\", \"strike\", \"strike\", \"strike\", \"strike\", \"strike\", \"strike\", \"subsist\", \"suigl\", \"suiss\", \"suiss\", \"suiss\", \"svyatoslav\", \"syria\", \"syria\", \"syria\", \"syria\", \"syria\", \"syria\", \"syria\", \"syria\", \"syria\", \"syria\", \"syrian\", \"syrian\", \"syrian\", \"syrian\", \"syrian\", \"syrian\", \"syrian\", \"syrian\", \"syrian\", \"syrian\", \"system\", \"system\", \"system\", \"system\", \"system\", \"system\", \"system\", \"system\", \"system\", \"system\", \"t\", \"t\", \"t\", \"t\", \"t\", \"t\", \"t\", \"t\", \"t\", \"t\", \"taj\", \"taj\", \"taliban\", \"taliban\", \"taliban\", \"taliban\", \"taliban\", \"taliban\", \"taliban\", \"taliban\", \"taliban\", \"taliban\", \"tamari\", \"tblisi\", \"teargass\", \"tehran\", \"tehran\", \"tehran\", \"tehran\", \"tehran\", \"tehran\", \"tehran\", \"tehran\", \"tehran\", \"tehran\", \"televangelist\", \"televangelist\", \"terror\", \"terror\", \"terror\", \"terror\", \"terror\", \"terror\", \"terror\", \"terror\", \"terror\", \"terror\", \"tesla\", \"tesla\", \"tesla\", \"tesla\", \"tesla\", \"tesla\", \"tesla\", \"test\", \"test\", \"test\", \"test\", \"test\", \"test\", \"test\", \"test\", \"test\", \"test\", \"theologian\", \"theologian\", \"thermoelect\", \"think\", \"think\", \"think\", \"think\", \"think\", \"think\", \"think\", \"think\", \"think\", \"think\", \"thousand\", \"thousand\", \"thousand\", \"thousand\", \"thousand\", \"thousand\", \"thousand\", \"thousand\", \"thousand\", \"thousand\", \"threat\", \"threat\", \"threat\", \"threat\", \"threat\", \"threat\", \"threat\", \"threat\", \"threat\", \"threat\", \"time\", \"time\", \"time\", \"time\", \"time\", \"time\", \"time\", \"time\", \"time\", \"time\", \"timezon\", \"toe\", \"toe\", \"topol\", \"tri\", \"tri\", \"tri\", \"tri\", \"tri\", \"tri\", \"tri\", \"tri\", \"tri\", \"tri\", \"troop\", \"troop\", \"troop\", \"troop\", \"troop\", \"troop\", \"troop\", \"troop\", \"troop\", \"troop\", \"tskhinvali\", \"tskhinvali\", \"tskhinvali\", \"tskhinvali\", \"tsuruga\", \"tuesday\", \"tuesday\", \"tuesday\", \"tuesday\", \"tuesday\", \"tuesday\", \"tuesday\", \"tuesday\", \"tuesday\", \"tuesday\", \"tumbl\", \"tumbl\", \"tumbl\", \"tumbl\", \"tumbl\", \"tumbl\", \"tumbl\", \"tumbl\", \"turkey\", \"turkey\", \"turkey\", \"turkey\", \"turkey\", \"turkey\", \"turkey\", \"turkey\", \"turkey\", \"turkey\", \"turkish\", \"turkish\", \"turkish\", \"turkish\", \"turkish\", \"turkish\", \"turkish\", \"turkish\", \"turkish\", \"turkish\", \"two\", \"two\", \"two\", \"two\", \"two\", \"two\", \"two\", \"two\", \"two\", \"two\", \"u\", \"u\", \"u\", \"u\", \"u\", \"u\", \"u\", \"u\", \"u\", \"u\", \"uk\", \"uk\", \"uk\", \"uk\", \"uk\", \"uk\", \"uk\", \"uk\", \"uk\", \"uk\", \"ukrain\", \"ukrain\", \"ukrain\", \"ukrain\", \"ukrain\", \"ukrain\", \"ukrain\", \"ukrain\", \"ukrain\", \"ukrain\", \"uluru\", \"un\", \"un\", \"un\", \"un\", \"un\", \"un\", \"un\", \"un\", \"un\", \"un\", \"uneas\", \"uneas\", \"uneas\", \"uneas\", \"uneas\", \"uneas\", \"uninhabit\", \"uninhabit\", \"uninhabit\", \"union\", \"union\", \"union\", \"union\", \"union\", \"union\", \"union\", \"union\", \"union\", \"union\", \"unionist\", \"unruli\", \"us\", \"us\", \"us\", \"us\", \"us\", \"us\", \"us\", \"us\", \"us\", \"us\", \"use\", \"use\", \"use\", \"use\", \"use\", \"use\", \"use\", \"use\", \"use\", \"use\", \"venezuela\", \"venezuela\", \"venezuela\", \"venezuela\", \"venezuela\", \"venezuela\", \"venezuela\", \"venezuela\", \"venezuela\", \"venezuela\", \"video\", \"video\", \"video\", \"video\", \"video\", \"video\", \"video\", \"video\", \"video\", \"video\", \"wacki\", \"waffl\", \"waffl\", \"want\", \"want\", \"want\", \"want\", \"want\", \"want\", \"want\", \"want\", \"want\", \"want\", \"war\", \"war\", \"war\", \"war\", \"war\", \"war\", \"war\", \"war\", \"war\", \"war\", \"warn\", \"warn\", \"warn\", \"warn\", \"warn\", \"warn\", \"warn\", \"warn\", \"warn\", \"warn\", \"watch\", \"watch\", \"watch\", \"watch\", \"watch\", \"watch\", \"watch\", \"watch\", \"watch\", \"watch\", \"webpag\", \"webpag\", \"wednesay\", \"west\", \"west\", \"west\", \"west\", \"west\", \"west\", \"west\", \"west\", \"west\", \"west\", \"westward\", \"whine\", \"whine\", \"whistler\", \"whistler\", \"wider\", \"wider\", \"wider\", \"wider\", \"wider\", \"wider\", \"wider\", \"wider\", \"wider\", \"wiig\", \"wikileak\", \"wikileak\", \"wikileak\", \"wikileak\", \"wikileak\", \"wikileak\", \"wikileak\", \"wikileak\", \"wikileak\", \"wikileak\", \"will\", \"will\", \"will\", \"will\", \"will\", \"will\", \"will\", \"will\", \"will\", \"will\", \"wiwa\", \"wiwa\", \"wiwa\", \"wiwa\", \"wiwa\", \"wiwa\", \"wiwa\", \"woman\", \"woman\", \"woman\", \"woman\", \"woman\", \"woman\", \"woman\", \"woman\", \"woman\", \"woman\", \"worker\", \"worker\", \"worker\", \"worker\", \"worker\", \"worker\", \"worker\", \"worker\", \"worker\", \"worker\", \"world\", \"world\", \"world\", \"world\", \"world\", \"world\", \"world\", \"world\", \"world\", \"world\", \"yade\", \"yahweh\", \"yair\", \"year\", \"year\", \"year\", \"year\", \"year\", \"year\", \"year\", \"year\", \"year\", \"year\", \"yezidi\", \"zaynab\", \"zelaya\", \"zelaya\", \"zelaya\", \"zelaya\", \"zelaya\", \"zelaya\", \"zelaya\", \"zelaya\"]}, \"mdsDat\": {\"y\": [-0.0017624744520200574, -0.001389578151042383, -0.0038713353767366536, 0.002705757174780621, -0.0038198688843669518, -0.0006345765905523853, 0.0021985235115238077, -0.003835749580829546, 0.003372291067835751, 0.007037011281407791], \"cluster\": [1, 1, 1, 1, 1, 1, 1, 1, 1, 1], \"Freq\": [20.377787221182782, 15.770152501660784, 15.610682126144395, 12.62534031464411, 8.974344305744346, 8.391211761108835, 8.039027267864132, 5.652398413085759, 2.75209901286323, 1.8069570757016373], \"topics\": [1, 2, 3, 4, 5, 6, 7, 8, 9, 10], \"x\": [0.005540384028746, 0.004985850669796357, 0.0059281990233107686, -0.013555168691741518, -0.01057854455340942, -0.005505162717154508, -0.011685990772505605, 0.007254451445484673, 0.010376705127188293, 0.007239276440284975]}, \"R\": 30, \"lambda.step\": 0.01, \"tinfo\": {\"Category\": [\"Default\", \"Default\", \"Default\", \"Default\", \"Default\", \"Default\", \"Default\", \"Default\", \"Default\", \"Default\", \"Default\", \"Default\", \"Default\", \"Default\", \"Default\", \"Default\", \"Default\", \"Default\", \"Default\", \"Default\", \"Default\", \"Default\", \"Default\", \"Default\", \"Default\", \"Default\", \"Default\", \"Default\", \"Default\", \"Default\", \"Topic1\", \"Topic1\", \"Topic1\", \"Topic1\", \"Topic1\", \"Topic1\", \"Topic1\", \"Topic1\", \"Topic1\", \"Topic1\", \"Topic1\", \"Topic1\", \"Topic1\", \"Topic1\", \"Topic1\", \"Topic1\", \"Topic1\", \"Topic1\", \"Topic1\", \"Topic1\", \"Topic1\", \"Topic1\", \"Topic1\", \"Topic1\", \"Topic1\", \"Topic1\", \"Topic1\", \"Topic1\", \"Topic1\", \"Topic1\", \"Topic1\", \"Topic1\", \"Topic1\", \"Topic1\", \"Topic1\", \"Topic1\", \"Topic1\", \"Topic1\", \"Topic1\", \"Topic1\", \"Topic1\", \"Topic1\", \"Topic1\", \"Topic1\", \"Topic1\", \"Topic1\", \"Topic1\", \"Topic1\", \"Topic1\", \"Topic1\", \"Topic1\", \"Topic1\", \"Topic1\", \"Topic1\", \"Topic1\", \"Topic1\", \"Topic1\", \"Topic1\", \"Topic1\", \"Topic1\", \"Topic1\", \"Topic1\", \"Topic1\", \"Topic1\", \"Topic1\", \"Topic1\", \"Topic1\", \"Topic1\", \"Topic1\", \"Topic1\", \"Topic1\", \"Topic1\", \"Topic1\", \"Topic1\", \"Topic1\", \"Topic1\", \"Topic1\", \"Topic1\", \"Topic1\", \"Topic1\", \"Topic1\", \"Topic1\", \"Topic1\", \"Topic1\", \"Topic1\", \"Topic1\", \"Topic1\", \"Topic1\", \"Topic1\", \"Topic1\", \"Topic1\", \"Topic1\", \"Topic1\", \"Topic2\", \"Topic2\", \"Topic2\", \"Topic2\", \"Topic2\", \"Topic2\", \"Topic2\", \"Topic2\", \"Topic2\", \"Topic2\", \"Topic2\", \"Topic2\", \"Topic2\", \"Topic2\", \"Topic2\", \"Topic2\", \"Topic2\", \"Topic2\", \"Topic2\", \"Topic2\", \"Topic2\", \"Topic2\", \"Topic2\", \"Topic2\", \"Topic2\", \"Topic2\", \"Topic2\", \"Topic2\", \"Topic2\", \"Topic2\", \"Topic2\", \"Topic2\", \"Topic2\", \"Topic2\", \"Topic2\", \"Topic2\", \"Topic2\", \"Topic2\", \"Topic2\", \"Topic2\", \"Topic2\", \"Topic2\", \"Topic2\", \"Topic2\", \"Topic2\", \"Topic2\", \"Topic2\", \"Topic2\", \"Topic2\", \"Topic2\", \"Topic2\", \"Topic2\", \"Topic2\", \"Topic2\", \"Topic2\", \"Topic2\", \"Topic2\", \"Topic2\", \"Topic2\", \"Topic2\", \"Topic2\", \"Topic2\", \"Topic2\", \"Topic2\", \"Topic2\", \"Topic2\", \"Topic2\", \"Topic2\", \"Topic2\", \"Topic2\", \"Topic2\", \"Topic2\", \"Topic2\", \"Topic2\", \"Topic2\", \"Topic2\", \"Topic2\", \"Topic2\", \"Topic2\", \"Topic2\", \"Topic2\", \"Topic2\", \"Topic2\", \"Topic2\", \"Topic3\", \"Topic3\", \"Topic3\", \"Topic3\", \"Topic3\", \"Topic3\", \"Topic3\", \"Topic3\", \"Topic3\", \"Topic3\", \"Topic3\", \"Topic3\", \"Topic3\", \"Topic3\", \"Topic3\", \"Topic3\", \"Topic3\", \"Topic3\", \"Topic3\", \"Topic3\", \"Topic3\", \"Topic3\", \"Topic3\", \"Topic3\", \"Topic3\", \"Topic3\", \"Topic3\", \"Topic3\", \"Topic3\", \"Topic3\", \"Topic3\", \"Topic3\", \"Topic3\", \"Topic3\", \"Topic3\", \"Topic3\", \"Topic3\", \"Topic3\", \"Topic3\", \"Topic3\", \"Topic3\", \"Topic3\", \"Topic3\", \"Topic3\", \"Topic3\", \"Topic3\", \"Topic3\", \"Topic3\", \"Topic3\", \"Topic3\", \"Topic3\", \"Topic3\", \"Topic3\", \"Topic3\", \"Topic3\", \"Topic3\", \"Topic3\", \"Topic3\", \"Topic3\", \"Topic3\", \"Topic3\", \"Topic3\", \"Topic3\", \"Topic3\", \"Topic3\", \"Topic3\", \"Topic3\", \"Topic3\", \"Topic3\", \"Topic3\", \"Topic3\", \"Topic3\", \"Topic3\", \"Topic3\", \"Topic3\", \"Topic3\", \"Topic3\", \"Topic3\", \"Topic3\", \"Topic3\", \"Topic3\", \"Topic3\", \"Topic3\", \"Topic3\", \"Topic3\", \"Topic3\", \"Topic4\", \"Topic4\", \"Topic4\", \"Topic4\", \"Topic4\", \"Topic4\", \"Topic4\", \"Topic4\", \"Topic4\", \"Topic4\", \"Topic4\", \"Topic4\", \"Topic4\", \"Topic4\", \"Topic4\", \"Topic4\", \"Topic4\", \"Topic4\", \"Topic4\", \"Topic4\", \"Topic4\", \"Topic4\", \"Topic4\", \"Topic4\", \"Topic4\", \"Topic4\", \"Topic4\", \"Topic4\", \"Topic4\", \"Topic4\", \"Topic4\", \"Topic4\", \"Topic4\", \"Topic4\", \"Topic4\", \"Topic4\", \"Topic4\", \"Topic4\", \"Topic4\", \"Topic4\", \"Topic4\", \"Topic4\", \"Topic4\", \"Topic4\", \"Topic4\", \"Topic4\", \"Topic4\", \"Topic4\", \"Topic4\", \"Topic4\", \"Topic4\", \"Topic4\", \"Topic4\", \"Topic4\", \"Topic4\", \"Topic4\", \"Topic4\", \"Topic4\", \"Topic4\", \"Topic4\", \"Topic4\", \"Topic4\", \"Topic4\", \"Topic4\", \"Topic4\", \"Topic4\", \"Topic4\", \"Topic4\", \"Topic4\", \"Topic4\", \"Topic4\", \"Topic4\", \"Topic4\", \"Topic4\", \"Topic4\", \"Topic4\", \"Topic4\", \"Topic4\", \"Topic4\", \"Topic4\", \"Topic4\", \"Topic4\", \"Topic4\", \"Topic4\", \"Topic4\", \"Topic5\", \"Topic5\", \"Topic5\", \"Topic5\", \"Topic5\", \"Topic5\", \"Topic5\", \"Topic5\", \"Topic5\", \"Topic5\", \"Topic5\", \"Topic5\", \"Topic5\", \"Topic5\", \"Topic5\", \"Topic5\", \"Topic5\", \"Topic5\", \"Topic5\", \"Topic5\", \"Topic5\", \"Topic5\", \"Topic5\", \"Topic5\", \"Topic5\", \"Topic5\", \"Topic5\", \"Topic5\", \"Topic5\", \"Topic5\", \"Topic5\", \"Topic5\", \"Topic5\", \"Topic5\", \"Topic5\", \"Topic5\", \"Topic5\", \"Topic5\", \"Topic5\", \"Topic5\", \"Topic5\", \"Topic5\", \"Topic5\", \"Topic5\", \"Topic5\", \"Topic5\", \"Topic5\", \"Topic5\", \"Topic5\", \"Topic5\", \"Topic5\", \"Topic5\", \"Topic5\", \"Topic5\", \"Topic5\", \"Topic5\", \"Topic5\", \"Topic5\", \"Topic5\", \"Topic5\", \"Topic5\", \"Topic5\", \"Topic5\", \"Topic5\", \"Topic5\", \"Topic5\", \"Topic5\", \"Topic5\", \"Topic5\", \"Topic5\", \"Topic5\", \"Topic5\", \"Topic5\", \"Topic5\", \"Topic5\", \"Topic5\", \"Topic5\", \"Topic5\", \"Topic5\", \"Topic5\", \"Topic5\", \"Topic5\", \"Topic5\", \"Topic5\", \"Topic6\", \"Topic6\", \"Topic6\", \"Topic6\", \"Topic6\", \"Topic6\", \"Topic6\", \"Topic6\", \"Topic6\", \"Topic6\", \"Topic6\", \"Topic6\", \"Topic6\", \"Topic6\", \"Topic6\", \"Topic6\", \"Topic6\", \"Topic6\", \"Topic6\", \"Topic6\", \"Topic6\", \"Topic6\", \"Topic6\", \"Topic6\", \"Topic6\", \"Topic6\", \"Topic6\", \"Topic6\", \"Topic6\", \"Topic6\", \"Topic6\", \"Topic6\", \"Topic6\", \"Topic6\", \"Topic6\", \"Topic6\", \"Topic6\", \"Topic6\", \"Topic6\", \"Topic6\", \"Topic6\", \"Topic6\", \"Topic6\", \"Topic6\", \"Topic6\", \"Topic6\", \"Topic6\", \"Topic6\", \"Topic6\", \"Topic6\", \"Topic6\", \"Topic6\", \"Topic6\", \"Topic6\", \"Topic6\", \"Topic6\", \"Topic6\", \"Topic6\", \"Topic6\", \"Topic6\", \"Topic6\", \"Topic6\", \"Topic6\", \"Topic6\", \"Topic6\", \"Topic6\", \"Topic6\", \"Topic6\", \"Topic6\", \"Topic6\", \"Topic6\", \"Topic6\", \"Topic6\", \"Topic6\", \"Topic6\", \"Topic6\", \"Topic6\", \"Topic6\", \"Topic6\", \"Topic6\", \"Topic6\", \"Topic7\", \"Topic7\", \"Topic7\", \"Topic7\", \"Topic7\", \"Topic7\", \"Topic7\", \"Topic7\", \"Topic7\", \"Topic7\", \"Topic7\", \"Topic7\", \"Topic7\", \"Topic7\", \"Topic7\", \"Topic7\", \"Topic7\", \"Topic7\", \"Topic7\", \"Topic7\", \"Topic7\", \"Topic7\", \"Topic7\", \"Topic7\", \"Topic7\", \"Topic7\", \"Topic7\", \"Topic7\", \"Topic7\", \"Topic7\", \"Topic7\", \"Topic7\", \"Topic7\", \"Topic7\", \"Topic7\", \"Topic7\", \"Topic7\", \"Topic7\", \"Topic7\", \"Topic7\", \"Topic7\", \"Topic7\", \"Topic7\", \"Topic7\", \"Topic7\", \"Topic7\", \"Topic7\", \"Topic7\", \"Topic7\", \"Topic7\", \"Topic7\", \"Topic7\", \"Topic7\", \"Topic7\", \"Topic7\", \"Topic7\", \"Topic7\", \"Topic7\", \"Topic7\", \"Topic7\", \"Topic7\", \"Topic7\", \"Topic7\", \"Topic7\", \"Topic7\", \"Topic7\", \"Topic7\", \"Topic7\", \"Topic7\", \"Topic7\", \"Topic7\", \"Topic7\", \"Topic7\", \"Topic7\", \"Topic7\", \"Topic7\", \"Topic7\", \"Topic7\", \"Topic7\", \"Topic7\", \"Topic7\", \"Topic7\", \"Topic7\", \"Topic8\", \"Topic8\", \"Topic8\", \"Topic8\", \"Topic8\", \"Topic8\", \"Topic8\", \"Topic8\", \"Topic8\", \"Topic8\", \"Topic8\", \"Topic8\", \"Topic8\", \"Topic8\", \"Topic8\", \"Topic8\", \"Topic8\", \"Topic8\", \"Topic8\", \"Topic8\", \"Topic8\", \"Topic8\", \"Topic8\", \"Topic8\", \"Topic8\", \"Topic8\", \"Topic8\", \"Topic8\", \"Topic8\", \"Topic8\", \"Topic8\", \"Topic8\", \"Topic8\", \"Topic8\", \"Topic8\", \"Topic8\", \"Topic8\", \"Topic8\", \"Topic8\", \"Topic8\", \"Topic8\", \"Topic8\", \"Topic8\", \"Topic8\", \"Topic8\", \"Topic8\", \"Topic8\", \"Topic8\", \"Topic8\", \"Topic8\", \"Topic8\", \"Topic8\", \"Topic8\", \"Topic8\", \"Topic8\", \"Topic8\", \"Topic8\", \"Topic8\", \"Topic8\", \"Topic8\", \"Topic8\", \"Topic8\", \"Topic8\", \"Topic8\", \"Topic8\", \"Topic8\", \"Topic8\", \"Topic8\", \"Topic8\", \"Topic8\", \"Topic8\", \"Topic8\", \"Topic8\", \"Topic8\", \"Topic8\", \"Topic8\", \"Topic8\", \"Topic8\", \"Topic8\", \"Topic9\", \"Topic9\", \"Topic9\", \"Topic9\", \"Topic9\", \"Topic9\", \"Topic9\", \"Topic9\", \"Topic9\", \"Topic9\", \"Topic9\", \"Topic9\", \"Topic9\", \"Topic9\", \"Topic9\", \"Topic9\", \"Topic9\", \"Topic9\", \"Topic9\", \"Topic9\", \"Topic9\", \"Topic9\", \"Topic9\", \"Topic9\", \"Topic9\", \"Topic9\", \"Topic9\", \"Topic9\", \"Topic9\", \"Topic9\", \"Topic9\", \"Topic9\", \"Topic9\", \"Topic9\", \"Topic9\", \"Topic9\", \"Topic9\", \"Topic9\", \"Topic9\", \"Topic9\", \"Topic9\", \"Topic9\", \"Topic9\", \"Topic9\", \"Topic9\", \"Topic9\", \"Topic9\", \"Topic9\", \"Topic9\", \"Topic9\", \"Topic9\", \"Topic9\", \"Topic9\", \"Topic9\", \"Topic9\", \"Topic9\", \"Topic9\", \"Topic9\", \"Topic9\", \"Topic9\", \"Topic9\", \"Topic9\", \"Topic9\", \"Topic9\", \"Topic9\", \"Topic9\", \"Topic9\", \"Topic9\", \"Topic9\", \"Topic9\", \"Topic9\", \"Topic9\", \"Topic9\", \"Topic9\", \"Topic9\", \"Topic9\", \"Topic9\", \"Topic9\", \"Topic9\", \"Topic9\", \"Topic9\", \"Topic9\", \"Topic9\", \"Topic10\", \"Topic10\", \"Topic10\", \"Topic10\", \"Topic10\", \"Topic10\", \"Topic10\", \"Topic10\", \"Topic10\", \"Topic10\", \"Topic10\", \"Topic10\", \"Topic10\", \"Topic10\", \"Topic10\", \"Topic10\", \"Topic10\", \"Topic10\", \"Topic10\", \"Topic10\", \"Topic10\", \"Topic10\", \"Topic10\", \"Topic10\", \"Topic10\", \"Topic10\", \"Topic10\", \"Topic10\", \"Topic10\", \"Topic10\", \"Topic10\", \"Topic10\", \"Topic10\", \"Topic10\", \"Topic10\", \"Topic10\", \"Topic10\", \"Topic10\", \"Topic10\", \"Topic10\", \"Topic10\", \"Topic10\", \"Topic10\", \"Topic10\", \"Topic10\", \"Topic10\", \"Topic10\", \"Topic10\", \"Topic10\", \"Topic10\", \"Topic10\", \"Topic10\", \"Topic10\", \"Topic10\", \"Topic10\", \"Topic10\", \"Topic10\", \"Topic10\", \"Topic10\", \"Topic10\", \"Topic10\", \"Topic10\", \"Topic10\", \"Topic10\", \"Topic10\", \"Topic10\", \"Topic10\", \"Topic10\", \"Topic10\", \"Topic10\", \"Topic10\", \"Topic10\", \"Topic10\", \"Topic10\", \"Topic10\", \"Topic10\", \"Topic10\", \"Topic10\"], \"Term\": [\"b\", \"s\", \"say\", \"govern\", \"us\", \"israel\", \"kill\", \"year\", \"will\", \"world\", \"new\", \"polic\", \"peopl\", \"countri\", \"protest\", \"china\", \"iran\", \"u\", \"000\", \"now\", \"state\", \"attack\", \"right\", \"nation\", \"north\", \"report\", \"law\", \"call\", \"presid\", \"bank\", \"harriet\", \"rath\", \"kramatorsk\", \"riyal\", \"hamad\", \"webpag\", \"bleeken\", \"massoud\", \"hen\", \"bondswap\", \"slaviansk\", \"uluru\", \"olso\", \"yair\", \"blockupi\", \"tsuruga\", \"770\", \"193\", \"obl\", \"gunpowd\", \"suiss\", \"humanist\", \"audac\", \"224\", \"armour\", \"dyilo\", \"majid\", \"subsist\", \"waffl\", \"svyatoslav\", \"megaupload\", \"euthan\", \"tumbl\", \"amp\", \"wider\", \"libor\", \"guam\", \"bin\", \"drug\", \"ago\", \"isi\", \"nato\", \"nasa\", \"say\", \"strike\", \"high\", \"ukrain\", \"china\", \"use\", \"plan\", \"isra\", \"u\", \"kill\", \"also\", \"citi\", \"like\", \"s\", \"fire\", \"find\", \"crisi\", \"russian\", \"public\", \"russia\", \"syria\", \"islam\", \"threat\", \"soldier\", \"palestinian\", \"will\", \"countri\", \"state\", \"t\", \"world\", \"court\", \"power\", \"offici\", \"time\", \"protest\", \"call\", \"b\", \"news\", \"one\", \"israel\", \"polic\", \"year\", \"us\", \"peopl\", \"war\", \"new\", \"iran\", \"govern\", \"attack\", \"report\", \"tamari\", \"solitair\", \"jubile\", \"disrepair\", \"steward\", \"hadron\", \"effemin\", \"zaynab\", \"restrepo\", \"khawaja\", \"fatalist\", \"incapac\", \"auf\", \"layton\", \"sinopec\", \"penkniv\", \"limp\", \"princip\", \"plier\", \"scriptur\", \"hd\", \"creep\", \"crtc\", \"busload\", \"wiig\", \"olaf\", \"rpt\", \"parchin\", \"begum\", \"disus\", \"multipli\", \"uninhabit\", \"strategist\", \"cern\", \"snowden\", \"claim\", \"rant\", \"old\", \"s\", \"spain\", \"thousand\", \"mubarak\", \"world\", \"venezuela\", \"say\", \"putin\", \"govern\", \"amp\", \"amid\", \"free\", \"attack\", \"syria\", \"militari\", \"year\", \"peopl\", \"news\", \"presid\", \"nation\", \"franc\", \"foreign\", \"000\", \"stop\", \"india\", \"accus\", \"activist\", \"russian\", \"get\", \"protest\", \"forc\", \"will\", \"polic\", \"b\", \"kill\", \"us\", \"new\", \"russia\", \"war\", \"u\", \"report\", \"china\", \"countri\", \"state\", \"israel\", \"one\", \"shaw\", \"deciph\", \"178\", \"genr\", \"shakeup\", \"bladerunn\", \"cosatu\", \"shan\", \"unionist\", \"snif\", \"wednesay\", \"toe\", \"careless\", \"pikangikum\", \"bilal\", \"barbecu\", \"guenter\", \"thermoelect\", \"arian\", \"affidavit\", \"sandor\", \"skynet\", \"powerplan\", \"semmelwei\", \"scruniti\", \"currant\", \"silwan\", \"pwning\", \"candidli\", \"theologian\", \"westward\", \"sk\", \"crowdsourc\", \"india\", \"anti\", \"nsa\", \"brazil\", \"korea\", \"home\", \"presid\", \"s\", \"war\", \"julian\", \"bomb\", \"test\", \"protest\", \"warn\", \"assang\", \"first\", \"call\", \"worker\", \"kim\", \"us\", \"west\", \"scientist\", \"rape\", \"past\", \"chines\", \"uk\", \"leader\", \"china\", \"north\", \"south\", \"israel\", \"govern\", \"forc\", \"syrian\", \"year\", \"one\", \"militari\", \"russia\", \"un\", \"new\", \"peopl\", \"time\", \"kill\", \"say\", \"will\", \"b\", \"polic\", \"world\", \"report\", \"attack\", \"state\", \"countri\", \"isra\", \"luger\", \"80beat\", \"omv\", \"poti\", \"wacki\", \"breathnig\", \"isolation\", \"embarras\", \"nscrapyard\", \"tblisi\", \"topol\", \"climateg\", \"riverbank\", \"bakassi\", \"tskhinvali\", \"ara\", \"apophi\", \"klein\", \"scooter\", \"ringworm\", \"kumaritashvili\", \"aki\", \"biochemistri\", \"nuez\", \"austurvollur\", \"madeira\", \"whine\", \"jeopardis\", \"cleansin\", \"handwrit\", \"whistler\", \"b\", \"ossetian\", \"georgia\", \"georgian\", \"israel\", \"gaza\", \"us\", \"year\", \"war\", \"shit\", \"dubai\", \"phosphoru\", \"iran\", \"n\", \"un\", \"report\", \"system\", \"r\", \"afghan\", \"make\", \"m\", \"two\", \"govern\", \"man\", \"iraq\", \"law\", \"video\", \"think\", \"british\", \"000\", \"day\", \"uk\", \"old\", \"end\", \"countri\", \"say\", \"polic\", \"will\", \"s\", \"world\", \"new\", \"forc\", \"state\", \"right\", \"kill\", \"china\", \"russian\", \"russia\", \"death\", \"isra\", \"attack\", \"u\", \"peopl\", \"one\", \"medina\", \"anjem\", \"njudg\", \"nynorsk\", \"kayayo\", \"ijf\", \"reshuffl\", \"yade\", \"merri\", \"arr\", \"polanski\", \"reid\", \"suigl\", \"amulet\", \"contort\", \"timezon\", \"bishara\", \"maciel\", \"adl\", \"kke\", \"acadian\", \"taekwondo\", \"glad\", \"choudari\", \"kennel\", \"yahweh\", \"korma\", \"gibe\", \"quetta\", \"powerderli\", \"uneas\", \"b\", \"juri\", \"pirat\", \"s\", \"new\", \"peopl\", \"scientolog\", \"iran\", \"author\", \"global\", \"tri\", \"taliban\", \"reddit\", \"leader\", \"offic\", \"us\", \"r\", \"guardian\", \"iceland\", \"use\", \"north\", \"arab\", \"see\", \"u\", \"american\", \"isra\", \"elect\", \"two\", \"nation\", \"woman\", \"may\", \"now\", \"israel\", \"terror\", \"year\", \"uk\", \"china\", \"right\", \"govern\", \"countri\", \"say\", \"attack\", \"one\", \"presid\", \"protest\", \"polic\", \"will\", \"kill\", \"report\", \"war\", \"state\", \"world\", \"russia\", \"mairead\", \"congresswoman\", \"izz\", \"khesar\", \"dualiti\", \"345\", \"oligarchi\", \"qatif\", \"fourteen\", \"kaufman\", \"emp\", \"roneri\", \"gtfo\", \"beachsid\", \"palast\", \"shlomi\", \"sacer\", \"paycheck\", \"noooo\", \"1466a\", \"larnaca\", \"nietzsch\", \"jigm\", \"camu\", \"wangchuck\", \"7million\", \"henan\", \"aftenposten\", \"afo\", \"stu\", \"mckinney\", \"itn\", \"wikileak\", \"stori\", \"b\", \"sperm\", \"isra\", \"smoker\", \"ship\", \"palestinian\", \"massiv\", \"countri\", \"t\", \"organ\", \"mean\", \"japan\", \"children\", \"two\", \"polic\", \"peopl\", \"right\", \"saudi\", \"s\", \"video\", \"want\", \"kill\", \"r\", \"place\", \"mexico\", \"use\", \"last\", \"meet\", \"death\", \"attack\", \"protest\", \"will\", \"new\", \"world\", \"china\", \"year\", \"get\", \"uk\", \"govern\", \"report\", \"u\", \"israel\", \"us\", \"iran\", \"say\", \"russia\", \"war\", \"handey\", \"nevada\", \"unruli\", \"sewerag\", \"lesley\", \"mandelson\", \"breez\", \"teargass\", \"taj\", \"meseum\", \"thierri\", \"ps\", \"jdl\", \"postmen\", \"santika\", \"precept\", \"gentleman\", \"nidal\", \"sparkler\", \"handbal\", \"quixtar\", \"vasquez\", \"alright\", \"ipred\", \"isabel\", \"hose\", \"saddest\", \"lusitania\", \"villeg\", \"zelaya\", \"b\", \"gilbert\", \"melamin\", \"wiwa\", \"ogoni\", \"lockerbi\", \"kill\", \"honduran\", \"r\", \"iranian\", \"can\", \"hotel\", \"video\", \"one\", \"pic\", \"tehran\", \"gaza\", \"us\", \"iraq\", \"polic\", \"north\", \"dead\", \"world\", \"protest\", \"mani\", \"found\", \"obama\", \"death\", \"prison\", \"pictur\", \"s\", \"state\", \"ban\", \"new\", \"uk\", \"crime\", \"law\", \"israel\", \"u\", \"will\", \"war\", \"attack\", \"isra\", \"govern\", \"year\", \"right\", \"korea\", \"china\", \"say\", \"forc\", \"iran\", \"peopl\", \"countri\", \"coahuila\", \"rodent\", \"10x\", \"shiek\", \"910\", \"televangelist\", \"gox\", \"biodegrad\", \"handedli\", \"sharm\", \"rockhopp\", \"stakeout\", \"comodo\", \"debaucheri\", \"emisson\", \"yezidi\", \"scotian\", \"radium\", \"formerli\", \"revert\", \"nightingal\", \"xingu\", \"cho\", \"publica\", \"herat\", \"noriega\", \"shellfir\", \"seclud\", \"liz\", \"yum\", \"modi\", \"similar\", \"tesla\", \"u\", \"mw\", \"will\", \"isi\", \"india\", \"wikileak\", \"bank\", \"ukrain\", \"now\", \"s\", \"new\", \"us\", \"obama\", \"egypt\", \"say\", \"russia\", \"offic\", \"mission\", \"reactor\", \"year\", \"militari\", \"forc\", \"000\", \"polic\", \"nuclear\", \"israel\", \"protest\", \"presid\", \"troop\", \"order\", \"uk\", \"drug\", \"show\", \"russian\", \"warn\", \"said\", \"state\", \"govern\", \"call\", \"b\", \"world\", \"kill\", \"isra\", \"use\", \"countri\", \"china\", \"colvin\", \"novack\", \"unhappiest\", \"236\", \"vlaast\", \"pleistocen\", \"ouattara\", \"loanword\", \"yousif\", \"600k\", \"382k\", \"callou\", \"85tn\", \"jacuzzi\", \"normandi\", \"183\", \"ieper\", \"fungi\", \"272\", \"831\", \"merkozi\", \"downhil\", \"forag\", \"torishima\", \"uneaten\", \"tupac\", \"acheb\", \"selfless\", \"sanusi\", \"outbid\", \"albatross\", \"ellen\", \"iran\", \"danub\", \"say\", \"ukrain\", \"000\", \"lego\", \"hack\", \"world\", \"nsa\", \"north\", \"countri\", \"call\", \"car\", \"now\", \"snowden\", \"german\", \"admit\", \"watch\", \"govern\", \"minist\", \"cost\", \"tuesday\", \"arrest\", \"iranian\", \"sever\", \"s\", \"china\", \"prime\", \"israel\", \"protest\", \"year\", \"peopl\", \"forc\", \"make\", \"will\", \"power\", \"1\", \"found\", \"us\", \"kill\", \"attack\", \"polic\", \"ban\", \"new\", \"right\", \"u\", \"war\", \"b\", \"russia\", \"state\", \"report\", \"agrobusi\", \"egomaniac\", \"adbust\", \"assylum\", \"sindh\", \"blogpost\", \"billow\", \"narcolepsi\", \"carson\", \"anarch\", \"invinc\", \"mulyo\", \"dispassion\", \"thicken\", \"moustach\", \"cjc\", \"berezovski\", \"mubi\", \"jnger\", \"unctad\", \"jiujitsu\", \"hyatt\", \"airmail\", \"dtat\", \"ordo\", \"conjoin\", \"shakedown\", \"shaven\", \"meshaal\", \"arianto\", \"rainbow\", \"lada\", \"nation\", \"govern\", \"african\", \"turkey\", \"turkish\", \"law\", \"now\", \"found\", \"record\", \"islam\", \"kill\", \"union\", \"chines\", \"israel\", \"european\", \"death\", \"bodi\", \"7\", \"ukrain\", \"want\", \"right\", \"say\", \"state\", \"syrian\", \"bank\", \"polic\", \"time\", \"will\", \"attack\", \"report\", \"presid\", \"canada\", \"s\", \"us\", \"man\", \"peopl\", \"year\", \"said\", \"new\", \"b\", \"world\", \"china\", \"countri\", \"protest\", \"war\", \"000\"], \"loglift\": [30.0, 29.0, 28.0, 27.0, 26.0, 25.0, 24.0, 23.0, 22.0, 21.0, 20.0, 19.0, 18.0, 17.0, 16.0, 15.0, 14.0, 13.0, 12.0, 11.0, 10.0, 9.0, 8.0, 7.0, 6.0, 5.0, 4.0, 3.0, 2.0, 1.0, 0.8879, 0.8365, 0.8223, 0.7989, 0.7952, 0.7905, 0.7798, 0.7778, 0.7754, 0.7625, 0.7617, 0.76, 0.7598, 0.7586, 0.7563, 0.7494, 0.749, 0.7429, 0.7337, 0.7307, 0.7141, 0.7135, 0.7132, 0.7093, 0.7081, 0.7072, 0.704, 0.7029, 0.6948, 0.6922, 0.6796, 0.6768, 0.6425, 0.4422, 0.6312, 0.5682, 0.661, 0.4736, 0.3392, 0.439, 0.4219, 0.4006, 0.5015, 0.2442, 0.3466, 0.3722, 0.3519, 0.2469, 0.2767, 0.2996, 0.2522, 0.2379, 0.2007, 0.3802, 0.2874, 0.2797, 0.0154, 0.2632, 0.304, 0.3147, 0.2235, 0.2992, 0.1779, 0.2458, 0.2879, 0.3358, 0.283, 0.1878, 0.076, 0.1039, 0.1217, 0.1578, 0.0222, 0.1665, 0.2175, 0.138, 0.1259, -0.0394, 0.0727, -0.6964, 0.1262, 0.0167, -0.1561, -0.0977, -0.3232, -0.3716, -0.1486, -0.1417, -0.2733, 0.0031, -0.3484, -0.127, -0.0903, 1.1473, 1.1361, 1.1198, 1.1093, 1.0972, 1.0799, 1.0537, 1.0441, 1.0345, 1.0314, 1.0289, 1.0274, 1.0269, 1.0245, 1.0113, 1.0052, 0.9782, 0.9626, 0.9439, 0.9369, 0.9312, 0.9158, 0.9142, 0.9129, 0.9021, 0.8999, 0.8908, 0.8893, 0.8785, 0.8763, 0.8684, 0.8579, 0.8707, 0.8265, 0.5846, 0.5488, 0.8234, 0.4299, 0.1683, 0.4937, 0.4207, 0.5474, 0.2748, 0.5089, 0.2053, 0.4127, 0.2148, 0.3007, 0.5039, 0.3919, 0.2381, 0.3073, 0.273, 0.1487, 0.1934, 0.2513, 0.1972, 0.2448, 0.2936, 0.3228, 0.1701, 0.298, 0.2281, 0.2775, 0.3211, 0.1671, 0.2078, 0.0345, 0.1016, -0.036, -0.0114, -0.5407, -0.097, -0.1531, -0.0677, 0.0001, -0.0223, -0.0278, 0.0139, -0.2077, -0.0999, -0.04, -0.3816, -0.0221, 1.1432, 1.0425, 1.0262, 1.017, 1.0112, 1.0012, 0.9812, 0.9705, 0.9665, 0.9629, 0.9622, 0.9602, 0.9597, 0.957, 0.9489, 0.9443, 0.9427, 0.941, 0.9225, 0.9188, 0.9181, 0.9175, 0.9091, 0.9007, 0.9004, 0.8983, 0.8906, 0.8874, 0.8871, 0.8836, 0.8742, 0.8457, 0.8523, 0.4053, 0.3921, 0.4522, 0.4572, 0.3127, 0.3863, 0.297, 0.0941, 0.2738, 0.4905, 0.3495, 0.4183, 0.2019, 0.3058, 0.4038, 0.2497, 0.2312, 0.3304, 0.405, 0.124, 0.3345, 0.3738, 0.3026, 0.4218, 0.2449, 0.1924, 0.2517, 0.1193, 0.1949, 0.2305, 0.0958, 0.0888, 0.1663, 0.2886, -0.0009, 0.1236, 0.1722, 0.0711, 0.1833, 0.0042, 0.0246, 0.1463, -0.1219, -0.2333, -0.1115, -0.8291, -0.0882, -0.1852, 0.0173, -0.0377, -0.0665, -0.1476, -0.1258, 1.3755, 1.2425, 1.2367, 1.2162, 1.1865, 1.1796, 1.1765, 1.1655, 1.1519, 1.1459, 1.1292, 1.1288, 1.1263, 1.1228, 1.1217, 1.121, 1.1205, 1.1149, 1.1094, 1.1057, 1.0931, 1.0916, 1.0785, 1.0707, 1.0703, 1.0676, 1.064, 1.0634, 1.0604, 1.0598, 1.0398, 0.7542, 1.0215, 0.773, 0.8521, 0.4247, 0.49, 0.3815, 0.343, 0.2817, 0.7733, 0.5751, 0.7873, 0.2532, 0.3593, 0.2862, 0.2246, 0.4183, 0.3767, 0.3537, 0.2612, 0.5729, 0.195, 0.0798, 0.2002, 0.2571, 0.1723, 0.2717, 0.4151, 0.213, 0.1132, 0.1871, 0.115, 0.1938, 0.2297, 0.038, -0.1068, 0.0091, -0.0282, -0.4024, -0.0656, -0.0672, 0.0623, 0.0026, 0.0495, -0.1778, -0.1574, 0.0514, -0.1066, 0.0765, -0.118, -0.12, -0.2365, -0.2896, -0.0938, 1.3675, 1.3422, 1.2908, 1.2812, 1.2474, 1.2314, 1.2226, 1.2182, 1.2061, 1.1964, 1.1918, 1.1877, 1.1781, 1.1766, 1.1739, 1.168, 1.1663, 1.1656, 1.1637, 1.1625, 1.1617, 1.1526, 1.1506, 1.1467, 1.1429, 1.1427, 1.1289, 1.1206, 1.1199, 1.1177, 1.0599, 0.6245, 0.9462, 0.6307, 0.2426, 0.4132, 0.3027, 0.7096, 0.3186, 0.4628, 0.4072, 0.3873, 0.4403, 0.6517, 0.2995, 0.3471, 0.0952, 0.3665, 0.5512, 0.4505, 0.1939, 0.2071, 0.3797, 0.4026, 0.1056, 0.2774, 0.1201, 0.2987, 0.1657, 0.1805, 0.2767, 0.2065, 0.1459, -0.0151, 0.3283, -0.0952, 0.0739, -0.0482, 0.0722, -0.0585, -0.0072, -0.2245, -0.0242, -0.0343, -0.0216, -0.1655, -0.1713, -0.2614, -0.3465, -0.0726, -0.1919, -0.1312, -0.4385, -0.2575, 1.2323, 1.1079, 1.1064, 1.1034, 1.0742, 1.0663, 1.0657, 1.0587, 1.0566, 1.0565, 1.0504, 1.0483, 1.0362, 1.0222, 1.0206, 1.0177, 1.017, 1.0137, 1.0134, 1.0101, 1.0071, 0.9948, 0.9905, 0.989, 0.9847, 0.9845, 0.9763, 0.973, 0.9723, 0.9704, 0.9662, 0.9438, 0.675, 0.6188, 0.2417, 0.7956, 0.385, 0.8034, 0.4709, 0.365, 0.5272, 0.3032, 0.3279, 0.4822, 0.5442, 0.3659, 0.3636, 0.3187, 0.2473, 0.2462, 0.2734, 0.3789, -0.0021, 0.3624, 0.3288, 0.1634, 0.3876, 0.4579, 0.3478, 0.2269, 0.325, 0.4518, 0.2237, 0.166, 0.1234, 0.0892, 0.0854, 0.0667, 0.0771, 0.003, 0.2348, 0.1138, -0.0415, 0.0685, -0.0231, -0.1178, -0.2214, 0.0644, -0.3987, -0.0672, -0.1468, 1.4306, 1.3752, 1.3737, 1.3614, 1.3347, 1.3301, 1.3182, 1.2958, 1.2915, 1.2811, 1.2758, 1.2702, 1.2637, 1.2624, 1.2549, 1.2472, 1.2463, 1.2431, 1.241, 1.238, 1.233, 1.2243, 1.2233, 1.2129, 1.2122, 1.2115, 1.2077, 1.2064, 1.2045, 1.203, 0.6578, 1.1418, 1.1112, 1.1218, 1.1224, 0.9448, 0.3633, 0.9159, 0.5386, 0.513, 0.4294, 0.6975, 0.4261, 0.284, 0.6252, 0.6687, 0.2945, 0.1095, 0.3422, 0.1668, 0.2259, 0.3202, 0.1117, 0.1363, 0.3917, 0.2789, 0.3746, 0.1929, 0.284, 0.5185, -0.2459, 0.1142, 0.1693, 0.0371, 0.1203, 0.2782, 0.1308, -0.0362, 0.0194, -0.0475, -0.0043, 0.0213, 0.0177, -0.082, -0.2306, 0.058, 0.0826, -0.1605, -0.3538, 0.0463, 0.005, -0.2354, -0.215, 1.5544, 1.5159, 1.499, 1.456, 1.4224, 1.4007, 1.3745, 1.3661, 1.3569, 1.3565, 1.3527, 1.3503, 1.3349, 1.329, 1.3105, 1.3081, 1.2997, 1.2939, 1.284, 1.2417, 1.2405, 1.2261, 1.2138, 1.2042, 1.2031, 1.203, 1.2023, 1.1991, 1.1885, 1.1874, 1.0633, 0.8818, 1.0122, 0.4332, 1.0892, 0.372, 0.6155, 0.4503, 0.4563, 0.3725, 0.4477, 0.3666, -0.0072, 0.246, 0.1838, 0.4641, 0.408, 0.143, 0.2471, 0.4184, 0.6465, 0.6261, 0.1187, 0.2808, 0.2334, 0.2058, 0.1516, 0.2678, 0.0995, 0.1033, 0.1692, 0.3706, 0.3433, 0.1572, 0.2158, 0.2878, 0.1675, 0.2612, 0.1878, 0.0621, -0.0391, 0.103, -0.8502, -0.1944, -0.3018, -0.0737, 0.0013, -0.2235, -0.4228, 1.7063, 1.5621, 1.4841, 1.4571, 1.4503, 1.4411, 1.4213, 1.4034, 1.3744, 1.3683, 1.3534, 1.3493, 1.3468, 1.342, 1.3359, 1.3331, 1.3287, 1.32, 1.3116, 1.2917, 1.2826, 1.2799, 1.2762, 1.2761, 1.2745, 1.271, 1.259, 1.2589, 1.2582, 1.2561, 1.2536, 1.2294, 0.5668, 1.1174, 0.4029, 0.5639, 0.3743, 1.0431, 0.5847, 0.2907, 0.5273, 0.3241, 0.2666, 0.3101, 0.5263, 0.3151, 0.4501, 0.3688, 0.5057, 0.5519, 0.162, 0.2794, 0.5417, 0.5332, 0.2669, 0.3973, 0.5077, -0.2063, 0.092, 0.3675, 0.0662, 0.0854, 0.0055, 0.0925, 0.1312, 0.2565, 0.0033, 0.2403, 0.2191, 0.2062, -0.1581, -0.1593, -0.0048, -0.0779, 0.0973, -0.1346, 0.0367, -0.0937, -0.0975, -1.1513, -0.1072, -0.0721, -0.0747, 1.8208, 1.7491, 1.6761, 1.662, 1.6322, 1.5796, 1.5753, 1.5745, 1.5524, 1.5479, 1.5366, 1.5254, 1.4936, 1.4787, 1.4763, 1.4749, 1.4734, 1.4652, 1.4416, 1.4368, 1.4365, 1.4283, 1.4224, 1.4222, 1.4126, 1.3971, 1.3961, 1.3837, 1.3836, 1.3784, 1.3716, 1.2992, 0.5425, 0.4167, 0.6064, 0.543, 0.5945, 0.3537, 0.3568, 0.3673, 0.4784, 0.4136, 0.1396, 0.5391, 0.3148, 0.1405, 0.3902, 0.2603, 0.4809, 0.5019, 0.3719, 0.3153, 0.2072, 0.012, 0.1609, 0.3503, 0.2155, 0.0841, 0.2078, 0.0246, 0.0861, 0.0999, 0.105, 0.2977, -0.4952, -0.1547, 0.168, -0.0382, -0.204, 0.1587, -0.1266, -0.8679, -0.166, -0.1567, -0.081, -0.2871, -0.2457, -0.0977], \"Freq\": [10997.0, 8595.0, 2638.0, 1755.0, 2374.0, 1867.0, 2095.0, 2340.0, 1814.0, 1887.0, 1743.0, 1573.0, 1509.0, 1437.0, 1624.0, 1785.0, 1112.0, 1447.0, 1163.0, 878.0, 1283.0, 1293.0, 1102.0, 817.0, 1006.0, 1226.0, 918.0, 1079.0, 1153.0, 909.0, 1.5370228083787727, 1.462078023458587, 2.0602902295789, 0.9354435011390722, 0.9538368419887858, 1.4665620909875505, 1.3207119778336145, 0.8884387677951014, 1.72387114418729, 0.8944377127810126, 1.2962395716358595, 0.8909524585729074, 0.8687532607937996, 1.3489078309988027, 0.866541647642241, 0.831932816259818, 0.9088749373876299, 1.275029906629447, 0.8176173929332564, 0.8626598216223531, 2.591231694392036, 1.6857298827432343, 0.8415785276261586, 1.2912498057728552, 4.554288730895009, 1.3041901301804601, 1.6770182276300654, 1.2574239932953273, 1.2840977994050724, 0.8130688188956362, 11.141985410500384, 2.380934865366548, 5.8418921858588515, 270.7459204294989, 6.640984340806734, 15.59205864612611, 2.8299880759442058, 48.30714863933064, 241.15808941184167, 62.87613636308477, 75.63712268797491, 97.73592007800238, 24.79744967741052, 686.4243334311286, 182.2971544406644, 119.54601589153872, 149.34069729246127, 465.82914057950956, 301.48450973857604, 213.96827375897954, 341.34448477784287, 374.1402193236434, 522.0386771591981, 69.9947718893758, 169.44558826525486, 180.30701805905207, 1778.851802245938, 190.69878057578677, 130.77713093393706, 116.08608306240222, 253.32145907621407, 131.87111985983867, 333.6249107593494, 192.192559235637, 137.67828179109884, 93.2012989946458, 135.68682703478757, 213.64998081297685, 399.0032317583302, 324.9226476989335, 295.43016625993477, 240.12323594161467, 393.33463305154413, 207.96249708630248, 172.2767537808661, 204.00041925565836, 210.7323100441635, 318.2002880422915, 236.59785750646603, 1116.8870554734892, 208.44623994953795, 250.58221960107232, 325.46152522270904, 290.74619049767284, 345.2751542710911, 333.73048138353226, 265.138500682879, 257.34405352151543, 270.32397041832513, 227.3425655281226, 252.43701372474797, 232.17539961950717, 228.36014374974573, 1.0438235033464223, 1.0252126363619363, 1.0119265050589668, 0.9910829523283033, 0.9924428315972967, 1.3971828594379483, 0.8959191456263771, 0.8873370755746152, 0.8772267051317871, 0.8694711800673078, 0.9021575069284551, 0.8704566943930473, 1.2682872360785857, 1.4818266857207762, 0.8512208898683117, 0.8373022112713082, 0.8464538775260013, 2.5282820872943277, 0.7891167561478127, 0.7748511069375086, 0.8046615525864644, 1.5330178063451854, 1.2519290376503138, 1.200758864165872, 0.7774419173469753, 0.7765715482391895, 0.7110074658174216, 1.5318197496951214, 0.7597703211029727, 1.4878194315012667, 2.2683601362035066, 2.717995186312737, 1.5711988731299333, 2.8246990000364, 108.1774220791457, 166.6518852376685, 2.9342790423404477, 176.10119448461296, 1603.9599158024585, 63.30786996930474, 109.33657753564917, 34.04159070622063, 391.8777022031831, 44.545435608690156, 510.92685479975614, 93.90047376584097, 343.0999741184031, 181.88633329343128, 40.47577989270554, 88.97472583391439, 258.85833296496145, 158.16683179031577, 191.49308668002672, 428.3476402380169, 288.86188908078077, 182.82263468029902, 221.57285908094462, 164.73215914427573, 113.62705214160107, 93.20910942697171, 217.56802105457427, 101.56990710206101, 143.7398636083124, 109.0755596911325, 86.24804038966604, 185.29429469534404, 144.8262677448129, 265.1411304099099, 191.140191522061, 276.0822334357813, 245.29764789743965, 1009.9393958915701, 299.99442733282746, 321.33840920103984, 256.9605008636218, 216.1374654143922, 224.4097126470508, 221.97053763621003, 196.13291364861269, 228.7985252112675, 205.0895295522622, 194.50923356627484, 201.02441367168106, 186.55085816413788, 1.3770465700404142, 1.3618184113329352, 0.9071114655841949, 0.8195019819664997, 0.816927078400573, 0.8020899798047969, 0.8839991216034134, 0.8290890216742451, 1.1741099694089854, 2.1225784950277355, 0.857027827583739, 1.6693212206519754, 0.8042095598505395, 0.8320020525884344, 0.7471542808093897, 0.8271469274297106, 0.7983711400454773, 0.8430909571322636, 0.7559393702747091, 1.1509834020173029, 0.7870191862274016, 1.1806704705294666, 0.8193545551653427, 0.765439675399346, 0.8108940780364827, 0.6975164446414388, 1.1844535509681429, 0.7925663757761492, 0.7496761001549849, 1.9500043107540008, 1.05497908086145, 1.8239394985168833, 1.5510493606186617, 169.8731510487489, 150.79954304169945, 75.3447974660218, 67.55032640792047, 220.16484158135697, 112.32305263980271, 242.35121998822214, 1474.2731640642949, 298.6849553626263, 41.28005351962534, 120.75012937253021, 66.05592619374184, 310.26435647544855, 142.50049301886696, 64.1439603125471, 190.54195617627767, 212.37412176669255, 98.8853614875715, 54.85057692974024, 419.6701550645432, 91.97267345451459, 68.64491026839227, 107.34327569240435, 46.99706097086173, 152.59610847772493, 209.5712141558186, 142.5292532709048, 314.0895987986589, 190.94669619755683, 153.0164451937521, 320.74501096136817, 299.4433933659631, 201.85252112888526, 104.33341079518758, 365.0997482269791, 213.61793887724312, 171.38082015265869, 229.6820666884895, 157.0935710335476, 273.32541413271315, 241.53558624947354, 164.7569848938362, 289.63505944345076, 326.18773622195323, 253.3983979554669, 749.2798081612863, 224.85892301143588, 244.87098796699192, 194.8124329228292, 194.47543910775377, 187.50238691811964, 193.56337208069144, 179.1845344758429, 2.3995682622092755, 0.8178833249702933, 0.8120193827579196, 0.8327507511135889, 1.1569577003046398, 0.8000503542647946, 0.7654209047191503, 0.7892469004002265, 0.763695973917847, 0.7561730927845954, 0.7600391936642175, 1.0769047731435968, 0.7551052409453166, 0.7278917851804472, 2.3724851387328516, 0.7309233481984502, 0.7130354236987139, 2.5397830287759593, 1.4250608202664359, 1.0797095285062852, 0.7195784862521093, 1.0060400031488035, 0.6837039166664702, 0.9729417619350369, 0.6851038438655515, 0.7067681275923212, 1.0004689837286531, 0.6782490306637642, 0.6704151675504925, 0.6702395048723055, 1.3354281815073048, 2951.844405961414, 2.076568876938137, 37.75551075316434, 11.440154494079477, 360.43654898250105, 169.67114200779, 439.0862276238528, 416.46185228594317, 243.49144249307867, 8.603948621266262, 30.480703781568874, 7.132434641438574, 180.88706600205822, 90.14872528836034, 140.8174724108424, 193.8362254658612, 58.47967963537677, 73.3282387418818, 71.20039465304038, 106.45360859121719, 20.236062434126058, 136.84514652893034, 239.9944045533409, 130.70835106413256, 93.3712161872755, 137.81181773901397, 84.85546244555891, 42.33741821242616, 104.74769108232768, 164.5540721073374, 116.60819560186583, 156.86894627593523, 111.33434869222832, 92.44744743591103, 188.46232447344536, 299.386399754379, 200.44557948369865, 222.75037436669362, 725.7237595767168, 223.22327280475253, 205.82639827668748, 147.12325619033282, 162.49258533549707, 146.3204816464251, 221.528729789624, 192.62992623907334, 132.12790240239457, 155.52819106169747, 127.31396010617672, 146.05184953583668, 144.85037109001243, 144.2423457176467, 142.6806166631861, 139.0168372191153, 0.9242551527965095, 0.8783512650442709, 0.5614246231430978, 0.8551663608808765, 0.5382822662608028, 0.5405983904926901, 0.5271413171799744, 0.5314567598120189, 0.7975145012001338, 0.5103199051896216, 2.078239476682702, 0.8022861962724567, 0.5133148151578898, 0.7659164392247628, 0.5098004031769534, 0.5132097269741587, 0.49683900010992144, 0.7289918363811264, 0.5074408106958073, 0.5080950589992519, 0.5023254548988385, 0.49607553700233475, 0.48934167492102465, 0.7367033902837437, 0.4973246353258967, 0.5034555245590445, 0.4793090859011838, 0.4773398114133928, 0.4746267933642398, 0.4844580163011834, 1.8146153490378076, 1842.883488986505, 3.7203127391088358, 56.26935497661851, 983.1731617895058, 236.5302257558115, 183.37322834844295, 10.42611000084379, 137.26885775719163, 51.45778545869975, 60.78161982775017, 67.17359071694982, 39.80427828539936, 11.958400507649406, 85.94538855401234, 63.41456504070184, 234.41527196323258, 51.59693149831299, 19.340757818166377, 31.936853524434195, 122.21674273150256, 111.12219740068953, 44.98114996794899, 39.809020702173406, 144.3434385261374, 64.92118002807925, 131.7300369068887, 57.18366217429593, 94.45737994544402, 87.90487879112108, 58.542953806257415, 76.1915947831481, 91.21546237010163, 165.03557846371544, 45.22412482845175, 190.99889014852, 107.01916978705769, 152.7235473030052, 106.39115164219947, 148.56781784555793, 128.04851671131507, 189.1904729012544, 113.32003301245128, 104.87342853103121, 101.30325108360582, 123.52279900887889, 118.95580063219842, 125.39811596330526, 133.01572776373706, 102.3584308375511, 107.78452515715955, 101.04079593410539, 109.27637038683679, 95.05984317513551, 0.487058389239616, 0.6910421516182161, 0.456098513899799, 0.43647282119118846, 0.4170727536143371, 0.641926256864402, 0.6279251654605226, 0.4291973730109157, 1.915479129849593, 0.4349285890825025, 0.4331790934437003, 0.42420866475332386, 0.4073332278735457, 0.40200155239516394, 0.4093982528132416, 0.42188463026787915, 0.3880719919322003, 1.0286025356261628, 0.39449736057462287, 0.4199209706539181, 0.39917775740222255, 0.39702117704897166, 0.3959000135608825, 0.39528933636616725, 0.3935486081476913, 0.4046917896442994, 0.38509914258049827, 0.7568457644042809, 0.3952980399301914, 0.38550827671823185, 1.2214265564393818, 0.7493199190818733, 84.10804928841247, 31.878783982590374, 1175.1027878985878, 2.886205611713758, 160.52613536867418, 2.387327896592428, 46.08965131458869, 105.02903873335819, 27.670663873188982, 163.3088372393495, 117.21377130072496, 33.20164891424189, 19.88029425088615, 81.54129810415476, 76.41530633427526, 102.92958593911361, 169.0493993533866, 162.0421404442794, 121.65506705049697, 56.781029701774386, 719.7279401393752, 61.753538773937905, 76.93628391357574, 207.1062388937324, 49.2704268574278, 30.108010926834783, 58.11974730538994, 118.11627568557732, 63.335235751948126, 29.0389718114213, 98.03887352424371, 128.1486842856927, 154.19587573818703, 166.4850659722136, 159.34406137515646, 169.3324956810344, 161.85892377856905, 197.01975436906903, 79.17148307194303, 104.13630240546073, 141.28512447911092, 110.20982338420238, 118.66938402591896, 139.25243612461216, 159.69953759593025, 99.53256065723133, 148.6145564079474, 107.52131439967809, 105.42670502397485, 0.5780770037762752, 0.5451648770064097, 0.5504993152506009, 0.5405801594758284, 0.5255052301864762, 0.5217838147672617, 0.5171811200391881, 0.5118775613127202, 1.0490795790443919, 0.4973643490177451, 0.4996144888288892, 0.5047778072387257, 0.50214741601081, 0.4973687716705113, 0.4716257147508365, 0.7345825263185702, 0.48950943034022654, 0.7422542279206629, 0.4646392976433205, 0.4846139959729117, 0.48355598107181613, 0.46915075008352947, 0.46268461128481125, 0.4775734852802938, 0.46431898542790034, 0.7040008262271954, 0.7086961967040163, 0.47418589053950355, 0.470501260300232, 4.006137687329633, 1706.6952620619425, 1.207536273002502, 1.7668505322821295, 1.520304460188697, 1.1237013221266499, 4.423936134602311, 242.3003690783208, 4.919625358181164, 54.89542962899388, 51.598304686577954, 81.14471130076697, 13.826130331509937, 63.0520082717922, 129.15089505685808, 18.53232285734699, 12.94292030141846, 88.8553167154574, 212.99969091954762, 64.73435000624242, 149.42976805249717, 101.42657950251198, 65.90086108055935, 169.69336810743533, 149.64382524649758, 45.55875767328716, 75.67199151458067, 46.13377703953289, 91.07073824557146, 59.48448642241438, 21.169231079169084, 540.3775449171249, 115.680477327344, 91.65597903134548, 145.46420596505143, 100.41707105132659, 50.11920082342658, 84.17514963382713, 144.7508312662669, 118.63039272399085, 139.12884656263302, 116.47150064276913, 106.2281678085671, 106.51132310389649, 129.98578466933932, 149.43666396185057, 93.963830093021, 90.07832375452328, 122.26907429180389, 148.90977712556096, 92.19100567627736, 89.85983757893158, 95.90570806902525, 93.1834601476551, 0.45722131441399516, 0.4404472205648337, 0.42539827215030357, 0.41255204322427536, 0.40974925192031536, 0.6255578661539878, 0.5909585076354755, 0.38267062350385084, 0.3792356437956771, 0.3796452031279818, 0.3727936750995841, 0.37742910401316765, 0.3725834465641883, 0.3752494117175897, 0.34943717944594477, 0.3747988491252777, 0.3606593979432844, 0.35876702371372954, 0.54019439455368, 0.7188567742864076, 0.3441738941473413, 0.3387350838838942, 0.31984051438430744, 0.34002992714387137, 0.33896476045662766, 0.33548086476664035, 0.3335881740412502, 0.3358073115190683, 0.5272157428029, 0.31735817926629106, 1.2196659024566574, 5.518998568522336, 1.764998932158741, 126.15397629609669, 0.7988107768957456, 148.80273045310534, 25.461209401307325, 64.34231353988066, 45.526551121038345, 74.60192280952327, 45.5899256924033, 71.64086944659472, 482.3623191716433, 126.03112133823787, 161.32711405802098, 35.47160273633098, 46.92045174772157, 172.06566046363014, 99.17088894747668, 42.89064980765577, 12.891168070293435, 14.012420602833538, 148.9980336951362, 69.16959669001632, 78.16077418581742, 80.81870946673628, 103.47764168636233, 59.924989913230654, 116.57500995827442, 101.79550712831856, 77.21753123178352, 35.587763572565855, 38.53012051069722, 73.25832930290798, 59.12427761240374, 45.64923543905054, 66.43428706202559, 49.34871030993914, 58.001755519549675, 77.21009791147856, 95.39933806319267, 67.64476590739665, 265.6457547766913, 87.85257388905416, 87.61294589156495, 68.35358806177916, 63.49496977153784, 64.96397900766316, 66.13656894453973, 0.3898189606898963, 0.21363954770092958, 0.20570846063644121, 0.19558576094291133, 0.19919313598973573, 0.19387899896835414, 0.18578292531870902, 0.19157862046008056, 0.18202407637315454, 0.18412121603180412, 0.18527791737974558, 0.17973204440022422, 0.1795258246567958, 0.17560048520235005, 0.17708126310009736, 0.17697612350168135, 0.17601749793581603, 0.26127505498763076, 0.17762500860385977, 0.16716759126364475, 0.17590154345312994, 0.16299027485442444, 0.16857540067224053, 0.23873907728367277, 0.16603649545536475, 0.16924578096752002, 0.15835552505197056, 0.16517458156441098, 0.15601754346459057, 0.16598980690539336, 0.1723742238055473, 0.23063742598716455, 53.950485472432774, 0.5202544336239135, 108.64434125571042, 24.932129596792443, 46.57146062852127, 0.7202240511724353, 11.84298266447211, 69.48261791234133, 14.31907200022818, 38.305258613041204, 51.63485023148526, 40.51300839945133, 12.031582087938302, 33.13009118254795, 16.504081651699455, 23.749523581658583, 11.73827460690206, 8.903631180955399, 56.796694662484846, 29.96019172194549, 9.051467832068928, 9.305419859378732, 29.062772873204867, 15.734709181623716, 9.328332440513323, 192.45665195232667, 53.883338088505916, 16.483494743517763, 54.896612375222155, 48.6864485580494, 64.77826722527885, 45.575439865624894, 34.355523722729565, 23.09524083600314, 50.11043418405501, 23.803857914081277, 23.8184274250332, 24.091426589380752, 55.79834908557404, 49.189602693657314, 35.430475556180085, 40.051942713419535, 29.198734251101527, 41.938177844598144, 31.490422950593192, 36.268489534863555, 36.32750527661043, 95.70479106991989, 33.88062153964404, 32.87218650109641, 31.325637420330168, 0.1676316938786064, 0.1567233291445712, 0.2339032723152626, 0.14581147395472635, 0.14125162770930635, 0.14299425418558334, 0.13752320348512384, 0.1464376536173719, 0.14576272795026132, 0.14303091785001767, 0.13254296305934685, 0.12890936527595168, 0.13211294917347888, 0.12576435288925492, 0.13349348904576266, 0.13221878864472314, 0.13115255219948804, 0.13122990832427042, 0.19172933435211698, 0.12040422754438883, 0.12623133275527731, 0.11985163471533374, 0.12729896111209396, 0.13058816383364405, 0.1252375109305381, 0.12387077890564878, 0.17971621177907618, 0.12657496192591397, 0.1258263923208143, 0.11332226931409434, 0.2427046709179309, 0.22391182180714062, 25.419492957973134, 48.11003237043134, 8.070903032599018, 10.853597734805303, 7.945610865989083, 23.64574846827637, 22.677614197631748, 18.5812846769656, 10.824567502957597, 13.842521309132012, 43.545554089068226, 7.368754942146334, 18.942278515892962, 38.824086346105325, 13.270899028882788, 21.898752043503645, 8.907057028488506, 8.030198676816818, 13.5094663641922, 16.345494021972282, 24.518880618481727, 48.25379558073966, 27.244920165336797, 12.845790025365135, 20.383012685068845, 30.921620976717094, 20.282010612245813, 33.61018361146616, 25.476684878530172, 24.489968883851468, 23.151617493980098, 13.684109326040362, 94.6540335126618, 36.76197936369129, 18.11369440383779, 26.255477033901226, 34.49339310430167, 18.01051183856762, 27.758206296721397, 83.42595797810623, 28.894145985501282, 27.588057811962685, 23.94815310137443, 22.023364783606247, 20.566172018835594, 19.072967292156637], \"Total\": [10997.0, 8595.0, 2638.0, 1755.0, 2374.0, 1867.0, 2095.0, 2340.0, 1814.0, 1887.0, 1743.0, 1573.0, 1509.0, 1437.0, 1624.0, 1785.0, 1112.0, 1447.0, 1163.0, 878.0, 1283.0, 1293.0, 1102.0, 817.0, 1006.0, 1226.0, 918.0, 1079.0, 1153.0, 909.0, 3.1038171132893146, 3.1082112704926628, 4.442858305613541, 2.0649502147587175, 2.1132950924962395, 3.264512452487621, 2.97172592280477, 2.00296664834663, 3.8959653047451352, 2.0475849318439554, 2.96985543076252, 2.0446535937556964, 1.9942186114454252, 3.0999827664774156, 1.996116508163593, 1.9295353561746122, 2.1088215528303995, 2.9766986678915366, 1.9263664113557053, 2.0385584413176763, 6.225883264174875, 4.053035172424236, 2.0239784958291374, 3.117572530001634, 11.009082685095004, 3.155354522480902, 4.070585700551982, 3.055319137989108, 3.145606590025458, 1.9968142349177063, 27.710150161750636, 5.938353599437142, 15.078046036136984, 853.8489671737359, 17.336510607594416, 43.35083442273083, 7.170448129338497, 147.63480691722535, 842.9921303577174, 198.9180772898718, 243.41948834576326, 321.3011675318401, 73.69652679098738, 2638.60392794206, 632.5513248182098, 404.33530423002617, 515.4493175347685, 1785.806701046896, 1121.8308236387902, 778.1868854981496, 1301.7163905176635, 1447.273740037211, 2095.967332135181, 234.85985167902078, 623.8243366291493, 668.9670357279082, 8595.560293172044, 719.2297380086901, 473.5454476499223, 415.863652940286, 994.1152811237673, 479.7951846392171, 1370.3821216476288, 737.5947583660674, 506.5981011229944, 326.92002868740974, 501.7117696587899, 868.9128552217387, 1814.7696142630507, 1437.1256702441747, 1283.701983312675, 1006.3919636822417, 1887.838167988675, 864.0166348239771, 680.17381837537, 872.0872159787223, 911.7943194557242, 1624.2049723178104, 1079.63284519874, 10997.408708259514, 901.6675472412579, 1209.3348729319616, 1867.0020533724555, 1573.2345143048283, 2340.9093975261862, 2374.8272162589647, 1509.6389785029146, 1455.1189110616433, 1743.5022822669246, 1112.2060949813208, 1755.1195778525725, 1293.6138184705108, 1226.4906402683348, 2.1014641786830723, 2.0873501420187317, 2.094115274797253, 2.072498281813161, 2.1007664055112563, 3.0089114925593816, 1.980596466530955, 1.9807152883449548, 1.976870262028786, 1.9655199869417952, 2.0445200646317003, 1.9756659920718134, 2.879995378215501, 3.373224615410817, 1.963447290900192, 1.9430056143445, 2.018173384577897, 6.122589039444311, 1.9471108735074318, 1.925333087720781, 2.0107570789991773, 3.8902757570677875, 3.1821765334468943, 3.0560456692109796, 2.000061877637601, 2.00220047107491, 1.8500789930130428, 3.9918177317589394, 2.001409224073486, 3.927850151095721, 6.035971804423121, 7.308359336954288, 4.171138763842706, 7.8376812133921225, 382.32425672091676, 610.45485057911, 8.167234692075493, 726.4618036459028, 8595.560293172044, 245.03309488297737, 455.2116997744179, 124.86418040338663, 1887.838167988675, 169.80910279044045, 2638.60392794206, 394.0963541936056, 1755.1195778525725, 853.8489671737359, 155.07305275300243, 381.26978213190444, 1293.6138184705108, 737.5947583660674, 924.1309607682546, 2340.9093975261862, 1509.6389785029146, 901.6675472412579, 1153.5003510552688, 817.7596121906261, 537.1949965850845, 427.99053837080174, 1163.8274698448072, 478.08608598424746, 725.5974054881349, 524.0606227762052, 396.71368557972045, 994.1152811237673, 746.0484723850109, 1624.2049723178104, 1094.8918417690184, 1814.7696142630507, 1573.2345143048283, 10997.408708259514, 2095.967332135181, 2374.8272162589647, 1743.5022822669246, 1370.3821216476288, 1455.1189110616433, 1447.273740037211, 1226.4906402683348, 1785.806701046896, 1437.1256702441747, 1283.701983312675, 1867.0020533724555, 1209.3348729319616, 2.812163368687017, 3.0758114085943618, 2.0823868867773743, 1.8987389674058788, 1.903704489173553, 1.8878562219315584, 2.122689063893394, 2.0122829461838854, 2.8611891481046547, 5.191130839802315, 2.0973920556788794, 4.093662225196951, 1.9730675146499483, 2.0468297912318145, 1.853046746775002, 2.060907047067098, 1.9923037537331372, 2.1075040728038945, 1.9249590561414867, 2.94174573583081, 2.0128899907902267, 3.0215552567233774, 2.114538941518767, 1.9922235639418773, 2.111174822187841, 1.819650869423192, 3.1140761014578384, 2.0904272570156968, 1.9778265977299938, 5.162675475835297, 2.8194832626979682, 5.015407562646335, 4.236809054491697, 725.5974054881349, 652.6980237406219, 307.0891444968973, 273.92806182123945, 1031.6450744911701, 488.9485006807631, 1153.5003510552688, 8595.560293172044, 1455.1189110616433, 161.91233834648523, 545.3544287567026, 278.511498203881, 1624.2049723178104, 672.370948616605, 274.37597063648747, 950.8656807897589, 1079.63284519874, 455.20942674774096, 234.3569147583696, 2374.8272162589647, 421.66972144418474, 302.576939660345, 508.07880646023114, 197.45126507206814, 765.2146368023447, 1107.514968068122, 709.8287306887415, 1785.806701046896, 1006.5872298731039, 778.4018440145636, 1867.0020533724555, 1755.1195778525725, 1094.8918417690184, 500.8064712738826, 2340.9093975261862, 1209.3348729319616, 924.1309607682546, 1370.3821216476288, 837.7904556339387, 1743.5022822669246, 1509.6389785029146, 911.7943194557242, 2095.967332135181, 2638.60392794206, 1814.7696142630507, 10997.408708259514, 1573.2345143048283, 1887.838167988675, 1226.4906402683348, 1293.6138184705108, 1283.701983312675, 1437.1256702441747, 1301.7163905176635, 4.802928430633381, 1.8699426729932591, 1.867293684291473, 1.954686748078228, 2.7975017131465987, 1.947954848715583, 1.869517940684109, 1.949025206870998, 1.9116835034316293, 1.904167842726547, 1.9462080949195464, 2.7585853247178167, 1.9391061116511326, 1.8757771016495548, 6.120960745718217, 1.887105215402485, 1.8417967198762164, 6.59723049580378, 3.722050514620954, 2.830546963433501, 1.9103755546067127, 2.674833068399652, 1.8418633559258875, 2.641348288434155, 1.8606661425053217, 1.9247162144315109, 2.7345413642051977, 1.8549607951868752, 1.8390576588199703, 1.839624706560287, 3.7392788194453264, 10997.408708259514, 5.922310416666001, 138.05151371120945, 38.649371347726984, 1867.0020533724555, 823.3194537066452, 2374.8272162589647, 2340.9093975261862, 1455.1189110616433, 31.449029879538486, 135.83456360853484, 25.708493199712265, 1112.2060949813208, 498.5241203865743, 837.7904556339387, 1226.4906402683348, 304.859158564733, 398.50950232592453, 395.9562550427811, 649.3532408450096, 90.38197087643654, 891.8345194768481, 1755.1195778525725, 847.4117112244688, 571.9071797713201, 918.7418335695185, 512.2016477333244, 221.40972258401442, 670.5274770412464, 1163.8274698448072, 766.0171983079318, 1107.514968068122, 726.4618036459028, 581.9668810307052, 1437.1256702441747, 2638.60392794206, 1573.2345143048283, 1814.7696142630507, 8595.560293172044, 1887.838167988675, 1743.5022822669246, 1094.8918417690184, 1283.701983312675, 1102.971891118204, 2095.967332135181, 1785.806701046896, 994.1152811237673, 1370.3821216476288, 934.150021833152, 1301.7163905176635, 1293.6138184705108, 1447.273740037211, 1509.6389785029146, 1209.3348729319616, 2.623618448681256, 2.5570990521576307, 1.72075386313424, 2.6463444609308318, 1.7229675685877122, 1.7582220589841244, 1.7296184589810946, 1.7515223130488324, 2.6602615590250607, 1.7189472034213484, 7.032236973447467, 2.7258224150178627, 1.760965107159112, 2.6313782930951635, 1.7561918437172455, 1.7784494966062765, 1.7246717531534654, 2.5321796543867054, 1.7660446419817855, 1.7704058518077348, 1.7517826623525465, 1.7457500961791912, 1.7255087243533749, 2.607745095825716, 1.7671909339386784, 1.7894150258008406, 1.7271707650461572, 1.7344977126791954, 1.7257998918400985, 1.7654568525786078, 7.006208202893383, 10997.408708259514, 16.093286298473107, 333.71515608475437, 8595.560293172044, 1743.5022822669246, 1509.6389785029146, 57.14153599179827, 1112.2060949813208, 360.9505091824046, 450.74025836710246, 508.1437909016567, 285.5527661100117, 69.44531560913782, 709.8287306887415, 499.38457892423963, 2374.8272162589647, 398.50950232592453, 124.18786098011408, 226.7898777753993, 1121.8308236387902, 1006.5872298731039, 342.8737688986056, 296.5745124758401, 1447.273740037211, 548.1575244579823, 1301.7163905176635, 472.6481556012104, 891.8345194768481, 817.7596121906261, 494.67825001036687, 690.5927826956206, 878.4057689407497, 1867.0020533724555, 362.89435196216516, 2340.9093975261862, 1107.514968068122, 1785.806701046896, 1102.971891118204, 1755.1195778525725, 1437.1256702441747, 2638.60392794206, 1293.6138184705108, 1209.3348729319616, 1153.5003510552688, 1624.2049723178104, 1573.2345143048283, 1814.7696142630507, 2095.967332135181, 1226.4906402683348, 1455.1189110616433, 1283.701983312675, 1887.838167988675, 1370.3821216476288, 1.6926509849358398, 2.7196616199685772, 1.7977094819759323, 1.7255899573965128, 1.6977165002882177, 2.633773652192509, 2.5779469716684016, 1.7742942499580583, 7.935235961096305, 1.8019657185030526, 1.805846794100655, 1.7721243732022252, 1.7222880131538472, 1.72371047490756, 1.7583251028549827, 1.8172127830099938, 1.672608054445687, 4.448088582424537, 1.706514591671133, 1.8224182591336149, 1.7376032743245309, 1.7496830098353493, 1.7522010200909932, 1.75209128063574, 1.7518755453995736, 1.8018401097971306, 1.7288530207584054, 3.408771839898395, 1.7817730011409596, 1.740932352312324, 5.53918550586571, 3.474939585220112, 510.3596318836743, 204.6056175633407, 10997.408708259514, 15.522987233326921, 1301.7163905176635, 12.739816046991987, 342.97657640981794, 868.9128552217387, 194.63439453889998, 1437.1256702441747, 1006.3919636822417, 244.2998999062952, 137.4883496934497, 673.9941292396525, 633.0522816796272, 891.8345194768481, 1573.2345143048283, 1509.6389785029146, 1102.971891118204, 463.2656312920405, 8595.560293172044, 512.2016477333244, 659.9521040598336, 2095.967332135181, 398.50950232592453, 226.9832612807374, 489.1395982964657, 1121.8308236387902, 545.3474820686748, 220.2571651557713, 934.150021833152, 1293.6138184705108, 1624.2049723178104, 1814.7696142630507, 1743.5022822669246, 1887.838167988675, 1785.806701046896, 2340.9093975261862, 746.0484723850109, 1107.514968068122, 1755.1195778525725, 1226.4906402683348, 1447.273740037211, 1867.0020533724555, 2374.8272162589647, 1112.2060949813208, 2638.60392794206, 1370.3821216476288, 1455.1189110616433, 1.7198230013786384, 1.7143377567997273, 1.7336241680295064, 1.7234694774647485, 1.7207988262255058, 1.716448132736139, 1.7216676230330392, 1.7425533662952226, 3.586895729235319, 1.7182581286065168, 1.7352392700363028, 1.763090243850566, 1.765315865232678, 1.7507106385909863, 1.6727007798159912, 2.6252789804368923, 1.7511150793788657, 2.663711633147147, 1.6709557732774445, 1.7479170808054378, 1.752922456310504, 1.7156270957829467, 1.693630560559034, 1.7664211165392385, 1.7184883785153025, 2.6076119318872335, 2.6347479727886234, 1.7652621672013065, 1.7549517351334007, 14.964764288083607, 10997.408708259514, 4.795242007762556, 7.2341991499843985, 6.159227105623386, 4.5496739411674, 21.392794720236488, 2095.967332135181, 24.489367909830545, 398.50950232592453, 384.2661915327527, 657.036126419058, 85.62284601646668, 512.2016477333244, 1209.3348729319616, 123.37014036760992, 82.48934592331764, 823.3194537066452, 2374.8272162589647, 571.9071797713201, 1573.2345143048283, 1006.5872298731039, 595.1729222033613, 1887.838167988675, 1624.2049723178104, 383.04386259111413, 712.2424504598948, 394.55939680195047, 934.150021833152, 556.9944687292526, 156.78571721509263, 8595.560293172044, 1283.701983312675, 962.5813172203488, 1743.5022822669246, 1107.514968068122, 472.03820384417236, 918.7418335695185, 1867.0020533724555, 1447.273740037211, 1814.7696142630507, 1455.1189110616433, 1293.6138184705108, 1301.7163905176635, 1755.1195778525725, 2340.9093975261862, 1102.971891118204, 1031.6450744911701, 1785.806701046896, 2638.60392794206, 1094.8918417690184, 1112.2060949813208, 1509.6389785029146, 1437.1256702441747, 1.7093548851012714, 1.711182915330291, 1.6809035765754705, 1.7017493448493664, 1.7479914050501544, 2.7272946409130827, 2.6448595054733426, 1.7270401457512736, 1.7273666771191833, 1.729975017174517, 1.7052210393252054, 1.730452545725426, 1.734862416535882, 1.7574800460204933, 1.66714536932455, 1.7924447427556602, 1.7393742283455815, 1.7403403447542791, 2.6466961184241713, 3.6739438691565733, 1.761227682684836, 1.7584759570451092, 1.6809356488915144, 1.8043697077167415, 1.80068229849815, 1.7822688368129354, 1.7735244793841114, 1.7910069054406348, 2.841872232495446, 1.712535249321659, 7.450931129215712, 40.42688334204643, 11.347478311839378, 1447.273740037211, 4.755208220016365, 1814.7696142630507, 243.41948834576326, 725.5974054881349, 510.3596318836743, 909.3919867982243, 515.4493175347685, 878.4057689407497, 8595.560293172044, 1743.5022822669246, 2374.8272162589647, 394.55939680195047, 552.0119680236628, 2638.60392794206, 1370.3821216476288, 499.38457892423963, 119.47685587690421, 132.54888306505077, 2340.9093975261862, 924.1309607682546, 1094.8918417690184, 1163.8274698448072, 1573.2345143048283, 811.062861857075, 1867.0020533724555, 1624.2049723178104, 1153.5003510552688, 434.6142262701024, 483.5849216247708, 1107.514968068122, 842.9921303577174, 605.627209261434, 994.1152811237673, 672.370948616605, 850.4499844443233, 1283.701983312675, 1755.1195778525725, 1079.63284519874, 10997.408708259514, 1887.838167988675, 2095.967332135181, 1301.7163905176635, 1121.8308236387902, 1437.1256702441747, 1785.806701046896, 2.571337526091543, 1.627755473808631, 1.6945071655297836, 1.6552732542821504, 1.6972291689625703, 1.6672520125025447, 1.6295653820903475, 1.7108061944118873, 1.6733310529682894, 1.7029075277198724, 1.7393096341661123, 1.694204440618413, 1.6964613004669704, 1.667456442125587, 1.6917948819785673, 1.6954328165868544, 1.693732812662125, 2.536208165668415, 1.7386776119379403, 1.6692091232027102, 1.7724798915205284, 1.6468530077404755, 1.709534301487815, 2.4213562942481617, 1.6865948422395942, 1.72529934444472, 1.6338357782486663, 1.7043713869017387, 1.6110144459978377, 1.7174590538678478, 1.7880185282325218, 2.4509021885262325, 1112.2060949813208, 6.184319609412335, 2638.60392794206, 515.4493175347685, 1163.8274698448072, 9.22130831920316, 239.79916448930425, 1887.838167988675, 307.0891444968973, 1006.5872298731039, 1437.1256702441747, 1079.63284519874, 258.2691341085134, 878.4057689407497, 382.32425672091676, 596.7796642198015, 257.21583943071107, 186.30168519238146, 1755.1195778525725, 823.2588296982092, 191.3375317697477, 198.38663048598235, 808.6830677359673, 384.2661915327527, 204.016757283656, 8595.560293172044, 1785.806701046896, 414.76399035081414, 1867.0020533724555, 1624.2049723178104, 2340.9093975261862, 1509.6389785029146, 1094.8918417690184, 649.3532408450096, 1814.7696142630507, 680.17381837537, 695.2008182158735, 712.2424504598948, 2374.8272162589647, 2095.967332135181, 1293.6138184705108, 1573.2345143048283, 962.5813172203488, 1743.5022822669246, 1102.971891118204, 1447.273740037211, 1455.1189110616433, 10997.408708259514, 1370.3821216476288, 1283.701983312675, 1226.4906402683348, 1.5019841773744032, 1.508616579367379, 2.421969186698794, 1.5313270230215243, 1.5282425431364892, 1.6306739338519656, 1.5750388493706873, 1.6784766493564838, 1.7079873713921805, 1.6835576056321109, 1.5778099358473532, 1.5518542022921746, 1.6418634819347795, 1.5864067167513394, 1.687918064552378, 1.6742315482056678, 1.6632538944934983, 1.6778941845112307, 2.5098202197963335, 1.5838485229479282, 1.660992854556304, 1.5899298712179761, 1.6988101032162897, 1.7430580848350896, 1.6876983959589056, 1.6954008748432625, 2.462101244826422, 1.7558042731562513, 1.7455523874705359, 1.5802897712048727, 3.407666956758925, 3.379654074687566, 817.7596121906261, 1755.1195778525725, 243.57898069538822, 349.0001537266247, 242.66118104548426, 918.7418335695185, 878.4057689407497, 712.2424504598948, 371.2926678490955, 506.5981011229944, 2095.967332135181, 237.86707491501102, 765.2146368023447, 1867.0020533724555, 497.1638156544987, 934.150021833152, 304.74011349444345, 269.02307553236216, 515.4493175347685, 659.9521040598336, 1102.971891118204, 2638.60392794206, 1283.701983312675, 500.8064712738826, 909.3919867982243, 1573.2345143048283, 911.7943194557242, 1814.7696142630507, 1293.6138184705108, 1226.4906402683348, 1153.5003510552688, 562.337607827682, 8595.560293172044, 2374.8272162589647, 847.4117112244688, 1509.6389785029146, 2340.9093975261862, 850.4499844443233, 1743.5022822669246, 10997.408708259514, 1887.838167988675, 1785.806701046896, 1437.1256702441747, 1624.2049723178104, 1455.1189110616433, 1163.8274698448072], \"logprob\": [30.0, 29.0, 28.0, 27.0, 26.0, 25.0, 24.0, 23.0, 22.0, 21.0, 20.0, 19.0, 18.0, 17.0, 16.0, 15.0, 14.0, 13.0, 12.0, 11.0, 10.0, 9.0, 8.0, 7.0, 6.0, 5.0, 4.0, 3.0, 2.0, 1.0, -11.121, -11.171, -10.828, -11.6176, -11.5981, -11.1679, -11.2726, -11.6691, -11.0062, -11.6624, -11.2914, -11.6663, -11.6915, -11.2515, -11.6941, -11.7348, -11.6464, -11.3078, -11.7522, -11.6986, -10.5987, -11.0286, -11.7233, -11.2952, -10.0348, -11.2852, -11.0338, -11.3218, -11.3008, -11.7578, -9.1401, -10.6833, -9.7858, -5.9496, -9.6576, -8.8041, -10.5105, -7.6732, -6.0654, -7.4097, -7.2249, -6.9686, -8.3401, -5.0193, -6.3452, -6.7671, -6.5446, -5.407, -5.8421, -6.185, -5.7179, -5.6262, -5.2931, -7.3024, -6.4183, -6.3562, -4.0671, -6.3001, -6.6773, -6.7965, -6.0162, -6.669, -5.7408, -6.2923, -6.6259, -7.0161, -6.6405, -6.1865, -5.5618, -5.7672, -5.8624, -6.0697, -5.5762, -6.2135, -6.4017, -6.2327, -6.2002, -5.7881, -6.0845, -4.5325, -6.2111, -6.027, -5.7656, -5.8784, -5.7065, -5.7405, -5.9706, -6.0004, -5.9512, -6.1244, -6.0197, -6.1033, -6.1199, -11.2516, -11.2696, -11.2826, -11.3035, -11.3021, -10.96, -11.4044, -11.414, -11.4255, -11.4344, -11.3975, -11.4332, -11.0568, -10.9012, -11.4556, -11.4721, -11.4612, -10.367, -11.5313, -11.5496, -11.5118, -10.8673, -11.0698, -11.1115, -11.5462, -11.5474, -11.6356, -10.868, -11.5692, -10.8972, -10.4754, -10.2946, -10.8427, -10.2561, -6.6107, -6.1786, -10.218, -6.1234, -3.9143, -7.1465, -6.6001, -7.7669, -5.3235, -7.498, -5.0583, -6.7523, -5.4565, -6.0911, -7.5938, -6.8061, -5.7382, -6.2308, -6.0396, -5.2346, -5.6285, -6.086, -5.8937, -6.1902, -6.5616, -6.7596, -5.912, -6.6737, -6.3265, -6.6025, -6.8373, -6.0725, -6.319, -5.7142, -6.0415, -5.6738, -5.792, -4.3768, -5.5907, -5.522, -5.7456, -5.9186, -5.881, -5.8919, -6.0157, -5.8617, -5.971, -6.024, -5.9911, -6.0658, -10.9644, -10.9755, -11.3818, -11.4834, -11.4865, -11.5049, -11.4076, -11.4718, -11.1238, -10.5317, -11.4386, -10.7719, -11.5022, -11.4682, -11.5758, -11.4741, -11.5095, -11.455, -11.5641, -11.1437, -11.5238, -11.1182, -11.4836, -11.5516, -11.4939, -11.6446, -11.115, -11.5168, -11.5724, -10.6165, -11.2308, -10.6833, -10.8454, -6.1493, -6.2684, -6.9623, -7.0715, -5.89, -6.563, -5.7939, -3.9884, -5.5849, -7.564, -6.4906, -7.0938, -5.5469, -6.325, -7.1232, -6.0345, -5.926, -6.6904, -7.2797, -5.2449, -6.7628, -7.0554, -6.6083, -7.4342, -6.2565, -5.9393, -6.3248, -5.5347, -6.0323, -6.2538, -5.5137, -5.5824, -5.9768, -6.6367, -5.3842, -5.9201, -6.1404, -5.8476, -6.2275, -5.6737, -5.7973, -6.1799, -5.6157, -5.4969, -5.7494, -4.6652, -5.8689, -5.7836, -6.0123, -6.014, -6.0505, -6.0187, -6.0959, -10.1968, -11.2731, -11.2803, -11.2551, -10.9263, -11.2952, -11.3394, -11.3088, -11.3417, -11.3516, -11.3465, -10.998, -11.353, -11.3897, -10.2081, -11.3855, -11.4103, -10.14, -10.7179, -10.9954, -11.4012, -11.0661, -11.4523, -11.0995, -11.4503, -11.4191, -11.0716, -11.4603, -11.4719, -11.4722, -10.7828, -3.0819, -10.3414, -7.4409, -8.635, -5.1848, -5.9382, -4.9874, -5.0403, -5.577, -8.9199, -7.655, -9.1074, -5.8742, -6.5706, -6.1246, -5.8051, -7.0034, -6.7771, -6.8066, -6.4044, -8.0646, -6.1532, -5.5915, -6.1991, -6.5355, -6.1462, -6.6311, -7.3264, -6.4205, -5.9688, -6.3133, -6.0167, -6.3595, -6.5454, -5.8332, -5.3703, -5.7715, -5.666, -4.4849, -5.6639, -5.745, -6.0808, -5.9814, -6.0863, -5.6715, -5.8113, -6.1883, -6.0253, -6.2254, -6.0881, -6.0964, -6.1006, -6.1115, -6.1375, -10.8095, -10.8605, -11.308, -10.8872, -11.3501, -11.3458, -11.371, -11.3629, -10.957, -11.4035, -9.9992, -10.951, -11.3976, -10.9974, -11.4045, -11.3978, -11.4302, -11.0468, -11.4091, -11.4078, -11.4193, -11.4318, -11.4454, -11.0363, -11.4293, -11.417, -11.4662, -11.4703, -11.476, -11.4555, -10.1349, -3.2117, -9.4169, -6.7006, -3.84, -5.2647, -5.5192, -8.3864, -5.8088, -6.79, -6.6235, -6.5235, -7.0468, -8.2493, -6.277, -6.5811, -5.2736, -6.7873, -7.7685, -7.267, -5.9249, -6.0201, -6.9245, -7.0467, -5.7585, -6.5576, -5.85, -6.6845, -6.1826, -6.2545, -6.661, -6.3975, -6.2175, -5.6246, -6.9191, -5.4785, -6.0577, -5.7021, -6.0636, -5.7297, -5.8783, -5.488, -6.0005, -6.078, -6.1126, -5.9143, -5.952, -5.8993, -5.8403, -6.1023, -6.0506, -6.1152, -6.0369, -6.1762, -11.3829, -11.0331, -11.4486, -11.4926, -11.5381, -11.1068, -11.1289, -11.5094, -10.0136, -11.4961, -11.5002, -11.5211, -11.5617, -11.5749, -11.5566, -11.5266, -11.6101, -10.6354, -11.5937, -11.5312, -11.5819, -11.5873, -11.5902, -11.5917, -11.5961, -11.5682, -11.6178, -10.9422, -11.5917, -11.6168, -10.4635, -10.9521, -6.2315, -7.2016, -3.5944, -9.6036, -5.5851, -9.7934, -6.833, -6.0093, -7.3432, -5.5679, -5.8996, -7.161, -7.6738, -6.2624, -6.3274, -6.0295, -5.5334, -5.5757, -5.8624, -6.6244, -4.0847, -6.5404, -6.3206, -5.3303, -6.7662, -7.2588, -6.6011, -5.8919, -6.5151, -7.2949, -6.0782, -5.8104, -5.6253, -5.5487, -5.5925, -5.5317, -5.5768, -5.3803, -6.2919, -6.0179, -5.7128, -5.9612, -5.8872, -5.7273, -5.5903, -6.0631, -5.6622, -5.9859, -6.0055, -11.1687, -11.2273, -11.2176, -11.2358, -11.2641, -11.2712, -11.28, -11.2904, -10.5728, -11.3191, -11.3146, -11.3043, -11.3095, -11.3191, -11.3723, -10.9291, -11.335, -10.9187, -11.3872, -11.3451, -11.3473, -11.3775, -11.3914, -11.3597, -11.3879, -10.9717, -10.965, -11.3668, -11.3746, -9.2329, -3.1784, -10.4321, -10.0515, -10.2018, -10.5041, -9.1337, -5.1305, -9.0274, -6.6153, -6.6772, -6.2244, -7.9941, -6.4767, -5.7597, -7.7012, -8.0601, -6.1337, -5.2594, -6.4504, -5.6139, -6.0013, -6.4325, -5.4867, -5.6124, -6.8017, -6.2943, -6.7891, -6.109, -6.535, -7.5681, -4.3284, -5.8699, -6.1026, -5.6408, -6.0113, -6.7063, -6.1878, -5.6457, -5.8447, -5.6853, -5.863, -5.9551, -5.9524, -5.7533, -5.6138, -6.0778, -6.12, -5.8145, -5.6173, -6.0968, -6.1224, -6.0573, -6.0861, -11.051, -11.0884, -11.1232, -11.1538, -11.1607, -10.7376, -10.7945, -11.229, -11.2381, -11.237, -11.2552, -11.2428, -11.2557, -11.2486, -11.3199, -11.2498, -11.2883, -11.2935, -10.8843, -10.5985, -11.3351, -11.351, -11.4084, -11.3472, -11.3503, -11.3606, -11.3663, -11.3597, -10.9086, -11.4162, -10.0699, -8.5603, -9.7003, -5.431, -10.4931, -5.2658, -7.0313, -6.1042, -6.4502, -5.9563, -6.4488, -5.9968, -4.0898, -5.4319, -5.185, -6.6997, -6.42, -5.1206, -5.6716, -6.5098, -7.7119, -7.6285, -5.2645, -6.0319, -5.9097, -5.8762, -5.6291, -6.1754, -5.5099, -5.6455, -5.9218, -6.6965, -6.617, -5.9745, -6.1888, -6.4475, -6.0722, -6.3695, -6.208, -5.9219, -5.7104, -6.0542, -4.6863, -5.7928, -5.7955, -6.0438, -6.1175, -6.0946, -6.0767, -10.4908, -11.0922, -11.13, -11.1805, -11.1622, -11.1893, -11.2319, -11.2012, -11.2524, -11.2409, -11.2346, -11.265, -11.2662, -11.2883, -11.2799, -11.2805, -11.2859, -10.8909, -11.2768, -11.3375, -11.2866, -11.3628, -11.3291, -10.9811, -11.3443, -11.3251, -11.3917, -11.3495, -11.4065, -11.3446, -11.3068, -11.0156, -5.5607, -10.2022, -4.8607, -6.3326, -5.7078, -9.8769, -7.077, -5.3077, -6.8871, -5.9032, -5.6045, -5.8471, -7.0612, -6.0483, -6.7451, -6.3812, -7.0859, -7.3623, -5.5093, -6.1489, -7.3458, -7.3181, -6.1793, -6.7929, -7.3157, -4.2889, -5.5619, -6.7464, -5.5433, -5.6633, -5.3778, -5.7294, -6.012, -6.4091, -5.6345, -6.3789, -6.3783, -6.3669, -5.527, -5.6531, -5.9812, -5.8586, -6.1746, -5.8125, -6.0991, -5.9578, -5.9562, -4.9875, -6.0259, -6.0561, -6.1043, -10.914, -10.9813, -10.5809, -11.0535, -11.0852, -11.073, -11.112, -11.0492, -11.0538, -11.0727, -11.1489, -11.1767, -11.1521, -11.2014, -11.1417, -11.1513, -11.1594, -11.1588, -10.7797, -11.2449, -11.1977, -11.2495, -11.1892, -11.1637, -11.2056, -11.2165, -10.8444, -11.1949, -11.2009, -11.3055, -10.5439, -10.6245, -5.8925, -5.2545, -7.0398, -6.7435, -7.0554, -5.9648, -6.0066, -6.2059, -6.7462, -6.5003, -5.3542, -7.1308, -6.1866, -5.469, -6.5424, -6.0416, -6.9412, -7.0448, -6.5246, -6.3341, -5.9286, -5.2515, -5.8232, -6.575, -6.1133, -5.6966, -6.1183, -5.6132, -5.8903, -5.9298, -5.986, -6.5118, -4.5778, -5.5236, -6.2314, -5.8601, -5.5873, -6.2371, -5.8045, -4.7041, -5.7644, -5.8106, -5.9521, -6.0359, -6.1044, -6.1797]}};\n",
       "\n",
       "function LDAvis_load_lib(url, callback){\n",
       "  var s = document.createElement('script');\n",
       "  s.src = url;\n",
       "  s.async = true;\n",
       "  s.onreadystatechange = s.onload = callback;\n",
       "  s.onerror = function(){console.warn(\"failed to load library \" + url);};\n",
       "  document.getElementsByTagName(\"head\")[0].appendChild(s);\n",
       "}\n",
       "\n",
       "if(typeof(LDAvis) !== \"undefined\"){\n",
       "   // already loaded: just create the visualization\n",
       "   !function(LDAvis){\n",
       "       new LDAvis(\"#\" + \"ldavis_el349946873884969915963793\", ldavis_el349946873884969915963793_data);\n",
       "   }(LDAvis);\n",
       "}else if(typeof define === \"function\" && define.amd){\n",
       "   // require.js is available: use it to load d3/LDAvis\n",
       "   require.config({paths: {d3: \"https://cdnjs.cloudflare.com/ajax/libs/d3/3.5.5/d3.min\"}});\n",
       "   require([\"d3\"], function(d3){\n",
       "      window.d3 = d3;\n",
       "      LDAvis_load_lib(\"https://cdn.rawgit.com/bmabey/pyLDAvis/files/ldavis.v1.0.0.js\", function(){\n",
       "        new LDAvis(\"#\" + \"ldavis_el349946873884969915963793\", ldavis_el349946873884969915963793_data);\n",
       "      });\n",
       "    });\n",
       "}else{\n",
       "    // require.js not available: dynamically load d3 & LDAvis\n",
       "    LDAvis_load_lib(\"https://cdnjs.cloudflare.com/ajax/libs/d3/3.5.5/d3.min.js\", function(){\n",
       "         LDAvis_load_lib(\"https://cdn.rawgit.com/bmabey/pyLDAvis/files/ldavis.v1.0.0.js\", function(){\n",
       "                 new LDAvis(\"#\" + \"ldavis_el349946873884969915963793\", ldavis_el349946873884969915963793_data);\n",
       "            })\n",
       "         });\n",
       "}\n",
       "</script>"
      ],
      "text/plain": [
       "PreparedData(topic_coordinates=            Freq  cluster  topics         x         y\n",
       "topic                                                \n",
       "5      20.377787        1       1  0.005540 -0.001762\n",
       "3      15.770153        1       2  0.004986 -0.001390\n",
       "6      15.610682        1       3  0.005928 -0.003871\n",
       "0      12.625340        1       4 -0.013555  0.002706\n",
       "1       8.974344        1       5 -0.010579 -0.003820\n",
       "7       8.391212        1       6 -0.005505 -0.000635\n",
       "9       8.039027        1       7 -0.011686  0.002199\n",
       "8       5.652398        1       8  0.007254 -0.003836\n",
       "2       2.752099        1       9  0.010377  0.003372\n",
       "4       1.806957        1      10  0.007239  0.007037, topic_info=      Category          Freq     Term         Total  loglift  logprob\n",
       "term                                                                 \n",
       "13778  Default  10997.000000        b  10997.000000  30.0000  30.0000\n",
       "2127   Default   8595.000000        s   8595.000000  29.0000  29.0000\n",
       "1902   Default   2638.000000      say   2638.000000  28.0000  28.0000\n",
       "10559  Default   1755.000000   govern   1755.000000  27.0000  27.0000\n",
       "3872   Default   2374.000000       us   2374.000000  26.0000  26.0000\n",
       "18685  Default   1867.000000   israel   1867.000000  25.0000  25.0000\n",
       "18169  Default   2095.000000     kill   2095.000000  24.0000  24.0000\n",
       "7033   Default   2340.000000     year   2340.000000  23.0000  23.0000\n",
       "20642  Default   1814.000000     will   1814.000000  22.0000  22.0000\n",
       "2356   Default   1887.000000    world   1887.000000  21.0000  21.0000\n",
       "10618  Default   1743.000000      new   1743.000000  20.0000  20.0000\n",
       "10787  Default   1573.000000    polic   1573.000000  19.0000  19.0000\n",
       "1521   Default   1509.000000    peopl   1509.000000  18.0000  18.0000\n",
       "844    Default   1437.000000  countri   1437.000000  17.0000  17.0000\n",
       "10512  Default   1624.000000  protest   1624.000000  16.0000  16.0000\n",
       "132    Default   1785.000000    china   1785.000000  15.0000  15.0000\n",
       "8016   Default   1112.000000     iran   1112.000000  14.0000  14.0000\n",
       "13211  Default   1447.000000        u   1447.000000  13.0000  13.0000\n",
       "8845   Default   1163.000000      000   1163.000000  12.0000  12.0000\n",
       "6992   Default    878.000000      now    878.000000  11.0000  11.0000\n",
       "17852  Default   1283.000000    state   1283.000000  10.0000  10.0000\n",
       "9703   Default   1293.000000   attack   1293.000000   9.0000   9.0000\n",
       "1095   Default   1102.000000    right   1102.000000   8.0000   8.0000\n",
       "1698   Default    817.000000   nation    817.000000   7.0000   7.0000\n",
       "10367  Default   1006.000000    north   1006.000000   6.0000   6.0000\n",
       "16599  Default   1226.000000   report   1226.000000   5.0000   5.0000\n",
       "5596   Default    918.000000      law    918.000000   4.0000   4.0000\n",
       "10712  Default   1079.000000     call   1079.000000   3.0000   3.0000\n",
       "9809   Default   1153.000000   presid   1153.000000   2.0000   2.0000\n",
       "5693   Default    909.000000     bank    909.000000   1.0000   1.0000\n",
       "...        ...           ...      ...           ...      ...      ...\n",
       "3443   Topic10      8.907057     bodi    304.740113   0.4809  -6.9412\n",
       "8337   Topic10      8.030199        7    269.023076   0.5019  -7.0448\n",
       "3035   Topic10     13.509466   ukrain    515.449318   0.3719  -6.5246\n",
       "256    Topic10     16.345494     want    659.952104   0.3153  -6.3341\n",
       "1095   Topic10     24.518881    right   1102.971891   0.2072  -5.9286\n",
       "1902   Topic10     48.253796      say   2638.603928   0.0120  -5.2515\n",
       "17852  Topic10     27.244920    state   1283.701983   0.1609  -5.8232\n",
       "13152  Topic10     12.845790   syrian    500.806471   0.3503  -6.5750\n",
       "5693   Topic10     20.383013     bank    909.391987   0.2155  -6.1133\n",
       "10787  Topic10     30.921621    polic   1573.234514   0.0841  -5.6966\n",
       "1326   Topic10     20.282011     time    911.794319   0.2078  -6.1183\n",
       "20642  Topic10     33.610184     will   1814.769614   0.0246  -5.6132\n",
       "9703   Topic10     25.476685   attack   1293.613818   0.0861  -5.8903\n",
       "16599  Topic10     24.489969   report   1226.490640   0.0999  -5.9298\n",
       "9809   Topic10     23.151617   presid   1153.500351   0.1050  -5.9860\n",
       "12330  Topic10     13.684109   canada    562.337608   0.2977  -6.5118\n",
       "2127   Topic10     94.654034        s   8595.560293  -0.4952  -4.5778\n",
       "3872   Topic10     36.761979       us   2374.827216  -0.1547  -5.5236\n",
       "12184  Topic10     18.113694      man    847.411711   0.1680  -6.2314\n",
       "1521   Topic10     26.255477    peopl   1509.638979  -0.0382  -5.8601\n",
       "7033   Topic10     34.493393     year   2340.909398  -0.2040  -5.5873\n",
       "11283  Topic10     18.010512     said    850.449984   0.1587  -6.2371\n",
       "10618  Topic10     27.758206      new   1743.502282  -0.1266  -5.8045\n",
       "13778  Topic10     83.425958        b  10997.408708  -0.8679  -4.7041\n",
       "2356   Topic10     28.894146    world   1887.838168  -0.1660  -5.7644\n",
       "132    Topic10     27.588058    china   1785.806701  -0.1567  -5.8106\n",
       "844    Topic10     23.948153  countri   1437.125670  -0.0810  -5.9521\n",
       "10512  Topic10     22.023365  protest   1624.204972  -0.2871  -6.0359\n",
       "6492   Topic10     20.566172      war   1455.118911  -0.2457  -6.1044\n",
       "8845   Topic10     19.072967      000   1163.827470  -0.0977  -6.1797\n",
       "\n",
       "[866 rows x 6 columns], token_table=       Topic      Freq    Term\n",
       "term                          \n",
       "8845       1  0.180439     000\n",
       "8845       2  0.187313     000\n",
       "8845       3  0.146929     000\n",
       "8845       4  0.141774     000\n",
       "8845       5  0.067879     000\n",
       "8845       6  0.081627     000\n",
       "8845       7  0.069598     000\n",
       "8845       8  0.069598     000\n",
       "8845       9  0.040384     000\n",
       "8845      10  0.016325     000\n",
       "17439      1  0.186996       1\n",
       "17439      2  0.184119       1\n",
       "17439      3  0.163981       1\n",
       "17439      4  0.128021       1\n",
       "17439      5  0.079114       1\n",
       "17439      6  0.069045       1\n",
       "17439      7  0.074799       1\n",
       "17439      8  0.058976       1\n",
       "17439      9  0.034522       1\n",
       "17439     10  0.020138       1\n",
       "10637      3  0.480218     178\n",
       "2748       1  0.335943     193\n",
       "11756      1  0.320762     224\n",
       "11756      2  0.320762     224\n",
       "15903      4  0.379683     345\n",
       "15903      6  0.379683     345\n",
       "8337       1  0.204443       7\n",
       "8337       2  0.141252       7\n",
       "8337       3  0.115232       7\n",
       "8337       4  0.174706       7\n",
       "...      ...       ...     ...\n",
       "2356       4  0.118125   world\n",
       "2356       5  0.057738   world\n",
       "2356       6  0.089520   world\n",
       "2356       7  0.090050   world\n",
       "2356       8  0.046614   world\n",
       "2356       9  0.036550   world\n",
       "2356      10  0.015361   world\n",
       "20140      5  0.570932    yade\n",
       "11320      5  0.558842  yahweh\n",
       "10137      1  0.322582    yair\n",
       "7033       1  0.147379    year\n",
       "7033       2  0.182835    year\n",
       "7033       3  0.155922    year\n",
       "7033       4  0.177709    year\n",
       "7033       5  0.081592    year\n",
       "7033       6  0.084155    year\n",
       "7033       7  0.063650    year\n",
       "7033       8  0.063650    year\n",
       "7033       9  0.027767    year\n",
       "7033      10  0.014524    year\n",
       "16809      1  0.557897  yezidi\n",
       "10099      2  0.504868  zaynab\n",
       "3621       1  0.066824  zelaya\n",
       "3621       2  0.133647  zelaya\n",
       "3621       3  0.133647  zelaya\n",
       "3621       4  0.133647  zelaya\n",
       "3621       5  0.066824  zelaya\n",
       "3621       6  0.066824  zelaya\n",
       "3621       7  0.267295  zelaya\n",
       "3621       8  0.066824  zelaya\n",
       "\n",
       "[2448 rows x 3 columns], R=30, lambda_step=0.01, plot_opts={'xlab': 'PC1', 'ylab': 'PC2'}, topic_order=[6, 4, 7, 1, 2, 8, 10, 9, 3, 5])"
      ]
     },
     "execution_count": 168,
     "metadata": {},
     "output_type": "execute_result"
    }
   ],
   "source": [
    "news"
   ]
  },
  {
   "cell_type": "code",
   "execution_count": null,
   "metadata": {
    "collapsed": true
   },
   "outputs": [],
   "source": []
  }
 ],
 "metadata": {
  "anaconda-cloud": {},
  "kernelspec": {
   "display_name": "Python [Root]",
   "language": "python",
   "name": "Python [Root]"
  },
  "language_info": {
   "codemirror_mode": {
    "name": "ipython",
    "version": 2
   },
   "file_extension": ".py",
   "mimetype": "text/x-python",
   "name": "python",
   "nbconvert_exporter": "python",
   "pygments_lexer": "ipython2",
   "version": "2.7.12"
  }
 },
 "nbformat": 4,
 "nbformat_minor": 0
}
